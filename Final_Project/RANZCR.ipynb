{
  "nbformat": 4,
  "nbformat_minor": 0,
  "metadata": {
    "colab": {
      "name": "RANZCR.ipynb",
      "provenance": [],
      "authorship_tag": "ABX9TyMlKsZ3Hs1/8buiAAke4u9D",
      "include_colab_link": true
    },
    "kernelspec": {
      "name": "python3",
      "display_name": "Python 3"
    }
  },
  "cells": [
    {
      "cell_type": "markdown",
      "metadata": {
        "id": "view-in-github",
        "colab_type": "text"
      },
      "source": [
        "<a href=\"https://colab.research.google.com/github/alirezash97/Machine-Learning-Course/blob/main/Final_Project/RANZCR.ipynb\" target=\"_parent\"><img src=\"https://colab.research.google.com/assets/colab-badge.svg\" alt=\"Open In Colab\"/></a>"
      ]
    },
    {
      "cell_type": "code",
      "metadata": {
        "id": "0CiPXKgnKjBy"
      },
      "source": [
        "# # trainset\r\n",
        "# !wget 'https://storage.googleapis.com/kaggle-competitions-data/kaggle-v2/23870/1781260/compressed/train.zip?GoogleAccessId=web-data@kaggle-161607.iam.gserviceaccount.com&Expires=1611411591&Signature=KZ3%2FWGkh2ZA039xwL3dP%2BK4%2FMKucow2aOTQnTKV%2BxVDTZVv3SioP%2BTtCX7NyHiwmIEYQdyuMZa25nDCrPNSiEEDwcQoFl0WEz67pD%2BrmKnfnOSXZaIqFu%2FvV1UrN0dlkMqhjr3sgjqoT8lZAINBGx7ri1PXRy%2FvMugJ0qzptND3ylqL6stz045BMDbJf%2Fj%2FW%2B1KFqWlwLWyqjqvBwJ0SaPUBbUgWAoO3R5463q0wSgpdrJEKNF48ZLt8TW0xeZJ9Xz7GeprGlpNwu5s4tEV%2Bj36aPB3I8bLyBv1KDRt%2BnCkfeortfAZA4Tjs6hRYW%2F19yY1wwe38OAKOgKtYGNC7Dg%3D%3D&response-content-disposition=attachment%3B+filename%3Dtrain.zip'\r\n",
        "\r\n",
        "# # train_tfrecords\r\n",
        "# !wget 'https://storage.googleapis.com/kaggle-competitions-data/kaggle-v2/23870/1781260/compressed/train_tfrecords.zip?GoogleAccessId=web-data@kaggle-161607.iam.gserviceaccount.com&Expires=1611411864&Signature=XOtc5Q1uoC9m6CNgKm4cf%2FMuu7npnSR6s%2BNvp56jd9QLbmcLskosCEuRTC6TSuaRIpL8d8pvaQMeQSnLRd%2BhXUzx9iyR1PBGis2JYhRz4N%2B0GhOFqJAQ6VQB1VteDClHWX1sz1HOMP4h9kheg2%2F%2FTTuPp%2Fj22NhXYJZakPdtDZdnINKTEbyUWTynJfOPQjlYt1G5lm0hV2o3%2F%2FRFaa5I7ySkIyMyBVYVRcbTl4pUZP7LbGel3TKdFkgz%2FjMOGT5r%2F%2FEAk9c7sFSvK1TSm6TLSKxJqXcesPZb5scVxL9q1zjqKhIrsl04LqJ4FmBruS6Qn4zCQwyckgo63SLSV0eGDA%3D%3D&response-content-disposition=attachment%3B+filename%3Dtrain_tfrecords.zip'\r\n",
        "\r\n",
        "# # testset\r\n",
        "# !wget 'https://storage.googleapis.com/kaggle-competitions-data/kaggle-v2/23870/1781260/compressed/test.zip?GoogleAccessId=web-data@kaggle-161607.iam.gserviceaccount.com&Expires=1611411985&Signature=SPlBo05ncQEsd8RLzLUOCGhZ49kM9hcob5WJ1vdJHtGtL6a663HEdtgbwO3mIuv7jGtZYQltdUDZv867XtyOGPuLThK1rKdebC3jRq5DPYnIQPK%2BJ0JX%2FLcTnGiuRgPsxevW0vfjlBsEmJzYHr%2BXsKU6TdOHMaAwyCSX1JVMtO32C3BrgPNujkQ7HiTJ2C7H5bK7mB1Gm0Li%2Bg2wV2IhFl6%2FqW0CvDf3v3eBp9yS8Xt4w18VV5hkebAlCtXts8VU%2BxIgGy8nwIoJSq2vsSUAqx%2BfsuZkOOLfL0YnQ9ziqinMQSuAv8TXcGUhmlz5NS%2Bmmu%2BeRsPbOW9YJw4nkixsow%3D%3D&response-content-disposition=attachment%3B+filename%3Dtest.zip'\r\n",
        "\r\n",
        "# # test_tfrecords\r\n",
        "# !wget 'https://storage.googleapis.com/kaggle-competitions-data/kaggle-v2/23870/1781260/compressed/test_tfrecords.zip?GoogleAccessId=web-data@kaggle-161607.iam.gserviceaccount.com&Expires=1611412043&Signature=qChPWagoJ3ee9%2FErHTtluS1ojjzeWYALCFY%2BZ9TlU22ED2wIe3p7N98k6RDN3re7EKft5m%2FkeHszfURu59kwAA52o7F8pkvSMXoiuRctQGue4zNza4rKmVLzyvcqbRe7KmEDqiKtT2%2BY2UPaXxc0Yk0fHqqFe%2FZSbP7mqtXFUZHoGv8vW%2BS7Y4DRMXtPNbh5tBX9vHeDNJQ2UhIDOJwzfJCNWsFX5LZBohl7%2BjtzkGee%2FWPCel%2FCbdcddj%2BAvq1CMsRx8vpxRxNnubFCxTY8daCkZm4%2Bi%2FTZl92alLXWeaWda2RcidU2X7oGLbgdYhv3fzSGbBgM18VbJTDO7L71qg%3D%3D&response-content-disposition=attachment%3B+filename%3Dtest_tfrecords.zip'\r\n",
        "\r\n",
        "# # train.csv\r\n",
        "# !wget 'https://storage.googleapis.com/kaggle-competitions-data/kaggle-v2/23870/1781260/compressed/train.csv.zip?GoogleAccessId=web-data@kaggle-161607.iam.gserviceaccount.com&Expires=1611412187&Signature=jTkQnh3uFAz%2Fjb8F9bQUyWzBU27V4Ppbn91MkjErncY3SP%2BSWsOjL5LYdBKQ%2ByKXCx0bjA3R47tVz%2FqzhSzuhjH0Z34R3wBmzEPBiqpHD0eA4IgaFRRl6a3iBaZX%2B7guELq9I29NrGWJOQrT%2FxRt4WpLoWktrYH9sKyYbGbybElywZUSKKkRjugri%2Fuuihv8hiEvurv%2FPC%2BZ7VBUUZJYmIajBNAZphW%2BfWrZq3DYv9s9ikhTck46zYNIwAP75ECfLgpY2PBDWEB8dYwk2kD6Swt2QFaxvM%2FbWxEk247lzDyffsrkuBk2x5giIG7rxyH6%2F61qgam%2BmrV9yR%2BJerFPgg%3D%3D&response-content-disposition=attachment%3B+filename%3Dtrain.csv.zip'\r\n",
        "\r\n",
        "# # submission sample\r\n",
        "# !wget \"https://www.kaggle.com/c/ranzcr-clip-catheter-line-classification/data?select=sample_submission.csv\"\r\n",
        "\r\n",
        "# # train annotations \r\n",
        "# !wget 'https://storage.googleapis.com/kaggle-competitions-data/kaggle-v2/23870/1781260/compressed/train_annotations.csv.zip?GoogleAccessId=web-data@kaggle-161607.iam.gserviceaccount.com&Expires=1611412340&Signature=jahc7gAamxwOsuTEErPHcUtXWJteRsPpgDyBWOG2ZCYIW7vx1cQLcTlM7lmmxOlyJ8SuUK3jkX3iKtnweuPEBiecJNEHv6oVMZPS9NwsRNaqYRSoECZTq0HISCIjwKOD4vK4vQeCCdhnYpQN33bamkI0QjIRkgyXTX5t%2BCuyCVaVcVsHPFQEfk2PHhg11FwOBiJpudxXOSK9IpbrbPa7RyfBvbdIN1nOY%2Bgy3IdAyx5PxtgdDriaU1KI7EbaL%2BdRxJizdjlV1tNSEuqtEOn3J18SYzH%2Fa1yB%2BR9iW81%2BAuUUF%2B4eS3rAZn3i9Q%2Fk2Ui53B70zFWmguS3rGUaXhjtqA%3D%3D&response-content-disposition=attachment%3B+filename%3Dtrain_annotations.csv.zip'\r\n"
      ],
      "execution_count": null,
      "outputs": []
    },
    {
      "cell_type": "code",
      "metadata": {
        "id": "c3f4srgdOJ53"
      },
      "source": [
        "# !mkdir /content/trainset\r\n",
        "# !unzip '/content/train.zip' -d /content/trainset/data/\r\n",
        "# !unzip '/content/train_tfrecords.zip' -d /content/trainset/tf_records/\r\n",
        "# !unzip '/content/train_annotations.csv.zip' -d /content/trainset/\r\n",
        "# !unzip '/content/train.csv.zip' -d /content/trainset/"
      ],
      "execution_count": null,
      "outputs": []
    },
    {
      "cell_type": "code",
      "metadata": {
        "id": "PvDL9xh2Qc6N"
      },
      "source": [
        "# !mkdir /content/testset\r\n",
        "# !unzip '/content/test.zip' -d /content/testset/data\r\n",
        "# !unzip '/content/test_tfrecords.zip' -d /content/testset/test_tfrecords/"
      ],
      "execution_count": null,
      "outputs": []
    },
    {
      "cell_type": "code",
      "metadata": {
        "id": "c-LgJKyRBziW"
      },
      "source": [
        "# !rm /content/test.zip\r\n",
        "# !rm /content/test_tfrecords.zip\r\n",
        "# !rm /content/train.csv.zip\r\n",
        "# !rm /content/train.zip\r\n",
        "# !rm /content/train_annotations.csv.zip\r\n",
        "# !rm /content/train_tfrecords.zip"
      ],
      "execution_count": 47,
      "outputs": []
    },
    {
      "cell_type": "code",
      "metadata": {
        "id": "RgSZrpo8RAxk"
      },
      "source": [
        ""
      ],
      "execution_count": null,
      "outputs": []
    }
  ]
}