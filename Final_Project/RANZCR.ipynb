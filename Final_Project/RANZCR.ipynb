{
  "nbformat": 4,
  "nbformat_minor": 0,
  "metadata": {
    "colab": {
      "name": "RANZCR.ipynb",
      "provenance": [],
      "authorship_tag": "ABX9TyNI20oWY7q6PrgSoCbHFVJl",
      "include_colab_link": true
    },
    "kernelspec": {
      "name": "python3",
      "display_name": "Python 3"
    },
    "accelerator": "GPU"
  },
  "cells": [
    {
      "cell_type": "markdown",
      "metadata": {
        "id": "view-in-github",
        "colab_type": "text"
      },
      "source": [
        "<a href=\"https://colab.research.google.com/github/alirezash97/Machine-Learning-Course/blob/main/Final_Project/RANZCR.ipynb\" target=\"_parent\"><img src=\"https://colab.research.google.com/assets/colab-badge.svg\" alt=\"Open In Colab\"/></a>"
      ]
    },
    {
      "cell_type": "code",
      "metadata": {
        "id": "0CiPXKgnKjBy"
      },
      "source": [
        "# # trainset\r\n",
        "# !wget 'https://storage.googleapis.com/kaggle-competitions-data/kaggle-v2/23870/1781260/compressed/train.zip?GoogleAccessId=web-data@kaggle-161607.iam.gserviceaccount.com&Expires=1611834692&Signature=sba7KapwtOseu8Fj6Yoyj1tjmhrhBCXWKvdhdOhUWlIapQjsjY6Vw8uT6L7WpLutCsA%2B5y8NN59YMso50eX6tYCai72huJ1CQtpVtr9uZPR9tWuuOYFin8%2BslEGSXVgwooUHZnjUQJppXMxfS7hi70UJqdaiAiIpPv18ILPBG39TBBuOiYgCs%2Bu2yM28dJ5sh3eHjJOElA83FsX4bL8h3PimMScR4sTLaqETj%2Bm0haY%2FjS8fdAeKuSDifxD40RmJz99UsHHkmt%2FWaKWGX5YXlVfwr8rN6pH10CZQ%2FCpQvyRvlkB1CpMiqdl8UrLzukLzdrgrAAp0PiXKwnzrwU%2B7Jw%3D%3D&response-content-disposition=attachment%3B+filename%3Dtrain.zip'\r\n",
        "\r\n",
        "# train_tfrecords\r\n",
        "# !wget 'https://storage.googleapis.com/kaggle-competitions-data/kaggle-v2/23870/1781260/compressed/train_tfrecords.zip?GoogleAccessId=web-data@kaggle-161607.iam.gserviceaccount.com&Expires=1611835011&Signature=OBxBwfMr9c0gB7Qmiiv9lGIHSqsT2ocsodWh1H56xb%2FYMBjLkiPKxiDXMBPnvOnaUGhMmKTmlpK06O8721DFO1hCNrq9757gZrxaVpm4400ABhzZ86NgLyLfC7Zse6GUlByeDrdd2Dk6KwI%2BjHFPg4TFFov3DW13I2%2FKw9h22tNbssdkfTA7OZgll1EW9Ynh6g%2F2ULQrmTtjkfdLbObPyniLEA5vHLXnK0ySw%2FaNS%2BCICHgGf4ECYqmrdWvzm8uDBrhrDs%2BwEwyMVTa4ZqnI0AS8FoMHexQV5yxbfUmihUDArft4QXrSnyCakAjaPHbknW2gyBfkmE%2FP0AHXAMx7Cg%3D%3D&response-content-disposition=attachment%3B+filename%3Dtrain_tfrecords.zip'\r\n",
        "\r\n",
        "# # testset\r\n",
        "# !wget 'https://storage.googleapis.com/kaggle-competitions-data/kaggle-v2/23870/1781260/compressed/test.zip?GoogleAccessId=web-data@kaggle-161607.iam.gserviceaccount.com&Expires=1611411985&Signature=SPlBo05ncQEsd8RLzLUOCGhZ49kM9hcob5WJ1vdJHtGtL6a663HEdtgbwO3mIuv7jGtZYQltdUDZv867XtyOGPuLThK1rKdebC3jRq5DPYnIQPK%2BJ0JX%2FLcTnGiuRgPsxevW0vfjlBsEmJzYHr%2BXsKU6TdOHMaAwyCSX1JVMtO32C3BrgPNujkQ7HiTJ2C7H5bK7mB1Gm0Li%2Bg2wV2IhFl6%2FqW0CvDf3v3eBp9yS8Xt4w18VV5hkebAlCtXts8VU%2BxIgGy8nwIoJSq2vsSUAqx%2BfsuZkOOLfL0YnQ9ziqinMQSuAv8TXcGUhmlz5NS%2Bmmu%2BeRsPbOW9YJw4nkixsow%3D%3D&response-content-disposition=attachment%3B+filename%3Dtest.zip'\r\n",
        "\r\n",
        "# # test_tfrecords\r\n",
        "# !wget 'https://storage.googleapis.com/kaggle-competitions-data/kaggle-v2/23870/1781260/compressed/test_tfrecords.zip?GoogleAccessId=web-data@kaggle-161607.iam.gserviceaccount.com&Expires=1611412043&Signature=qChPWagoJ3ee9%2FErHTtluS1ojjzeWYALCFY%2BZ9TlU22ED2wIe3p7N98k6RDN3re7EKft5m%2FkeHszfURu59kwAA52o7F8pkvSMXoiuRctQGue4zNza4rKmVLzyvcqbRe7KmEDqiKtT2%2BY2UPaXxc0Yk0fHqqFe%2FZSbP7mqtXFUZHoGv8vW%2BS7Y4DRMXtPNbh5tBX9vHeDNJQ2UhIDOJwzfJCNWsFX5LZBohl7%2BjtzkGee%2FWPCel%2FCbdcddj%2BAvq1CMsRx8vpxRxNnubFCxTY8daCkZm4%2Bi%2FTZl92alLXWeaWda2RcidU2X7oGLbgdYhv3fzSGbBgM18VbJTDO7L71qg%3D%3D&response-content-disposition=attachment%3B+filename%3Dtest_tfrecords.zip'\r\n",
        "\r\n",
        "# # train.csv\r\n",
        "# !wget 'https://storage.googleapis.com/kaggle-competitions-data/kaggle-v2/23870/1781260/compressed/train.csv.zip?GoogleAccessId=web-data@kaggle-161607.iam.gserviceaccount.com&Expires=1611835399&Signature=C%2BMv6EdZSpBiCXddrVIhCx0r%2Bkrol9LSH92UL0YXN11VmU8hiYzL%2BTJJMQE2KHJsk7t8s7yFKbZcNvafDmNxkqeD%2BizlVzV1MuP5mTX9jiN30Qam75Ypsmgy5S3hr6%2FxKHalbL5I0VQgeh1mo4Umygb5K91MYwd3sM7wekYTvYEGgDbFF%2BFWk7jCZDIbSuW51pB0q%2FvKhWoh75jZnIlGW48xu2Em1nI5V%2Bfasxh72ezVX5N44X6Ts%2F71sOwfngPwWLkY3cIV3ksBHcuGgWPIbn0usX1CnBOXWtcuu0qbuPqlF3Sh6j31NXbHdjfXj3HZVMT7RNGjCODY2%2Bsk%2FyW48w%3D%3D&response-content-disposition=attachment%3B+filename%3Dtrain.csv.zip'\r\n",
        "\r\n",
        "# # submission sample\r\n",
        "# !wget \"https://www.kaggle.com/c/ranzcr-clip-catheter-line-classification/data?select=sample_submission.csv\"\r\n",
        "\r\n",
        "# # train annotations \r\n",
        "# !wget 'https://storage.googleapis.com/kaggle-competitions-data/kaggle-v2/23870/1781260/compressed/train_annotations.csv.zip?GoogleAccessId=web-data@kaggle-161607.iam.gserviceaccount.com&Expires=1611835498&Signature=DftuTDD7S8H3eTfh%2FLQA50BWtL%2BSATrjxebLTtDXUMN9g4XyzYqCLy6C1pzb9ilL9tS23LI5tUf69e%2B5DxhY2SZBwyQXGss8H69%2F8yewJee93tSn1Asl3z19ExCzGji0rOmritXmVNuLhzApyK6KOw86NfL5pGrXhuBo%2FYSwPDsLpdnYcLsh7m09xfgjtci%2FomGFy3j6hhZxIJyYOwol9wYRWlOFFEtxq0lQ1l8BSv6O6Z1Yl9WV%2FzIV%2FJwA1YUYtHpeAENoGutDAfOAS7ogALme3KOgDMsK4Zv3uJ9Ofkamhz1sMM8g61gdug%2BBpKZY0xmJrrsLQ4NfEL09zRUmaA%3D%3D&response-content-disposition=attachment%3B+filename%3Dtrain_annotations.csv.zip'\r\n"
      ],
      "execution_count": null,
      "outputs": []
    },
    {
      "cell_type": "code",
      "metadata": {
        "id": "c3f4srgdOJ53",
        "colab": {
          "base_uri": "https://localhost:8080/"
        },
        "outputId": "3ea5d20b-6960-4916-fea2-be3979f6145c"
      },
      "source": [
        "# !mkdir /content/trainset\r\n",
        "# !mkdir /content/trainset/data/\r\n",
        "# !mkdir /content/trainset/data/1/\r\n",
        "# !unzip '/content/train.zip' -d /content/trainset/data/1/\r\n",
        "# !unzip '/content/train_tfrecords.zip' -d /content/trainset/tf_records/\r\n",
        "# !unzip '/content/train_annotations.csv.zip' -d /content/trainset/\r\n",
        "# !unzip '/content/train.csv.zip' -d /content/trainset/"
      ],
      "execution_count": 4,
      "outputs": [
        {
          "output_type": "stream",
          "text": [
            "Archive:  /content/train.csv.zip\n",
            "  inflating: /content/trainset/train.csv  \n"
          ],
          "name": "stdout"
        }
      ]
    },
    {
      "cell_type": "code",
      "metadata": {
        "id": "PvDL9xh2Qc6N"
      },
      "source": [
        "# !mkdir /content/testset\r\n",
        "# !unzip '/content/test.zip' -d /content/testset/data\r\n",
        "# !unzip '/content/test_tfrecords.zip' -d /content/testset/test_tfrecords/"
      ],
      "execution_count": null,
      "outputs": []
    },
    {
      "cell_type": "code",
      "metadata": {
        "id": "c-LgJKyRBziW"
      },
      "source": [
        "# !rm /content/test.zip\r\n",
        "# !rm /content/test_tfrecords.zip\r\n",
        "# !rm /content/train.csv.zip\r\n",
        "# !rm /content/train.zip\r\n",
        "# !rm /content/train_annotations.csv.zip\r\n",
        "# !rm /content/train_tfrecords.zip\r\n",
        "# !rm -rf /content/trainset/data/1"
      ],
      "execution_count": null,
      "outputs": []
    },
    {
      "cell_type": "code",
      "metadata": {
        "id": "tPQAQU7ncDsr"
      },
      "source": [
        "import pandas as pd \r\n",
        "# sample_submission = pd.read_csv('/content/sample_submission.csv')\r\n",
        "# sample_submission.head()"
      ],
      "execution_count": 1,
      "outputs": []
    },
    {
      "cell_type": "code",
      "metadata": {
        "colab": {
          "base_uri": "https://localhost:8080/"
        },
        "id": "ikRE9MDNnQGK",
        "outputId": "19306bf7-f784-448f-e648-8fcd45211d6b"
      },
      "source": [
        "train_csv = pd.read_csv('/content/trainset/train.csv')\r\n",
        "images_names = train_csv['StudyInstanceUID']\r\n",
        "len(images_names)"
      ],
      "execution_count": 2,
      "outputs": [
        {
          "output_type": "execute_result",
          "data": {
            "text/plain": [
              "30083"
            ]
          },
          "metadata": {
            "tags": []
          },
          "execution_count": 2
        }
      ]
    },
    {
      "cell_type": "code",
      "metadata": {
        "id": "sLHK1Y7rwgby"
      },
      "source": [
        "from __future__ import print_function, division\r\n",
        "import os\r\n",
        "import torch\r\n",
        "import pandas as pd\r\n",
        "import torchvision\r\n",
        "from skimage import io, transform\r\n",
        "import numpy as np\r\n",
        "import matplotlib.pyplot as plt\r\n",
        "from torch.utils.data import Dataset, DataLoader\r\n",
        "from torchvision import transforms, utils"
      ],
      "execution_count": 3,
      "outputs": []
    },
    {
      "cell_type": "code",
      "metadata": {
        "id": "oD6dPyTlt_lR"
      },
      "source": [
        "class RANZCRDataset(Dataset):\r\n",
        "\r\n",
        "\r\n",
        "    def __init__(self, csv_file='/content/trainset/train.csv', root_dir='/content/trainset/data/1', transform=None):\r\n",
        "        \"\"\"\r\n",
        "        Args:\r\n",
        "            csv_file (string): Path to the csv file with annotations.\r\n",
        "            root_dir (string): Directory with all the images.\r\n",
        "            transform (callable, optional): Optional transform to be applied\r\n",
        "                on a sample.\r\n",
        "        \"\"\"\r\n",
        "        self.Images_name = pd.read_csv(csv_file)\r\n",
        "        self.root_dir = root_dir\r\n",
        "        self.transform = transforms.Compose([transforms.Normalize(0.5, 0.5), \r\n",
        "                                             transforms.CenterCrop(2048),\r\n",
        "                                transforms.Resize((2048, 2048))])\r\n",
        "\r\n",
        "    def __len__(self):\r\n",
        "        return len(self.Images_name)\r\n",
        "\r\n",
        "    def __getitem__(self, idx):\r\n",
        "        if torch.is_tensor(idx):\r\n",
        "            idx = idx.tolist()\r\n",
        "\r\n",
        "        img_name = os.path.join(self.root_dir,\r\n",
        "                                self.Images_name.iloc[idx, 0])\r\n",
        "        image = io.imread(img_name + '.jpg')\r\n",
        "        image = np.expand_dims(image, axis=0)\r\n",
        "        labels = self.Images_name.iloc[idx, 1:-1].values\r\n",
        "        labels = labels.astype(np.int)\r\n",
        "        labels = torch.from_numpy(labels)\r\n",
        "        sample = {'image': np.array(image), 'label': labels }\r\n",
        "\r\n",
        "\r\n",
        "        if self.transform:\r\n",
        "            sample['image'] = self.transform(torch.from_numpy(np.array(sample['image'], dtype=float)))\r\n",
        "\r\n",
        "        return sample"
      ],
      "execution_count": 4,
      "outputs": []
    },
    {
      "cell_type": "code",
      "metadata": {
        "id": "RgSZrpo8RAxk"
      },
      "source": [
        "import torch\r\n",
        "from torchvision import datasets, transforms\r\n",
        "import torch.nn.functional as F\r\n",
        "\r\n",
        "\r\n",
        "transform = transforms.Compose([transforms.Normalize(0.5, 0.5),\r\n",
        "                                transforms.CenterCrop(2048),\r\n",
        "                                transforms.Resize((2048, 2048))])\r\n",
        "\r\n",
        "\r\n",
        "trainset = RANZCRDataset(csv_file='/content/trainset/train.csv',\r\n",
        "                                    root_dir='/content/trainset/data/1', transform=transform)\r\n",
        "\r\n",
        "\r\n",
        "train_data_loader = torch.utils.data.DataLoader(trainset,\r\n",
        "                                          batch_size=4,\r\n",
        "                                          shuffle=True,\r\n",
        "                                          num_workers=0)"
      ],
      "execution_count": 5,
      "outputs": []
    },
    {
      "cell_type": "code",
      "metadata": {
        "colab": {
          "base_uri": "https://localhost:8080/",
          "height": 203
        },
        "id": "8muYGHBGwZen",
        "outputId": "7b956562-6653-480a-9e50-ab835223e1ba"
      },
      "source": [
        "def imshow(img):\r\n",
        "    npimg = img.numpy()\r\n",
        "    # plt.imshow(np.transpose(npimg, (1, 2, 0)))\r\n",
        "    plt.imshow((np.transpose(npimg, (1, 2, 0)) * 255).astype(np.uint8))\r\n",
        "    plt.show()\r\n",
        "\r\n",
        "\r\n",
        "# get some random training images\r\n",
        "dataiter = iter(train_data_loader)\r\n",
        "sample = dataiter.next()\r\n",
        "imshow(torchvision.utils.make_grid(sample['image']))\r\n",
        "print(sample['label'])\r\n"
      ],
      "execution_count": 6,
      "outputs": [
        {
          "output_type": "display_data",
          "data": {
            "image/png": "[encoded data removed]",
            "text/plain": [
              "<Figure size 432x288 with 1 Axes>"
            ]
          },
          "metadata": {
            "tags": [],
            "needs_background": "light"
          }
        },
        {
          "output_type": "stream",
          "text": [
            "tensor([[0, 0, 0, 0, 0, 0, 0, 1, 0, 0, 0],\n",
            "        [0, 0, 0, 0, 0, 0, 1, 0, 0, 1, 0],\n",
            "        [0, 0, 1, 0, 0, 0, 1, 0, 0, 1, 0],\n",
            "        [0, 1, 0, 0, 0, 0, 1, 0, 0, 1, 1]])\n"
          ],
          "name": "stdout"
        }
      ]
    },
    {
      "cell_type": "code",
      "metadata": {
        "id": "KLymbGLgMpu_"
      },
      "source": [
        "import torch.nn as nn\r\n",
        "import torch.nn.functional as F \r\n",
        "\r\n",
        "class Network(nn.Module):\r\n",
        "  \r\n",
        "  def __init__(self):\r\n",
        "    super(Network, self).__init__()\r\n",
        "    self.conv1 = nn.Conv2d(1, 8, 3)\r\n",
        "    self.pool2 = nn.MaxPool2d(2, 2)\r\n",
        "    self.conv2 = nn.Conv2d(8, 16, 5)\r\n",
        "    self.pool3 = nn.MaxPool2d(3, 3)\r\n",
        "    self.conv3 = nn.Conv2d(16, 64, 6)\r\n",
        "    self.conv4 = nn.Conv2d(64, 128, 6)\r\n",
        "    self.fc1 = nn.Linear(128 * 81 * 81, 1024)\r\n",
        "    self.fc2 = nn.Linear(1024, 512)\r\n",
        "    self.fc3 = nn.Linear(512, 11)\r\n",
        "\r\n",
        "  def forward(self, x):\r\n",
        "    x = self.pool3(F.relu(self.conv1(x)))\r\n",
        "    x = self.pool2(F.relu(self.conv2(x)))\r\n",
        "    x = self.pool2(F.relu(self.conv3(x)))\r\n",
        "    x = self.pool2(F.relu(self.conv4(x)))\r\n",
        "    x = x.view(-1, 128 * 81 * 81)\r\n",
        "    x = F.relu(self.fc1(x))\r\n",
        "    x = F.relu(self.fc2(x))\r\n",
        "    x = self.fc3(x)\r\n",
        "    return x\r\n",
        "\r\n",
        "Network = Network()"
      ],
      "execution_count": 7,
      "outputs": []
    },
    {
      "cell_type": "code",
      "metadata": {
        "id": "6F8h5at-Ynoc"
      },
      "source": [
        "\r\n",
        "import torch.optim as optim\r\n",
        "\r\n",
        "\r\n",
        "loss_function = nn.MSELoss()\r\n",
        "optimizer = optim.SGD(Network.parameters(), lr = 0.001, momentum = 0.9)"
      ],
      "execution_count": 8,
      "outputs": []
    },
    {
      "cell_type": "code",
      "metadata": {
        "colab": {
          "base_uri": "https://localhost:8080/"
        },
        "id": "WjwmUvBRYqR6",
        "outputId": "d563b439-7665-4f72-9a7d-1857eac58818"
      },
      "source": [
        "for epoch in range(1):\r\n",
        "\r\n",
        "  running_loss = 0.0\r\n",
        "  for i, data in enumerate(train_data_loader, 0):\r\n",
        "    \r\n",
        "    inputs = data['image'].float()\r\n",
        "    label = data['label'].float()\r\n",
        "    optimizer.zero_grad()\r\n",
        "    outputs = Network(inputs)\r\n",
        "    loss = loss_function(outputs, label)\r\n",
        "    loss.backward()\r\n",
        "    optimizer.step()\r\n",
        "\r\n",
        "\r\n",
        "    # running_loss += loss.item()\r\n",
        "    running_loss = loss.item()\r\n",
        "    # if i % 2000 == 1999:\r\n",
        "    print('[%d, %5d] loss: %.3f' %( epoch + 1, i + 1, running_loss))\r\n",
        "    # running_loss = 0.0\r\n",
        "    \r\n",
        "print('Finished Training Network')"
      ],
      "execution_count": null,
      "outputs": [
        {
          "output_type": "stream",
          "text": [
            "[1,     1] loss: 0.726\n"
          ],
          "name": "stdout"
        }
      ]
    },
    {
      "cell_type": "code",
      "metadata": {
        "id": "cbxvV1q6aAXb"
      },
      "source": [
        ""
      ],
      "execution_count": null,
      "outputs": []
    }
  ]
}