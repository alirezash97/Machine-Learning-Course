{
  "nbformat": 4,
  "nbformat_minor": 0,
  "metadata": {
    "colab": {
      "name": "RANZCR.ipynb",
      "provenance": [],
      "include_colab_link": true
    },
    "kernelspec": {
      "name": "python3",
      "display_name": "Python 3"
    },
    "accelerator": "GPU"
  },
  "cells": [
    {
      "cell_type": "markdown",
      "metadata": {
        "id": "view-in-github",
        "colab_type": "text"
      },
      "source": [
        "<a href=\"https://colab.research.google.com/github/alirezash97/Machine-Learning-Course/blob/main/Final_Project/RANZCR_fine_tune.ipynb\" target=\"_parent\"><img src=\"https://colab.research.google.com/assets/colab-badge.svg\" alt=\"Open In Colab\"/></a>"
      ]
    },
    {
      "cell_type": "code",
      "metadata": {
        "id": "lTBBnTu6fgXp",
        "colab": {
          "base_uri": "https://localhost:8080/"
        },
        "outputId": "360be255-517a-4f87-8c4f-6553aa6240a3"
      },
      "source": [
        "# from google.colab import drive\n",
        "# drive.mount('/content/drive')"
      ],
      "execution_count": 1,
      "outputs": [
        {
          "output_type": "stream",
          "text": [
            "Mounted at /content/drive\n"
          ],
          "name": "stdout"
        }
      ]
    },
    {
      "cell_type": "code",
      "metadata": {
        "id": "0CiPXKgnKjBy"
      },
      "source": [
        "# # # # trainset\r\n",
        "# !wget 'https://storage.googleapis.com/kaggle-competitions-data/kaggle-v2/23870/1781260/compressed/train.zip?GoogleAccessId=web-data@kaggle-161607.iam.gserviceaccount.com&Expires=1612356291&Signature=Y0prr2JieE4gY4AM9EwN3MiMCxiaLjN2t5v6pD%2Fn08VSNiJWS2iNK%2FQAaQOeRAnH578jfJmQA8hdCRgLL6yz2NUuXRz3Vey0DlcexHiEQLn5eqUeDlFx9Z76zxf6KNd%2BLxxwofJzbJrwI2OMoC2tb26jlASakwqFUaX14f5U9pJ2Ct9Nw6%2Bf515mtCUtmX1qroNRLXjWuUvFRT%2FmZQKj54raaqr2%2BhTYSYYEB8tuEDAi11p9U6tniCKX%2B%2BEbV%2B4RLCGZQRjtlt5%2FfadwcVLbSpcBp%2BrNaMZEOz2A8jwJNpmWXHemo%2FARNnobvn7WIKvSVHDrZ%2FZ61gbEWVaOk0xz5w%3D%3D&response-content-disposition=attachment%3B+filename%3Dtrain.zip'\r\n",
        "\r\n",
        "# # # train_tfrecords\r\n",
        "# # # !wget 'https://storage.googleapis.com/kaggle-competitions-data/kaggle-v2/23870/1781260/compressed/train_tfrecords.zip?GoogleAccessId=web-data@kaggle-161607.iam.gserviceaccount.com&Expires=1611835011&Signature=OBxBwfMr9c0gB7Qmiiv9lGIHSqsT2ocsodWh1H56xb%2FYMBjLkiPKxiDXMBPnvOnaUGhMmKTmlpK06O8721DFO1hCNrq9757gZrxaVpm4400ABhzZ86NgLyLfC7Zse6GUlByeDrdd2Dk6KwI%2BjHFPg4TFFov3DW13I2%2FKw9h22tNbssdkfTA7OZgll1EW9Ynh6g%2F2ULQrmTtjkfdLbObPyniLEA5vHLXnK0ySw%2FaNS%2BCICHgGf4ECYqmrdWvzm8uDBrhrDs%2BwEwyMVTa4ZqnI0AS8FoMHexQV5yxbfUmihUDArft4QXrSnyCakAjaPHbknW2gyBfkmE%2FP0AHXAMx7Cg%3D%3D&response-content-disposition=attachment%3B+filename%3Dtrain_tfrecords.zip'\r\n",
        "\r\n",
        "# # # # testset\r\n",
        "# # !wget 'https://storage.googleapis.com/kaggle-competitions-data/kaggle-v2/23870/1781260/compressed/test.zip?GoogleAccessId=web-data@kaggle-161607.iam.gserviceaccount.com&Expires=1611411985&Signature=SPlBo05ncQEsd8RLzLUOCGhZ49kM9hcob5WJ1vdJHtGtL6a663HEdtgbwO3mIuv7jGtZYQltdUDZv867XtyOGPuLThK1rKdebC3jRq5DPYnIQPK%2BJ0JX%2FLcTnGiuRgPsxevW0vfjlBsEmJzYHr%2BXsKU6TdOHMaAwyCSX1JVMtO32C3BrgPNujkQ7HiTJ2C7H5bK7mB1Gm0Li%2Bg2wV2IhFl6%2FqW0CvDf3v3eBp9yS8Xt4w18VV5hkebAlCtXts8VU%2BxIgGy8nwIoJSq2vsSUAqx%2BfsuZkOOLfL0YnQ9ziqinMQSuAv8TXcGUhmlz5NS%2Bmmu%2BeRsPbOW9YJw4nkixsow%3D%3D&response-content-disposition=attachment%3B+filename%3Dtest.zip'\r\n",
        "\r\n",
        "# # # # test_tfrecords\r\n",
        "# # # !wget 'https://storage.googleapis.com/kaggle-competitions-data/kaggle-v2/23870/1781260/compressed/test_tfrecords.zip?GoogleAccessId=web-data@kaggle-161607.iam.gserviceaccount.com&Expires=1611412043&Signature=qChPWagoJ3ee9%2FErHTtluS1ojjzeWYALCFY%2BZ9TlU22ED2wIe3p7N98k6RDN3re7EKft5m%2FkeHszfURu59kwAA52o7F8pkvSMXoiuRctQGue4zNza4rKmVLzyvcqbRe7KmEDqiKtT2%2BY2UPaXxc0Yk0fHqqFe%2FZSbP7mqtXFUZHoGv8vW%2BS7Y4DRMXtPNbh5tBX9vHeDNJQ2UhIDOJwzfJCNWsFX5LZBohl7%2BjtzkGee%2FWPCel%2FCbdcddj%2BAvq1CMsRx8vpxRxNnubFCxTY8daCkZm4%2Bi%2FTZl92alLXWeaWda2RcidU2X7oGLbgdYhv3fzSGbBgM18VbJTDO7L71qg%3D%3D&response-content-disposition=attachment%3B+filename%3Dtest_tfrecords.zip'\r\n",
        "\r\n",
        "# # # # train.csv\r\n",
        "# !wget 'https://storage.googleapis.com/kaggle-competitions-data/kaggle-v2/23870/1781260/compressed/train.csv.zip?GoogleAccessId=web-data@kaggle-161607.iam.gserviceaccount.com&Expires=1612356318&Signature=lh2uk0xwhvoC1FXe2IXtIRGKI4Oj%2FW%2F1Vdir6z%2FUbcCD6HsUCsGJu0eZmiUu1EQYDxv%2B6QWeA1Z5tev2fJTAsp9fAuSkbMRQfCclKgvV5bH5lcBdGkCAQAye6gMUIb6%2BXVMtSS6gQnCNjLisommB6%2BYqVeFcnATyLRxplrNPdxoQYMnOgJQKDWPqAvH0HAoYRzJVat%2BB19DXVFyQQHXc8Hdwv537NLHwDLNuI3F%2BM40PjpuIGPxEcRqVy%2Bj0RGFG5A1%2FgeylicvBq7j0%2FJ0ixo5nix%2FK1GyY7n%2FTOdIKV8rGYNrV1zhi2oGb2SoODfJ1FrmcGu6ikcYetp5ixDlOZg%3D%3D&response-content-disposition=attachment%3B+filename%3Dtrain.csv.zip'\r\n",
        "\r\n",
        "# # # # submission sample\r\n",
        "# # # !wget \"https://www.kaggle.com/c/ranzcr-clip-catheter-line-classification/data?select=sample_submission.csv\"\r\n",
        "\r\n",
        "# # # # train annotations \r\n",
        "# # # !wget 'https://storage.googleapis.com/kaggle-competitions-data/kaggle-v2/23870/1781260/compressed/train_annotations.csv.zip?GoogleAccessId=web-data@kaggle-161607.iam.gserviceaccount.com&Expires=1611835498&Signature=DftuTDD7S8H3eTfh%2FLQA50BWtL%2BSATrjxebLTtDXUMN9g4XyzYqCLy6C1pzb9ilL9tS23LI5tUf69e%2B5DxhY2SZBwyQXGss8H69%2F8yewJee93tSn1Asl3z19ExCzGji0rOmritXmVNuLhzApyK6KOw86NfL5pGrXhuBo%2FYSwPDsLpdnYcLsh7m09xfgjtci%2FomGFy3j6hhZxIJyYOwol9wYRWlOFFEtxq0lQ1l8BSv6O6Z1Yl9WV%2FzIV%2FJwA1YUYtHpeAENoGutDAfOAS7ogALme3KOgDMsK4Zv3uJ9Ofkamhz1sMM8g61gdug%2BBpKZY0xmJrrsLQ4NfEL09zRUmaA%3D%3D&response-content-disposition=attachment%3B+filename%3Dtrain_annotations.csv.zip'\r\n"
      ],
      "execution_count": null,
      "outputs": []
    },
    {
      "cell_type": "code",
      "metadata": {
        "id": "c3f4srgdOJ53"
      },
      "source": [
        "# !mkdir /content/trainset\r\n",
        "# !mkdir /content/trainset/data/\r\n",
        "# !mkdir /content/trainset/data/1/\r\n",
        "# !unzip '/content/train.zip' -d /content/trainset/data/1/\r\n",
        "# # # # !unzip '/content/train_tfrecords.zip' -d /content/trainset/tf_records/\r\n",
        "# # # # !unzip '/content/train_annotations.csv.zip' -d /content/trainset/\r\n",
        "# !unzip '/content/train.csv.zip' -d /content/trainset/"
      ],
      "execution_count": null,
      "outputs": []
    },
    {
      "cell_type": "code",
      "metadata": {
        "id": "PvDL9xh2Qc6N"
      },
      "source": [
        "# !mkdir /content/testset\r\n",
        "# !unzip '/content/test.zip' -d /content/testset/data\r\n",
        "# !unzip '/content/test_tfrecords.zip' -d /content/testset/test_tfrecords/"
      ],
      "execution_count": null,
      "outputs": []
    },
    {
      "cell_type": "code",
      "metadata": {
        "id": "c-LgJKyRBziW"
      },
      "source": [
        "# !rm /content/test.zip\r\n",
        "# !rm /content/test_tfrecords.zip\r\n",
        "# !rm /content/train.csv.zip\r\n",
        "# !rm /content/train.zip\r\n",
        "# !rm /content/train_annotations.csv.zip\r\n",
        "# !rm /content/train_tfrecords.zip\r\n",
        "# !rm -rf /content/trainset/data/1"
      ],
      "execution_count": null,
      "outputs": []
    },
    {
      "cell_type": "code",
      "metadata": {
        "id": "tPQAQU7ncDsr"
      },
      "source": [
        "import pandas as pd \r\n",
        "import numpy as np\r\n",
        "# sample_submission = pd.read_csv('/content/sample_submission.csv')\r\n",
        "# sample_submission.head()"
      ],
      "execution_count": 1,
      "outputs": []
    },
    {
      "cell_type": "code",
      "metadata": {
        "id": "ikRE9MDNnQGK"
      },
      "source": [
        "train_csv = pd.read_csv('/content/trainset/train.csv')"
      ],
      "execution_count": 2,
      "outputs": []
    },
    {
      "cell_type": "code",
      "metadata": {
        "id": "EgM8GN2e1izJ"
      },
      "source": [
        "def sampling(trainset, sample_per_class):\r\n",
        "  \r\n",
        "\r\n",
        "    index_list = []\r\n",
        "    validation_index_list = []\r\n",
        "    threshold = np.full((12, ), sample_per_class)\r\n",
        "    for index, row in train_csv.iterrows():\r\n",
        "        sample = row[1:-1].values\r\n",
        "        flag = True\r\n",
        "        for i in range(11):\r\n",
        "            if threshold[i] > 0 :\r\n",
        "              if sample[i] == 1:\r\n",
        "                flag = False\r\n",
        "                threshold[i] -= 1\r\n",
        "                index_list.append(index)\r\n",
        "                break\r\n",
        "                \r\n",
        "              else:\r\n",
        "                pass  \r\n",
        "            else:\r\n",
        "              pass\r\n",
        "        if flag:\r\n",
        "          if threshold[11] > 0:\r\n",
        "            threshold[11] -= 1  \r\n",
        "            index_list.append(index) \r\n",
        "        else:\r\n",
        "            validation_index_list.append(index)\r\n",
        "\r\n",
        "\r\n",
        "    return index_list, validation_index_list\r\n",
        "\r\n"
      ],
      "execution_count": 3,
      "outputs": []
    },
    {
      "cell_type": "code",
      "metadata": {
        "id": "RLVFb6FLPtEH",
        "colab": {
          "base_uri": "https://localhost:8080/"
        },
        "outputId": "116acd72-e6ac-4332-9d79-3878980b1379"
      },
      "source": [
        "len(train_csv)"
      ],
      "execution_count": 4,
      "outputs": [
        {
          "output_type": "execute_result",
          "data": {
            "text/plain": [
              "30083"
            ]
          },
          "metadata": {
            "tags": []
          },
          "execution_count": 4
        }
      ]
    },
    {
      "cell_type": "code",
      "metadata": {
        "colab": {
          "base_uri": "https://localhost:8080/"
        },
        "id": "5UdhB_tN9XpN",
        "outputId": "d32db6b5-75ca-48fc-d01d-55d3d7f21497"
      },
      "source": [
        "sampled_index, validation_index = sampling(train_csv, 10)\r\n",
        "validation_names =train_csv.iloc[validation_index, :]\r\n",
        "print(len(validation_names))\r\n",
        "images_name =train_csv.iloc[sampled_index, :]\r\n",
        "len(images_name)"
      ],
      "execution_count": 5,
      "outputs": [
        {
          "output_type": "stream",
          "text": [
            "110\n"
          ],
          "name": "stdout"
        },
        {
          "output_type": "execute_result",
          "data": {
            "text/plain": [
              "120"
            ]
          },
          "metadata": {
            "tags": []
          },
          "execution_count": 5
        }
      ]
    },
    {
      "cell_type": "code",
      "metadata": {
        "id": "sLHK1Y7rwgby"
      },
      "source": [
        "from __future__ import print_function, division\r\n",
        "import os\r\n",
        "import torch\r\n",
        "import pandas as pd\r\n",
        "import torchvision\r\n",
        "from skimage import io, transform\r\n",
        "import numpy as np\r\n",
        "import matplotlib.pyplot as plt\r\n",
        "from torch.utils.data import Dataset, DataLoader\r\n",
        "from torchvision import transforms, utils"
      ],
      "execution_count": 6,
      "outputs": []
    },
    {
      "cell_type": "code",
      "metadata": {
        "id": "jUnroASw1rgR"
      },
      "source": [
        "# we calculate dataset mean and standard derivation only once \r\n",
        "\r\n",
        "\r\n",
        "# from tqdm import tqdm \r\n",
        "\r\n",
        "# dataset = datasets.ImageFolder('/content/trainset/data', transform=transforms.Compose([transforms.Resize((512, 512)),\r\n",
        "#                                                                                        transforms.ToTensor()]))\r\n",
        "\r\n",
        "# loader = torch.utils.data.DataLoader(dataset,\r\n",
        "#                          batch_size=10,\r\n",
        "#                          num_workers=0,\r\n",
        "#                          shuffle=False)\r\n",
        "\r\n",
        "# var = 0.0\r\n",
        "# mean = 0.0\r\n",
        "# for i, data in tqdm(enumerate(loader)):\r\n",
        "#     images = data[0]\r\n",
        "#     batch_samples = images.size(0) \r\n",
        "#     images = images.view(batch_samples, images.size(1), -1)\r\n",
        "#     mean += images.mean(2).sum(0)\r\n",
        "#     var += ((images - mean.unsqueeze(1))**2).sum([0,2])\r\n",
        "# std = torch.sqrt(var / (len(loader.dataset)*224*224))\r\n",
        "# mean = mean / len(loader.dataset)\r\n",
        "\r\n",
        "# print('dataset mean: ', mean)\r\n",
        "# print('dataset std: ', std)"
      ],
      "execution_count": null,
      "outputs": []
    },
    {
      "cell_type": "code",
      "metadata": {
        "id": "XaxSOFwmBeWS"
      },
      "source": [
        "# these results are calculated using above cell \r\n",
        "\r\n",
        "mean = np.array([0.4823, 0.4823, 0.4823])\r\n",
        "std = np.array([0.191473164, 0.191473164, 0.191473164])\r\n",
        "\r\n",
        "\r\n",
        "# mean = np.array([0.4823])\r\n",
        "# std = np.array([19147.3164])\r\n",
        "# mean = np.array([0.4823])\r\n",
        "# std = np.array([0.5])\r\n",
        "# mean = np.array([0.5057, 0.5057, 0.5057])\r\n",
        "# std = np.array([0.1902, 0.1902, 0.1902])"
      ],
      "execution_count": 7,
      "outputs": []
    },
    {
      "cell_type": "code",
      "metadata": {
        "id": "oD6dPyTlt_lR"
      },
      "source": [
        "from PIL import Image\r\n",
        "\r\n",
        "\r\n",
        "class RANZCRDataset(Dataset):\r\n",
        "\r\n",
        "\r\n",
        "    def __init__(self, csv_file='/content/trainset/train.csv', root_dir='/content/trainset/data/1', transform=transform, images_name=None):\r\n",
        "        \"\"\"\r\n",
        "        Args:\r\n",
        "            csv_file (string): Path to the csv file with annotations.\r\n",
        "            root_dir (string): Directory with all the images.\r\n",
        "            transform (callable, optional): Optional transform to be applied\r\n",
        "                on a sample.\r\n",
        "        \"\"\"\r\n",
        "        self.Images_name = images_name\r\n",
        "        self.root_dir = root_dir\r\n",
        "        self.transform = transform\r\n",
        "        \r\n",
        "\r\n",
        "    def __len__(self):\r\n",
        "        return len(self.Images_name)\r\n",
        "\r\n",
        "    def __getitem__(self, idx):\r\n",
        "        if torch.is_tensor(idx):\r\n",
        "            idx = idx.tolist()\r\n",
        "\r\n",
        "        img_name = os.path.join(self.root_dir,\r\n",
        "                                self.Images_name.iloc[idx, 0])\r\n",
        "        image = Image.open(img_name + '.jpg').convert('RGB')\r\n",
        "        labels = self.Images_name.iloc[idx, 1:-1].values\r\n",
        "        labels = labels.astype(np.int)\r\n",
        "        labels = torch.from_numpy(labels)\r\n",
        "        sample = {'image': image, 'label': labels }\r\n",
        "\r\n",
        "        if self.transform:\r\n",
        "\r\n",
        "          sample['image'] = self.transform(sample['image'])\r\n",
        "\r\n",
        "\r\n",
        "        return sample"
      ],
      "execution_count": 8,
      "outputs": []
    },
    {
      "cell_type": "code",
      "metadata": {
        "id": "RgSZrpo8RAxk"
      },
      "source": [
        "import torch\r\n",
        "from torchvision import datasets, transforms\r\n",
        "import torch.nn.functional as F\r\n",
        "\r\n",
        "\r\n",
        "def load_data(csv_file='/content/trainset/train.csv', data_dir='/content/trainset/data/1'):\r\n",
        "\r\n",
        "  transform = transforms.Compose([transforms.ToTensor(),\r\n",
        "                                  transforms.Resize((1024, 1024)),\r\n",
        "                                  transforms.CenterCrop(904),\r\n",
        "                                  transforms.Normalize(mean, std)])\r\n",
        "\r\n",
        "\r\n",
        "  trainset = RANZCRDataset(csv_file=csv_file,\r\n",
        "                                      root_dir=data_dir, transform=transform, images_name=images_name)\r\n",
        "\r\n",
        "\r\n",
        "  validation = RANZCRDataset(csv_file=csv_file,\r\n",
        "                                    root_dir=data_dir, transform=transform, images_name=validation_names)\r\n",
        "  \r\n",
        "\r\n",
        "  \r\n",
        "  return trainset, validation\r\n",
        "\r\n",
        "\r\n"
      ],
      "execution_count": 9,
      "outputs": []
    },
    {
      "cell_type": "code",
      "metadata": {
        "id": "i3Tocrklk9gY"
      },
      "source": [
        "# train_data_loader = torch.utils.data.DataLoader(trainset,\r\n",
        "#                                           batch_size=8,\r\n",
        "#                                           shuffle=True,\r\n",
        "#                                           num_workers=0)\r\n",
        "\r\n",
        "\r\n",
        "# validation_data_loader = torch.utils.data.DataLoader(validation,\r\n",
        "#                                           batch_size=8,\r\n",
        "#                                           shuffle=True,\r\n",
        "#                                           num_workers=0)\r\n"
      ],
      "execution_count": null,
      "outputs": []
    },
    {
      "cell_type": "code",
      "metadata": {
        "id": "8muYGHBGwZen"
      },
      "source": [
        "# def imshow(img):\r\n",
        "#     npimg = img.numpy()\r\n",
        "#     npimg = ((npimg * std[0]) + mean[0]) # unnormalize\r\n",
        "#     plt.imshow((np.transpose(npimg, (1, 2, 0)) * 255).astype(np.uint8))\r\n",
        "#     plt.show()\r\n",
        "\r\n",
        "\r\n",
        "# # get some random training images\r\n",
        "# dataiter = iter(train_data_loader)\r\n",
        "# sample = dataiter.next()\r\n",
        "# print(sample['image'].shape)\r\n",
        "# imshow(torchvision.utils.make_grid(sample['image']))\r\n",
        "# print(sample['label'])\r\n"
      ],
      "execution_count": null,
      "outputs": []
    },
    {
      "cell_type": "code",
      "metadata": {
        "id": "4Dpyq8uYr8-7"
      },
      "source": [
        "model = torchvision.models.resnet152(pretrained=False, progress=True)"
      ],
      "execution_count": 10,
      "outputs": []
    },
    {
      "cell_type": "code",
      "metadata": {
        "id": "_oFre0HvsMRj"
      },
      "source": [
        "print(model)"
      ],
      "execution_count": null,
      "outputs": []
    },
    {
      "cell_type": "code",
      "metadata": {
        "id": "kpItSJloHImE"
      },
      "source": [
        "for param in model.parameters():\r\n",
        "    param.requires_grad = True"
      ],
      "execution_count": 11,
      "outputs": []
    },
    {
      "cell_type": "code",
      "metadata": {
        "id": "KLymbGLgMpu_"
      },
      "source": [
        "import torch.nn as nn\r\n",
        "import torch.nn.functional as F \r\n",
        "\r\n",
        "class Net(nn.Module):\r\n",
        "  \r\n",
        "  def __init__(self, l1=512, l2=256):\r\n",
        "    super(Net, self).__init__()\r\n",
        "    self.model = model\r\n",
        "    self.conv1 = nn.Conv2d(3, 3, 5)\r\n",
        "    self.conv2 = nn.Conv2d(3, 3, 1)\r\n",
        "    self.pool2 = nn.MaxPool2d(2, 2)\r\n",
        "    self.sigmoid = nn.Sigmoid()\r\n",
        "    self.fc1 = nn.Linear(1000, l1)\r\n",
        "    self.fc2 = nn.Linear(l1, l2)\r\n",
        "    self.fc_final = nn.Linear(l2, 11)\r\n",
        "\r\n",
        "  def forward(self, x):\r\n",
        "\r\n",
        "    x = self.pool2(F.relu(self.conv1(x)))\r\n",
        "    x = self.pool2(F.relu(self.conv2(x)))\r\n",
        "    x = self.model(x)\r\n",
        "    x = F.relu(self.fc1(x))\r\n",
        "    x = F.relu(self.fc2(x))\r\n",
        "    x = self.sigmoid(self.fc_final(x))\r\n",
        "    return x\r\n",
        "\r\n",
        "# Network = Net()"
      ],
      "execution_count": 12,
      "outputs": []
    },
    {
      "cell_type": "code",
      "metadata": {
        "id": "p_7y4DPkHgjH"
      },
      "source": [
        "# def count_parameters(model):\r\n",
        "#     return sum(p.numel() for p in model.parameters() if p.requires_grad)\r\n",
        "# print(count_parameters(model))\r\n",
        "# print(count_parameters(Network))"
      ],
      "execution_count": 14,
      "outputs": []
    },
    {
      "cell_type": "code",
      "metadata": {
        "id": "e-Wb3uf0gF3r",
        "colab": {
          "base_uri": "https://localhost:8080/"
        },
        "outputId": "c896167b-690b-4cb9-aacc-28c766f96e06"
      },
      "source": [
        "\r\n",
        "# Network.load_state_dict(torch.load('/content/drive/MyDrive/model.pth'))"
      ],
      "execution_count": null,
      "outputs": [
        {
          "output_type": "execute_result",
          "data": {
            "text/plain": [
              "<All keys matched successfully>"
            ]
          },
          "metadata": {
            "tags": []
          },
          "execution_count": 20
        }
      ]
    },
    {
      "cell_type": "code",
      "metadata": {
        "id": "1DrXdrMNoE6s"
      },
      "source": [
        "# ####################################\r\n",
        "# !pip install ray\r\n",
        "# !pip install tensorboardX"
      ],
      "execution_count": null,
      "outputs": []
    },
    {
      "cell_type": "code",
      "metadata": {
        "id": "f2jjjLlPnfOl"
      },
      "source": [
        "\r\n",
        "from functools import partial\r\n",
        "import numpy as np\r\n",
        "import os\r\n",
        "import torch\r\n",
        "import torch.nn as nn\r\n",
        "import torch.nn.functional as F\r\n",
        "import torch.optim as optim\r\n",
        "from torch.utils.data import random_split\r\n",
        "import torchvision\r\n",
        "import torchvision.transforms as transforms\r\n",
        "from ray import tune\r\n",
        "from ray.tune import CLIReporter\r\n",
        "from ray.tune.schedulers import ASHAScheduler\r\n",
        "import tensorboardX"
      ],
      "execution_count": 15,
      "outputs": []
    },
    {
      "cell_type": "code",
      "metadata": {
        "id": "sN88p-B3m3PU"
      },
      "source": [
        "def train_ranzcr(config, checkpoint_dir=None, data_dir=None):\r\n",
        "    net = Net(config[\"l1\"], config[\"l2\"])\r\n",
        "\r\n",
        "    device = \"cpu\"\r\n",
        "    if torch.cuda.is_available():\r\n",
        "        device = \"cuda:0\"\r\n",
        "        if torch.cuda.device_count() > 1:\r\n",
        "            net = nn.DataParallel(net)\r\n",
        "    net.to(device)\r\n",
        "\r\n",
        "    criterion = nn.BCELoss()\r\n",
        "    optimizer = optim.SGD(net.parameters(), lr=config[\"lr\"], momentum=0.9, weight_decay=config[\"wd\"])\r\n",
        "\r\n",
        "    if checkpoint_dir:\r\n",
        "        model_state, optimizer_state = torch.load(\r\n",
        "            os.path.join(checkpoint_dir, \"checkpoint\"))\r\n",
        "        net.load_state_dict(model_state)\r\n",
        "        optimizer.load_state_dict(optimizer_state)\r\n",
        "\r\n",
        "    trainset, testset = load_data(data_dir)\r\n",
        "\r\n",
        "    test_abs = int(len(trainset) * 0.8)\r\n",
        "    train_subset, val_subset = random_split(\r\n",
        "        trainset, [test_abs, len(trainset) - test_abs])\r\n",
        "\r\n",
        "    trainloader = torch.utils.data.DataLoader(\r\n",
        "        train_subset,\r\n",
        "        batch_size=int(config[\"batch_size\"]),\r\n",
        "        shuffle=True,\r\n",
        "        num_workers=8)\r\n",
        "    valloader = torch.utils.data.DataLoader(\r\n",
        "        val_subset,\r\n",
        "        batch_size=int(config[\"batch_size\"]),\r\n",
        "        shuffle=True,\r\n",
        "        num_workers=8)\r\n",
        "\r\n",
        "    for epoch in range(10):  # loop over the dataset multiple times\r\n",
        "        running_loss = 0.0\r\n",
        "        epoch_steps = 0\r\n",
        "        for i, data in enumerate(trainloader, 0):\r\n",
        "            # get the inputs; data is a list of [inputs, labels]\r\n",
        "            inputs, labels = data['image'].float(), data['label'].float()\r\n",
        "            inputs, labels = inputs.to(device), labels.to(device)\r\n",
        "\r\n",
        "            # zero the parameter gradients\r\n",
        "            optimizer.zero_grad()\r\n",
        "\r\n",
        "            # forward + backward + optimize\r\n",
        "            outputs = net(inputs)\r\n",
        "            loss = criterion(outputs, labels)\r\n",
        "            loss.backward()\r\n",
        "            optimizer.step()\r\n",
        "\r\n",
        "            # print statistics\r\n",
        "            running_loss += loss.item()\r\n",
        "            epoch_steps += 1\r\n",
        "            if i % 2000 == 1999:  # print every 2000 mini-batches\r\n",
        "                print(\"[%d, %5d] loss: %.3f\" % (epoch + 1, i + 1,\r\n",
        "                                                running_loss / epoch_steps))\r\n",
        "                running_loss = 0.0\r\n",
        "\r\n",
        "        # Validation loss\r\n",
        "        val_loss = 0.0\r\n",
        "        val_steps = 0\r\n",
        "        total = 0\r\n",
        "        correct = 0\r\n",
        "        for i, data in enumerate(valloader, 0):\r\n",
        "            with torch.no_grad():\r\n",
        "                inputs, labels = data['image'].float(), data['label'].float()\r\n",
        "                inputs, labels = inputs.to(device), labels.to(device)\r\n",
        "\r\n",
        "                outputs = net(inputs)\r\n",
        "                _, predicted = torch.max(outputs.data, 1)\r\n",
        "                print(labels)\r\n",
        "                total += labels.size(0)\r\n",
        "                print(\"HIIIIIIIIIIIIIIIIIIIIIII predicted\", predicted.shape)\r\n",
        "                print(\"HIIIIIIIIIIIIIIIIIIIIIII label\", labels.shape)\r\n",
        "                correct += (predicted == labels).sum().item()\r\n",
        "\r\n",
        "                loss = criterion(outputs, labels)\r\n",
        "                val_loss += loss.cpu().numpy()\r\n",
        "                val_steps += 1\r\n",
        "\r\n",
        "        with tune.checkpoint_dir(epoch) as checkpoint_dir:\r\n",
        "            path = os.path.join(checkpoint_dir, \"checkpoint\")\r\n",
        "            torch.save((net.state_dict(), optimizer.state_dict()), path)\r\n",
        "\r\n",
        "        tune.report(loss=(val_loss / val_steps), accuracy=correct / total)\r\n",
        "    print(\"Finished Training\")"
      ],
      "execution_count": 25,
      "outputs": []
    },
    {
      "cell_type": "code",
      "metadata": {
        "id": "JCprU3xDng_X"
      },
      "source": [
        "def test_accuracy(net, device=\"cpu\"):\r\n",
        "    trainset, testset = load_data()\r\n",
        "\r\n",
        "    testloader = torch.utils.data.DataLoader(\r\n",
        "        testset, batch_size=4, shuffle=False, num_workers=2)\r\n",
        "\r\n",
        "    correct = 0\r\n",
        "    total = 0\r\n",
        "    with torch.no_grad():\r\n",
        "        for data in testloader:\r\n",
        "            images, labels = data['image'].float(), data['label'].float()\r\n",
        "            images, labels = images.to(device), labels.to(device)\r\n",
        "            outputs = net(images)\r\n",
        "            _, predicted = torch.max(outputs.data, 1)\r\n",
        "            total += labels.size(0)\r\n",
        "            correct += (predicted == labels).sum().item()\r\n",
        "\r\n",
        "    return correct / total"
      ],
      "execution_count": 26,
      "outputs": []
    },
    {
      "cell_type": "code",
      "metadata": {
        "id": "U4x9x0Gvnl1M",
        "outputId": "7fa3d873-f4b2-42a0-dfb3-ffbccaad4ff2",
        "colab": {
          "base_uri": "https://localhost:8080/"
        }
      },
      "source": [
        "def main(num_samples=10, max_num_epochs=10, gpus_per_trial=2):\r\n",
        "    data_dir = os.path.abspath(\"/content/trainset/data\")\r\n",
        "    load_data(data_dir)\r\n",
        "    config = {\r\n",
        "        \"l1\": tune.sample_from(lambda _: 2 ** np.random.randint(5, 9)),\r\n",
        "        \"l2\": tune.sample_from(lambda _: 2 ** np.random.randint(4, 9)),\r\n",
        "        \"lr\": tune.loguniform(1e-5, 1e-1),\r\n",
        "        \"wd\": tune.loguniform(1e-6, 1e-2),\r\n",
        "        \"batch_size\": tune.choice([4, 8, 16])\r\n",
        "    }\r\n",
        "    scheduler = ASHAScheduler(\r\n",
        "        metric=\"loss\",\r\n",
        "        mode=\"min\",\r\n",
        "        max_t=max_num_epochs,\r\n",
        "        grace_period=1,\r\n",
        "        reduction_factor=2)\r\n",
        "    reporter = CLIReporter(\r\n",
        "        # parameter_columns=[\"l1\", \"l2\", \"lr\", \"batch_size\"],\r\n",
        "        metric_columns=[\"loss\", \"accuracy\", \"training_iteration\"])\r\n",
        "    result = tune.run(\r\n",
        "        partial(train_ranzcr, data_dir=data_dir),\r\n",
        "        resources_per_trial={\"cpu\": 2, \"gpu\": gpus_per_trial},\r\n",
        "        config=config,\r\n",
        "        num_samples=num_samples,\r\n",
        "        scheduler=scheduler,\r\n",
        "        progress_reporter=reporter)\r\n",
        "\r\n",
        "    best_trial = result.get_best_trial(\"loss\", \"min\", \"last\")\r\n",
        "    print(\"Best trial config: {}\".format(best_trial.config))\r\n",
        "    print(\"Best trial final validation loss: {}\".format(\r\n",
        "        best_trial.last_result[\"loss\"]))\r\n",
        "    print(\"Best trial final validation accuracy: {}\".format(\r\n",
        "        best_trial.last_result[\"accuracy\"]))\r\n",
        "\r\n",
        "    best_trained_model = Net(best_trial.config[\"l1\"], best_trial.config[\"l2\"])\r\n",
        "    device = \"cpu\"\r\n",
        "    if torch.cuda.is_available():\r\n",
        "        device = \"cuda:0\"\r\n",
        "        if gpus_per_trial > 1:\r\n",
        "            best_trained_model = nn.DataParallel(best_trained_model)\r\n",
        "    best_trained_model.to(device)\r\n",
        "\r\n",
        "    best_checkpoint_dir = best_trial.checkpoint.value\r\n",
        "    model_state, optimizer_state = torch.load(os.path.join(\r\n",
        "        best_checkpoint_dir, \"checkpoint\"))\r\n",
        "    best_trained_model.load_state_dict(model_state)\r\n",
        "\r\n",
        "    test_acc = test_accuracy(best_trained_model, device)\r\n",
        "    print(\"Best trial test set accuracy: {}\".format(test_acc))\r\n",
        "\r\n",
        "\r\n",
        "if __name__ == \"__main__\":\r\n",
        "    # You can change the number of GPUs per trial here:\r\n",
        "    main(num_samples=10, max_num_epochs=10, gpus_per_trial=0)"
      ],
      "execution_count": null,
      "outputs": [
        {
          "output_type": "stream",
          "text": [
            "2021-01-31 13:56:56,540\tWARNING experiment.py:285 -- No name detected on trainable. Using DEFAULT.\n",
            "2021-01-31 13:56:56,541\tINFO registry.py:65 -- Detected unknown callable for trainable. Converting to class.\n",
            "2021-01-31 13:57:13,329\tWARNING worker.py:1034 -- Warning: The actor ImplicitFunc has size 241788462 when pickled. It will be stored in Redis, which could cause memory issues. This may mean that its definition uses a large array or other object.\n",
            "2021-01-31 13:57:14,614\tWARNING util.py:142 -- The `start_trial` operation took 12.943 s, which may be a performance bottleneck.\n"
          ],
          "name": "stderr"
        },
        {
          "output_type": "stream",
          "text": [
            "== Status ==\n",
            "Memory usage on this node: 3.3/12.7 GiB\n",
            "Using AsyncHyperBand: num_stopped=0\n",
            "Bracket: Iter 8.000: None | Iter 4.000: None | Iter 2.000: None | Iter 1.000: None\n",
            "Resources requested: 2/2 CPUs, 0/1 GPUs, 0.0/7.52 GiB heap, 0.0/2.59 GiB objects (0/1.0 accelerator_type:T4)\n",
            "Result logdir: /root/ray_results/DEFAULT_2021-01-31_13-56-57\n",
            "Number of trials: 1/10 (1 RUNNING)\n",
            "+---------------------+----------+-------+--------------+------+------+-------------+------------+\n",
            "| Trial name          | status   | loc   |   batch_size |   l1 |   l2 |          lr |         wd |\n",
            "|---------------------+----------+-------+--------------+------+------+-------------+------------|\n",
            "| DEFAULT_2fab7_00000 | RUNNING  |       |            8 |   64 |  256 | 2.73852e-05 | 0.00167869 |\n",
            "+---------------------+----------+-------+--------------+------+------+-------------+------------+\n",
            "\n",
            "\n",
            "\u001b[2m\u001b[36m(pid=1561)\u001b[0m tensor([[0., 0., 1., 0., 1., 0., 0., 1., 1., 0., 0.],\n",
            "\u001b[2m\u001b[36m(pid=1561)\u001b[0m         [0., 0., 0., 0., 0., 0., 0., 0., 0., 1., 0.],\n",
            "\u001b[2m\u001b[36m(pid=1561)\u001b[0m         [0., 0., 1., 0., 0., 0., 0., 0., 1., 0., 0.],\n",
            "\u001b[2m\u001b[36m(pid=1561)\u001b[0m         [0., 0., 0., 0., 0., 0., 0., 1., 0., 0., 0.],\n",
            "\u001b[2m\u001b[36m(pid=1561)\u001b[0m         [0., 0., 1., 0., 0., 0., 1., 0., 0., 1., 1.],\n",
            "\u001b[2m\u001b[36m(pid=1561)\u001b[0m         [0., 0., 0., 0., 0., 0., 0., 1., 0., 0., 0.],\n",
            "\u001b[2m\u001b[36m(pid=1561)\u001b[0m         [0., 0., 0., 0., 0., 0., 0., 1., 0., 0., 0.],\n",
            "\u001b[2m\u001b[36m(pid=1561)\u001b[0m         [0., 0., 0., 1., 0., 0., 0., 0., 1., 1., 0.],\n",
            "\u001b[2m\u001b[36m(pid=1561)\u001b[0m         [1., 0., 0., 0., 0., 0., 1., 1., 0., 0., 0.],\n",
            "\u001b[2m\u001b[36m(pid=1561)\u001b[0m         [0., 0., 0., 1., 0., 0., 0., 0., 0., 1., 0.],\n",
            "\u001b[2m\u001b[36m(pid=1561)\u001b[0m         [0., 0., 0., 0., 0., 0., 0., 0., 1., 0., 0.],\n",
            "\u001b[2m\u001b[36m(pid=1561)\u001b[0m         [0., 0., 0., 0., 0., 0., 0., 0., 0., 1., 0.],\n",
            "\u001b[2m\u001b[36m(pid=1561)\u001b[0m         [1., 0., 0., 0., 0., 0., 1., 0., 0., 1., 1.],\n",
            "\u001b[2m\u001b[36m(pid=1561)\u001b[0m         [0., 0., 0., 0., 0., 1., 0., 0., 0., 1., 0.],\n",
            "\u001b[2m\u001b[36m(pid=1561)\u001b[0m         [0., 0., 0., 0., 0., 0., 0., 0., 0., 1., 0.],\n",
            "\u001b[2m\u001b[36m(pid=1561)\u001b[0m         [0., 0., 0., 0., 0., 0., 0., 0., 0., 1., 0.]])\n"
          ],
          "name": "stdout"
        },
        {
          "output_type": "stream",
          "text": [
            "\u001b[2m\u001b[36m(pid=1561)\u001b[0m 2021-01-31 14:00:36,105\tERROR function_runner.py:254 -- Runner Thread raised error.\n",
            "\u001b[2m\u001b[36m(pid=1561)\u001b[0m Traceback (most recent call last):\n",
            "\u001b[2m\u001b[36m(pid=1561)\u001b[0m   File \"/usr/local/lib/python3.6/dist-packages/ray/tune/function_runner.py\", line 248, in run\n",
            "\u001b[2m\u001b[36m(pid=1561)\u001b[0m     self._entrypoint()\n",
            "\u001b[2m\u001b[36m(pid=1561)\u001b[0m   File \"/usr/local/lib/python3.6/dist-packages/ray/tune/function_runner.py\", line 316, in entrypoint\n",
            "\u001b[2m\u001b[36m(pid=1561)\u001b[0m     self._status_reporter.get_checkpoint())\n",
            "\u001b[2m\u001b[36m(pid=1561)\u001b[0m   File \"/usr/local/lib/python3.6/dist-packages/ray/tune/function_runner.py\", line 575, in _trainable_func\n",
            "\u001b[2m\u001b[36m(pid=1561)\u001b[0m     output = fn()\n",
            "\u001b[2m\u001b[36m(pid=1561)\u001b[0m   File \"<ipython-input-22-01a5d79cb679>\", line 76, in train_ranzcr\n",
            "\u001b[2m\u001b[36m(pid=1561)\u001b[0m   File \"/usr/local/lib/python3.6/dist-packages/torch/tensor.py\", line 27, in wrapped\n",
            "\u001b[2m\u001b[36m(pid=1561)\u001b[0m     return f(*args, **kwargs)\n",
            "\u001b[2m\u001b[36m(pid=1561)\u001b[0m RuntimeError: The size of tensor a (16) must match the size of tensor b (11) at non-singleton dimension 1\n",
            "\u001b[2m\u001b[36m(pid=1561)\u001b[0m Exception in thread Thread-2:\n",
            "\u001b[2m\u001b[36m(pid=1561)\u001b[0m Traceback (most recent call last):\n",
            "\u001b[2m\u001b[36m(pid=1561)\u001b[0m   File \"/usr/lib/python3.6/threading.py\", line 916, in _bootstrap_inner\n",
            "\u001b[2m\u001b[36m(pid=1561)\u001b[0m     self.run()\n",
            "\u001b[2m\u001b[36m(pid=1561)\u001b[0m   File \"/usr/local/lib/python3.6/dist-packages/ray/tune/function_runner.py\", line 267, in run\n",
            "\u001b[2m\u001b[36m(pid=1561)\u001b[0m     raise e\n",
            "\u001b[2m\u001b[36m(pid=1561)\u001b[0m   File \"/usr/local/lib/python3.6/dist-packages/ray/tune/function_runner.py\", line 248, in run\n",
            "\u001b[2m\u001b[36m(pid=1561)\u001b[0m     self._entrypoint()\n",
            "\u001b[2m\u001b[36m(pid=1561)\u001b[0m   File \"/usr/local/lib/python3.6/dist-packages/ray/tune/function_runner.py\", line 316, in entrypoint\n",
            "\u001b[2m\u001b[36m(pid=1561)\u001b[0m     self._status_reporter.get_checkpoint())\n",
            "\u001b[2m\u001b[36m(pid=1561)\u001b[0m   File \"/usr/local/lib/python3.6/dist-packages/ray/tune/function_runner.py\", line 575, in _trainable_func\n",
            "\u001b[2m\u001b[36m(pid=1561)\u001b[0m     output = fn()\n",
            "\u001b[2m\u001b[36m(pid=1561)\u001b[0m   File \"<ipython-input-22-01a5d79cb679>\", line 76, in train_ranzcr\n",
            "\u001b[2m\u001b[36m(pid=1561)\u001b[0m   File \"/usr/local/lib/python3.6/dist-packages/torch/tensor.py\", line 27, in wrapped\n",
            "\u001b[2m\u001b[36m(pid=1561)\u001b[0m     return f(*args, **kwargs)\n",
            "\u001b[2m\u001b[36m(pid=1561)\u001b[0m RuntimeError: The size of tensor a (16) must match the size of tensor b (11) at non-singleton dimension 1\n",
            "\u001b[2m\u001b[36m(pid=1561)\u001b[0m \n",
            "2021-01-31 14:00:41,312\tERROR worker.py:980 -- Possible unhandled error from worker: \u001b[36mray::ImplicitFunc.train()\u001b[39m (pid=1561, ip=172.28.0.2)\n",
            "  File \"python/ray/_raylet.pyx\", line 463, in ray._raylet.execute_task\n",
            "  File \"python/ray/_raylet.pyx\", line 415, in ray._raylet.execute_task.function_executor\n",
            "  File \"/usr/local/lib/python3.6/dist-packages/ray/tune/trainable.py\", line 183, in train\n",
            "    result = self.step()\n",
            "  File \"/usr/local/lib/python3.6/dist-packages/ray/tune/function_runner.py\", line 366, in step\n",
            "    self._report_thread_runner_error(block=True)\n",
            "  File \"/usr/local/lib/python3.6/dist-packages/ray/tune/function_runner.py\", line 513, in _report_thread_runner_error\n",
            "    .format(err_tb_str)))\n",
            "ray.tune.error.TuneError: Trial raised an exception. Traceback:\n",
            "\u001b[36mray::ImplicitFunc.train()\u001b[39m (pid=1561, ip=172.28.0.2)\n",
            "  File \"/usr/local/lib/python3.6/dist-packages/ray/tune/function_runner.py\", line 248, in run\n",
            "    self._entrypoint()\n",
            "  File \"/usr/local/lib/python3.6/dist-packages/ray/tune/function_runner.py\", line 316, in entrypoint\n",
            "    self._status_reporter.get_checkpoint())\n",
            "  File \"/usr/local/lib/python3.6/dist-packages/ray/tune/function_runner.py\", line 575, in _trainable_func\n",
            "    output = fn()\n",
            "  File \"<ipython-input-22-01a5d79cb679>\", line 76, in train_ranzcr\n",
            "  File \"/usr/local/lib/python3.6/dist-packages/torch/tensor.py\", line 27, in wrapped\n",
            "    return f(*args, **kwargs)\n",
            "RuntimeError: The size of tensor a (16) must match the size of tensor b (11) at non-singleton dimension 1\n"
          ],
          "name": "stderr"
        }
      ]
    },
    {
      "cell_type": "code",
      "metadata": {
        "id": "6F8h5at-Ynoc"
      },
      "source": [
        "#############################################################################\r\n",
        "import torch.optim as optim\r\n",
        "\r\n",
        "\r\n",
        "loss_function = nn.BCELoss()\r\n",
        "optimizer = optim.SGD(Network.parameters(), lr = 0.0075, momentum = 0.9, weight_decay = 1e-6)"
      ],
      "execution_count": null,
      "outputs": []
    },
    {
      "cell_type": "code",
      "metadata": {
        "id": "DSY9uhoeWodl"
      },
      "source": [
        "def roc_auc_compute_fn(y_preds, y_targets):\r\n",
        "\r\n",
        "    \r\n",
        "    try:\r\n",
        "        from sklearn.metrics import roc_auc_score\r\n",
        "    except ImportError:\r\n",
        "        raise RuntimeError(\"This contrib module requires sklearn to be installed.\")\r\n",
        "\r\n",
        "    y_true = y_targets.detach().numpy()\r\n",
        "    y_pred = y_preds.detach().numpy()\r\n",
        "\r\n",
        "    try:\r\n",
        "      return roc_auc_score(y_true, y_pred, average='micro')\r\n",
        "    except ValueError:\r\n",
        "      return None\r\n"
      ],
      "execution_count": null,
      "outputs": []
    },
    {
      "cell_type": "code",
      "metadata": {
        "colab": {
          "base_uri": "https://localhost:8080/"
        },
        "id": "WjwmUvBRYqR6",
        "outputId": "fef370bf-fd90-4d34-f9f1-da9ef5918505"
      },
      "source": [
        "for epoch in range(20):\r\n",
        "\r\n",
        "  running_loss = 0.0\r\n",
        "  best_validation_auc_score = 0\r\n",
        "\r\n",
        "  for i, data in enumerate(train_data_loader, 0):\r\n",
        "    \r\n",
        "\r\n",
        "    inputs = data['image'].float()\r\n",
        "    label = data['label'].float()\r\n",
        "    optimizer.zero_grad()\r\n",
        "    outputs = Network(inputs)\r\n",
        "    loss = loss_function(outputs, label)\r\n",
        "    loss.backward()\r\n",
        "    optimizer.step()\r\n",
        "\r\n",
        "    auc_score = roc_auc_compute_fn(outputs, label)\r\n",
        "    running_loss += loss.item()\r\n",
        "    if (i % 10 == 0) and (i > 9):\r\n",
        "      print('[epoch: %d, batch: %5d] training loss: %.3f training auc score: %.3f' %( epoch + 1, i, (running_loss/10), auc_score))\r\n",
        "      \r\n",
        "      dataiter = iter(validation_data_loader)\r\n",
        "      sample = dataiter.next()\r\n",
        "      validation_inputs = sample['image'].float()\r\n",
        "      validation_label = sample['label'].float()\r\n",
        "      validation_outputs = Network(validation_inputs)\r\n",
        "      validation_loss = loss_function(validation_outputs, validation_label)\r\n",
        "      validation_auc_score = roc_auc_compute_fn(validation_outputs, validation_label)\r\n",
        "\r\n",
        "      print('[epoch: %d, batch: %5d] <validation 10 random sample> loss: %.3f , auc score: %.3f' %( epoch + 1, i, validation_loss, validation_auc_score))\r\n",
        "\r\n",
        "\r\n",
        "      running_loss = 0.0\r\n",
        "\r\n",
        "  try:\r\n",
        "    if validation_auc_score > best_validation_auc_score:\r\n",
        "      torch.save(Network.state_dict(), '/content/drive/MyDrive/model_second_train.pth')\r\n",
        "      best_validation_auc_score = validation_auc_score\r\n",
        "  except ValueError:\r\n",
        "    pass\r\n",
        "  \r\n",
        "    \r\n",
        "print('Finished Training Network')"
      ],
      "execution_count": null,
      "outputs": [
        {
          "output_type": "stream",
          "text": [
            "[epoch: 1, batch:    10] training loss: 10.695 training auc score: 0.644\n",
            "[epoch: 1, batch:    10] <validation 10 random sample> loss: 7.356 , auc score: 0.613\n",
            "[epoch: 1, batch:    20] training loss: 9.494 training auc score: 0.748\n",
            "[epoch: 1, batch:    20] <validation 10 random sample> loss: 7.212 , auc score: 0.693\n",
            "[epoch: 1, batch:    30] training loss: 9.124 training auc score: 0.687\n",
            "[epoch: 1, batch:    30] <validation 10 random sample> loss: 6.029 , auc score: 0.674\n",
            "[epoch: 1, batch:    40] training loss: 7.188 training auc score: 0.681\n",
            "[epoch: 1, batch:    40] <validation 10 random sample> loss: 8.255 , auc score: 0.694\n",
            "[epoch: 1, batch:    50] training loss: 7.859 training auc score: 0.689\n",
            "[epoch: 1, batch:    50] <validation 10 random sample> loss: 3.890 , auc score: 0.774\n",
            "[epoch: 1, batch:    60] training loss: 7.494 training auc score: 0.733\n",
            "[epoch: 1, batch:    60] <validation 10 random sample> loss: 9.479 , auc score: 0.542\n",
            "[epoch: 1, batch:    70] training loss: 7.870 training auc score: 0.577\n",
            "[epoch: 1, batch:    70] <validation 10 random sample> loss: 11.749 , auc score: 0.722\n",
            "[epoch: 1, batch:    80] training loss: 6.961 training auc score: 0.713\n",
            "[epoch: 1, batch:    80] <validation 10 random sample> loss: 7.171 , auc score: 0.733\n",
            "[epoch: 1, batch:    90] training loss: 8.904 training auc score: 0.689\n",
            "[epoch: 1, batch:    90] <validation 10 random sample> loss: 4.948 , auc score: 0.701\n",
            "[epoch: 1, batch:   100] training loss: 7.610 training auc score: 0.745\n",
            "[epoch: 1, batch:   100] <validation 10 random sample> loss: 8.335 , auc score: 0.755\n",
            "[epoch: 1, batch:   110] training loss: 9.116 training auc score: 0.585\n",
            "[epoch: 1, batch:   110] <validation 10 random sample> loss: 8.409 , auc score: 0.661\n",
            "[epoch: 1, batch:   120] training loss: 7.437 training auc score: 0.736\n",
            "[epoch: 1, batch:   120] <validation 10 random sample> loss: 9.415 , auc score: 0.575\n",
            "[epoch: 1, batch:   130] training loss: 6.492 training auc score: 0.795\n",
            "[epoch: 1, batch:   130] <validation 10 random sample> loss: 6.134 , auc score: 0.624\n",
            "[epoch: 1, batch:   140] training loss: 7.588 training auc score: 0.577\n",
            "[epoch: 1, batch:   140] <validation 10 random sample> loss: 6.055 , auc score: 0.764\n",
            "[epoch: 1, batch:   150] training loss: 7.770 training auc score: 0.621\n",
            "[epoch: 1, batch:   150] <validation 10 random sample> loss: 7.221 , auc score: 0.734\n",
            "[epoch: 1, batch:   160] training loss: 7.772 training auc score: 0.723\n",
            "[epoch: 1, batch:   160] <validation 10 random sample> loss: 6.063 , auc score: 0.671\n",
            "[epoch: 1, batch:   170] training loss: 6.833 training auc score: 0.671\n",
            "[epoch: 1, batch:   170] <validation 10 random sample> loss: 7.211 , auc score: 0.732\n",
            "[epoch: 1, batch:   180] training loss: 8.538 training auc score: 0.706\n",
            "[epoch: 1, batch:   180] <validation 10 random sample> loss: 8.380 , auc score: 0.623\n",
            "[epoch: 1, batch:   190] training loss: 6.847 training auc score: 0.708\n",
            "[epoch: 1, batch:   190] <validation 10 random sample> loss: 6.139 , auc score: 0.671\n",
            "[epoch: 1, batch:   200] training loss: 7.619 training auc score: 0.720\n",
            "[epoch: 1, batch:   200] <validation 10 random sample> loss: 8.314 , auc score: 0.625\n",
            "[epoch: 1, batch:   210] training loss: 8.694 training auc score: 0.700\n",
            "[epoch: 1, batch:   210] <validation 10 random sample> loss: 10.546 , auc score: 0.746\n",
            "[epoch: 1, batch:   220] training loss: 7.728 training auc score: 0.729\n",
            "[epoch: 1, batch:   220] <validation 10 random sample> loss: 9.491 , auc score: 0.584\n",
            "[epoch: 1, batch:   230] training loss: 8.225 training auc score: 0.577\n",
            "[epoch: 1, batch:   230] <validation 10 random sample> loss: 8.343 , auc score: 0.668\n",
            "[epoch: 1, batch:   240] training loss: 8.229 training auc score: 0.747\n",
            "[epoch: 1, batch:   240] <validation 10 random sample> loss: 7.179 , auc score: 0.665\n",
            "[epoch: 1, batch:   250] training loss: 7.533 training auc score: 0.721\n",
            "[epoch: 1, batch:   250] <validation 10 random sample> loss: 9.434 , auc score: 0.621\n",
            "[epoch: 1, batch:   260] training loss: 8.325 training auc score: 0.650\n",
            "[epoch: 1, batch:   260] <validation 10 random sample> loss: 6.020 , auc score: 0.746\n",
            "[epoch: 1, batch:   270] training loss: 9.332 training auc score: 0.587\n",
            "[epoch: 1, batch:   270] <validation 10 random sample> loss: 6.041 , auc score: 0.786\n",
            "[epoch: 1, batch:   280] training loss: 7.872 training auc score: 0.656\n",
            "[epoch: 1, batch:   280] <validation 10 random sample> loss: 19.863 , auc score: 0.433\n",
            "[epoch: 1, batch:   290] training loss: 8.311 training auc score: 0.621\n",
            "[epoch: 1, batch:   290] <validation 10 random sample> loss: 12.860 , auc score: 0.697\n",
            "[epoch: 1, batch:   300] training loss: 7.850 training auc score: 0.757\n",
            "[epoch: 1, batch:   300] <validation 10 random sample> loss: 8.267 , auc score: 0.642\n",
            "[epoch: 1, batch:   310] training loss: 8.733 training auc score: 0.743\n",
            "[epoch: 1, batch:   310] <validation 10 random sample> loss: 8.408 , auc score: 0.682\n",
            "[epoch: 1, batch:   320] training loss: 7.266 training auc score: 0.802\n",
            "[epoch: 1, batch:   320] <validation 10 random sample> loss: 10.410 , auc score: 0.632\n",
            "[epoch: 1, batch:   330] training loss: 8.438 training auc score: 0.780\n",
            "[epoch: 1, batch:   330] <validation 10 random sample> loss: 8.319 , auc score: 0.686\n",
            "[epoch: 1, batch:   340] training loss: 7.958 training auc score: 0.847\n",
            "[epoch: 1, batch:   340] <validation 10 random sample> loss: 8.362 , auc score: 0.589\n",
            "[epoch: 1, batch:   350] training loss: 7.384 training auc score: 0.804\n",
            "[epoch: 1, batch:   350] <validation 10 random sample> loss: 4.967 , auc score: 0.807\n",
            "[epoch: 1, batch:   360] training loss: 8.344 training auc score: 0.700\n",
            "[epoch: 1, batch:   360] <validation 10 random sample> loss: 8.457 , auc score: 0.599\n",
            "[epoch: 1, batch:   370] training loss: 8.597 training auc score: 0.602\n",
            "[epoch: 1, batch:   370] <validation 10 random sample> loss: 6.092 , auc score: 0.776\n",
            "[epoch: 1, batch:   380] training loss: 7.507 training auc score: 0.720\n",
            "[epoch: 1, batch:   380] <validation 10 random sample> loss: 9.559 , auc score: 0.570\n",
            "[epoch: 1, batch:   390] training loss: 8.419 training auc score: 0.632\n",
            "[epoch: 1, batch:   390] <validation 10 random sample> loss: 10.576 , auc score: 0.573\n",
            "[epoch: 1, batch:   400] training loss: 8.285 training auc score: 0.650\n",
            "[epoch: 1, batch:   400] <validation 10 random sample> loss: 7.211 , auc score: 0.716\n",
            "[epoch: 1, batch:   410] training loss: 6.749 training auc score: 0.650\n",
            "[epoch: 1, batch:   410] <validation 10 random sample> loss: 9.707 , auc score: 0.491\n",
            "[epoch: 1, batch:   420] training loss: 8.737 training auc score: 0.787\n",
            "[epoch: 1, batch:   420] <validation 10 random sample> loss: 6.101 , auc score: 0.727\n",
            "[epoch: 1, batch:   430] training loss: 6.735 training auc score: 0.834\n",
            "[epoch: 1, batch:   430] <validation 10 random sample> loss: 6.074 , auc score: 0.729\n",
            "[epoch: 1, batch:   440] training loss: 9.433 training auc score: 0.687\n",
            "[epoch: 1, batch:   440] <validation 10 random sample> loss: 7.121 , auc score: 0.725\n",
            "[epoch: 1, batch:   450] training loss: 8.869 training auc score: 0.747\n",
            "[epoch: 1, batch:   450] <validation 10 random sample> loss: 8.245 , auc score: 0.767\n",
            "[epoch: 1, batch:   460] training loss: 7.854 training auc score: 0.598\n",
            "[epoch: 1, batch:   460] <validation 10 random sample> loss: 8.262 , auc score: 0.735\n",
            "[epoch: 1, batch:   470] training loss: 7.157 training auc score: 0.688\n",
            "[epoch: 1, batch:   470] <validation 10 random sample> loss: 10.822 , auc score: 0.634\n",
            "[epoch: 1, batch:   480] training loss: 7.447 training auc score: 0.626\n",
            "[epoch: 1, batch:   480] <validation 10 random sample> loss: 6.066 , auc score: 0.712\n",
            "[epoch: 1, batch:   490] training loss: 8.773 training auc score: 0.807\n",
            "[epoch: 1, batch:   490] <validation 10 random sample> loss: 6.067 , auc score: 0.670\n",
            "[epoch: 1, batch:   500] training loss: 7.321 training auc score: 0.754\n",
            "[epoch: 1, batch:   500] <validation 10 random sample> loss: 7.179 , auc score: 0.680\n",
            "[epoch: 1, batch:   510] training loss: 8.529 training auc score: 0.785\n",
            "[epoch: 1, batch:   510] <validation 10 random sample> loss: 7.155 , auc score: 0.793\n",
            "[epoch: 1, batch:   520] training loss: 6.778 training auc score: 0.579\n",
            "[epoch: 1, batch:   520] <validation 10 random sample> loss: 7.213 , auc score: 0.734\n",
            "[epoch: 1, batch:   530] training loss: 8.331 training auc score: 0.718\n",
            "[epoch: 1, batch:   530] <validation 10 random sample> loss: 5.977 , auc score: 0.784\n",
            "[epoch: 1, batch:   540] training loss: 6.492 training auc score: 0.747\n",
            "[epoch: 1, batch:   540] <validation 10 random sample> loss: 6.102 , auc score: 0.722\n",
            "[epoch: 1, batch:   550] training loss: 7.606 training auc score: 0.726\n",
            "[epoch: 1, batch:   550] <validation 10 random sample> loss: 6.099 , auc score: 0.759\n",
            "[epoch: 1, batch:   560] training loss: 7.756 training auc score: 0.776\n",
            "[epoch: 1, batch:   560] <validation 10 random sample> loss: 3.719 , auc score: 0.865\n",
            "[epoch: 1, batch:   570] training loss: 7.046 training auc score: 0.734\n",
            "[epoch: 1, batch:   570] <validation 10 random sample> loss: 7.131 , auc score: 0.698\n",
            "[epoch: 1, batch:   580] training loss: 7.356 training auc score: 0.634\n",
            "[epoch: 1, batch:   580] <validation 10 random sample> loss: 8.220 , auc score: 0.702\n",
            "[epoch: 1, batch:   590] training loss: 6.512 training auc score: 0.795\n",
            "[epoch: 1, batch:   590] <validation 10 random sample> loss: 3.807 , auc score: 0.752\n",
            "[epoch: 1, batch:   600] training loss: 9.115 training auc score: 0.758\n",
            "[epoch: 1, batch:   600] <validation 10 random sample> loss: 7.162 , auc score: 0.671\n",
            "[epoch: 1, batch:   610] training loss: 7.945 training auc score: 0.782\n",
            "[epoch: 1, batch:   610] <validation 10 random sample> loss: 8.336 , auc score: 0.614\n",
            "[epoch: 1, batch:   620] training loss: 6.969 training auc score: 0.681\n",
            "[epoch: 1, batch:   620] <validation 10 random sample> loss: 8.417 , auc score: 0.609\n",
            "[epoch: 1, batch:   630] training loss: 7.075 training auc score: 0.746\n",
            "[epoch: 1, batch:   630] <validation 10 random sample> loss: 6.036 , auc score: 0.699\n",
            "[epoch: 1, batch:   640] training loss: 7.855 training auc score: 0.805\n",
            "[epoch: 1, batch:   640] <validation 10 random sample> loss: 15.060 , auc score: 0.635\n",
            "[epoch: 1, batch:   650] training loss: 7.892 training auc score: 0.577\n",
            "[epoch: 1, batch:   650] <validation 10 random sample> loss: 4.887 , auc score: 0.814\n",
            "[epoch: 1, batch:   660] training loss: 7.912 training auc score: 0.716\n",
            "[epoch: 1, batch:   660] <validation 10 random sample> loss: 6.041 , auc score: 0.764\n",
            "[epoch: 1, batch:   670] training loss: 6.641 training auc score: 0.810\n",
            "[epoch: 1, batch:   670] <validation 10 random sample> loss: 11.599 , auc score: 0.738\n",
            "[epoch: 1, batch:   680] training loss: 6.620 training auc score: 0.725\n",
            "[epoch: 1, batch:   680] <validation 10 random sample> loss: 6.027 , auc score: 0.714\n",
            "[epoch: 1, batch:   690] training loss: 8.068 training auc score: 0.675\n",
            "[epoch: 1, batch:   690] <validation 10 random sample> loss: 7.221 , auc score: 0.707\n",
            "[epoch: 1, batch:   700] training loss: 6.276 training auc score: 0.647\n",
            "[epoch: 1, batch:   700] <validation 10 random sample> loss: 12.818 , auc score: 0.616\n",
            "[epoch: 1, batch:   710] training loss: 9.469 training auc score: 0.727\n",
            "[epoch: 1, batch:   710] <validation 10 random sample> loss: 8.435 , auc score: 0.623\n",
            "[epoch: 1, batch:   720] training loss: 8.663 training auc score: 0.800\n",
            "[epoch: 1, batch:   720] <validation 10 random sample> loss: 6.101 , auc score: 0.715\n",
            "[epoch: 1, batch:   730] training loss: 7.581 training auc score: 0.703\n",
            "[epoch: 1, batch:   730] <validation 10 random sample> loss: 13.575 , auc score: 0.667\n",
            "[epoch: 1, batch:   740] training loss: 8.066 training auc score: 0.741\n",
            "[epoch: 1, batch:   740] <validation 10 random sample> loss: 8.315 , auc score: 0.738\n",
            "[epoch: 1, batch:   750] training loss: 8.220 training auc score: 0.670\n",
            "[epoch: 1, batch:   750] <validation 10 random sample> loss: 7.205 , auc score: 0.711\n",
            "[epoch: 1, batch:   760] training loss: 7.589 training auc score: 0.746\n",
            "[epoch: 1, batch:   760] <validation 10 random sample> loss: 8.289 , auc score: 0.695\n",
            "[epoch: 1, batch:   770] training loss: 6.164 training auc score: 0.758\n",
            "[epoch: 1, batch:   770] <validation 10 random sample> loss: 7.111 , auc score: 0.765\n",
            "[epoch: 1, batch:   780] training loss: 7.980 training auc score: 0.735\n",
            "[epoch: 1, batch:   780] <validation 10 random sample> loss: 7.135 , auc score: 0.736\n",
            "[epoch: 1, batch:   790] training loss: 8.878 training auc score: 0.763\n",
            "[epoch: 1, batch:   790] <validation 10 random sample> loss: 12.708 , auc score: 0.640\n",
            "[epoch: 1, batch:   800] training loss: 6.930 training auc score: 0.713\n",
            "[epoch: 1, batch:   800] <validation 10 random sample> loss: 7.170 , auc score: 0.732\n",
            "[epoch: 1, batch:   810] training loss: 7.859 training auc score: 0.700\n",
            "[epoch: 1, batch:   810] <validation 10 random sample> loss: 8.336 , auc score: 0.721\n",
            "[epoch: 1, batch:   820] training loss: 7.518 training auc score: 0.697\n",
            "[epoch: 1, batch:   820] <validation 10 random sample> loss: 8.317 , auc score: 0.732\n",
            "[epoch: 1, batch:   830] training loss: 6.288 training auc score: 0.751\n",
            "[epoch: 1, batch:   830] <validation 10 random sample> loss: 8.407 , auc score: 0.609\n",
            "[epoch: 1, batch:   840] training loss: 7.749 training auc score: 0.664\n",
            "[epoch: 1, batch:   840] <validation 10 random sample> loss: 7.213 , auc score: 0.733\n",
            "[epoch: 1, batch:   850] training loss: 7.538 training auc score: 0.758\n",
            "[epoch: 1, batch:   850] <validation 10 random sample> loss: 8.488 , auc score: 0.512\n",
            "[epoch: 1, batch:   860] training loss: 8.621 training auc score: 0.648\n",
            "[epoch: 1, batch:   860] <validation 10 random sample> loss: 6.077 , auc score: 0.787\n",
            "[epoch: 2, batch:    10] training loss: 8.139 training auc score: 0.739\n",
            "[epoch: 2, batch:    10] <validation 10 random sample> loss: 10.625 , auc score: 0.561\n",
            "[epoch: 2, batch:    20] training loss: 6.711 training auc score: 0.706\n",
            "[epoch: 2, batch:    20] <validation 10 random sample> loss: 8.323 , auc score: 0.555\n",
            "[epoch: 2, batch:    30] training loss: 8.121 training auc score: 0.673\n",
            "[epoch: 2, batch:    30] <validation 10 random sample> loss: 6.073 , auc score: 0.758\n",
            "[epoch: 2, batch:    40] training loss: 6.084 training auc score: 0.628\n",
            "[epoch: 2, batch:    40] <validation 10 random sample> loss: 9.520 , auc score: 0.611\n",
            "[epoch: 2, batch:    50] training loss: 8.012 training auc score: 0.705\n",
            "[epoch: 2, batch:    50] <validation 10 random sample> loss: 7.234 , auc score: 0.650\n",
            "[epoch: 2, batch:    60] training loss: 7.309 training auc score: 0.617\n",
            "[epoch: 2, batch:    60] <validation 10 random sample> loss: 12.938 , auc score: 0.660\n",
            "[epoch: 2, batch:    70] training loss: 7.313 training auc score: 0.709\n",
            "[epoch: 2, batch:    70] <validation 10 random sample> loss: 7.196 , auc score: 0.702\n",
            "[epoch: 2, batch:    80] training loss: 6.761 training auc score: 0.695\n",
            "[epoch: 2, batch:    80] <validation 10 random sample> loss: 6.204 , auc score: 0.691\n",
            "[epoch: 2, batch:    90] training loss: 7.282 training auc score: 0.780\n",
            "[epoch: 2, batch:    90] <validation 10 random sample> loss: 8.319 , auc score: 0.709\n",
            "[epoch: 2, batch:   100] training loss: 8.326 training auc score: 0.687\n",
            "[epoch: 2, batch:   100] <validation 10 random sample> loss: 9.942 , auc score: 0.687\n",
            "[epoch: 2, batch:   110] training loss: 7.549 training auc score: 0.688\n",
            "[epoch: 2, batch:   110] <validation 10 random sample> loss: 7.212 , auc score: 0.695\n",
            "[epoch: 2, batch:   120] training loss: 8.526 training auc score: 0.741\n",
            "[epoch: 2, batch:   120] <validation 10 random sample> loss: 6.064 , auc score: 0.717\n",
            "[epoch: 2, batch:   130] training loss: 8.298 training auc score: 0.723\n",
            "[epoch: 2, batch:   130] <validation 10 random sample> loss: 8.446 , auc score: 0.593\n",
            "[epoch: 2, batch:   140] training loss: 6.622 training auc score: 0.773\n",
            "[epoch: 2, batch:   140] <validation 10 random sample> loss: 8.350 , auc score: 0.643\n",
            "[epoch: 2, batch:   150] training loss: 7.537 training auc score: 0.745\n",
            "[epoch: 2, batch:   150] <validation 10 random sample> loss: 6.033 , auc score: 0.670\n",
            "[epoch: 2, batch:   160] training loss: 9.182 training auc score: 0.789\n",
            "[epoch: 2, batch:   160] <validation 10 random sample> loss: 8.287 , auc score: 0.688\n",
            "[epoch: 2, batch:   170] training loss: 6.583 training auc score: 0.741\n",
            "[epoch: 2, batch:   170] <validation 10 random sample> loss: 6.034 , auc score: 0.683\n",
            "[epoch: 2, batch:   180] training loss: 7.890 training auc score: 0.725\n",
            "[epoch: 2, batch:   180] <validation 10 random sample> loss: 6.098 , auc score: 0.719\n",
            "[epoch: 2, batch:   190] training loss: 7.404 training auc score: 0.546\n",
            "[epoch: 2, batch:   190] <validation 10 random sample> loss: 6.140 , auc score: 0.714\n",
            "[epoch: 2, batch:   200] training loss: 9.383 training auc score: 0.674\n",
            "[epoch: 2, batch:   200] <validation 10 random sample> loss: 7.190 , auc score: 0.703\n",
            "[epoch: 2, batch:   210] training loss: 8.081 training auc score: 0.774\n",
            "[epoch: 2, batch:   210] <validation 10 random sample> loss: 13.926 , auc score: 0.687\n",
            "[epoch: 2, batch:   220] training loss: 7.576 training auc score: 0.730\n",
            "[epoch: 2, batch:   220] <validation 10 random sample> loss: 6.080 , auc score: 0.740\n",
            "[epoch: 2, batch:   230] training loss: 8.410 training auc score: 0.672\n",
            "[epoch: 2, batch:   230] <validation 10 random sample> loss: 6.043 , auc score: 0.731\n",
            "[epoch: 2, batch:   240] training loss: 8.724 training auc score: 0.627\n",
            "[epoch: 2, batch:   240] <validation 10 random sample> loss: 6.058 , auc score: 0.792\n",
            "[epoch: 2, batch:   250] training loss: 6.736 training auc score: 0.710\n",
            "[epoch: 2, batch:   250] <validation 10 random sample> loss: 7.203 , auc score: 0.790\n",
            "[epoch: 2, batch:   260] training loss: 6.505 training auc score: 0.781\n",
            "[epoch: 2, batch:   260] <validation 10 random sample> loss: 9.453 , auc score: 0.584\n",
            "[epoch: 2, batch:   270] training loss: 6.953 training auc score: 0.713\n",
            "[epoch: 2, batch:   270] <validation 10 random sample> loss: 4.862 , auc score: 0.820\n",
            "[epoch: 2, batch:   280] training loss: 6.490 training auc score: 0.682\n",
            "[epoch: 2, batch:   280] <validation 10 random sample> loss: 4.894 , auc score: 0.762\n"
          ],
          "name": "stdout"
        }
      ]
    },
    {
      "cell_type": "code",
      "metadata": {
        "colab": {
          "base_uri": "https://localhost:8080/",
          "height": 354
        },
        "id": "LQkE8mE4ssFm",
        "outputId": "32ca152d-475c-464f-cd2e-56d8ff46895e"
      },
      "source": [
        "# Quick evaluation \r\n",
        "\r\n",
        "# get some random training images\r\n",
        "dataiter = iter(train_data_loader)\r\n",
        "sample = dataiter.next()\r\n",
        "inputs = sample['image'].float()\r\n",
        "label = sample['label'].float()\r\n",
        "print(inputs.shape)\r\n",
        "batch_predicted_values = Network(inputs)\r\n",
        "imshow(torchvision.utils.make_grid(sample['image']))\r\n",
        "print(sample['label'])\r\n",
        "print(batch_predicted_values)"
      ],
      "execution_count": null,
      "outputs": [
        {
          "output_type": "stream",
          "text": [
            "torch.Size([4, 3, 904, 904])\n"
          ],
          "name": "stdout"
        },
        {
          "output_type": "display_data",
          "data": {
            "image/png": "[encoded data removed]",
            "text/plain": [
              "<Figure size 432x288 with 1 Axes>"
            ]
          },
          "metadata": {
            "tags": [],
            "needs_background": "light"
          }
        },
        {
          "output_type": "stream",
          "text": [
            "tensor([[0, 0, 0, 0, 0, 0, 0, 0, 0, 1, 0],\n",
            "        [1, 0, 0, 0, 0, 0, 1, 0, 0, 1, 1],\n",
            "        [0, 0, 1, 0, 0, 0, 1, 0, 0, 1, 1],\n",
            "        [0, 0, 0, 0, 0, 0, 0, 0, 1, 0, 0]])\n",
            "tensor([[0.0714, 0.0890, 0.5512, 0.1069, 0.1224, 0.1886, 0.5511, 0.0882, 0.0762,\n",
            "         0.8075, 0.1462],\n",
            "        [0.1319, 0.0933, 0.2090, 0.0392, 0.0445, 0.1242, 0.4983, 0.1084, 0.1159,\n",
            "         0.6736, 0.1975],\n",
            "        [0.0784, 0.0943, 0.5275, 0.0987, 0.1119, 0.1845, 0.5557, 0.0974, 0.0803,\n",
            "         0.8101, 0.1670],\n",
            "        [0.1192, 0.0823, 0.1879, 0.0377, 0.0430, 0.1216, 0.4869, 0.1080, 0.1237,\n",
            "         0.6789, 0.1908]], grad_fn=<SigmoidBackward>)\n"
          ],
          "name": "stdout"
        }
      ]
    },
    {
      "cell_type": "code",
      "metadata": {
        "id": "rnhhfYNZJbhc"
      },
      "source": [
        ""
      ],
      "execution_count": null,
      "outputs": []
    }
  ]
}