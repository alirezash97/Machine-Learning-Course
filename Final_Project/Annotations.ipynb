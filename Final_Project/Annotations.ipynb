{
  "nbformat": 4,
  "nbformat_minor": 0,
  "metadata": {
    "colab": {
      "name": "Annotations.ipynb",
      "provenance": [],
      "authorship_tag": "ABX9TyNA8guuBPh6lZLaE8IFalGf",
      "include_colab_link": true
    },
    "kernelspec": {
      "name": "python3",
      "display_name": "Python 3"
    }
  },
  "cells": [
    {
      "cell_type": "markdown",
      "metadata": {
        "id": "view-in-github",
        "colab_type": "text"
      },
      "source": [
        "<a href=\"https://colab.research.google.com/github/alirezash97/Machine-Learning-Course/blob/main/Final_Project/Annotations.ipynb\" target=\"_parent\"><img src=\"https://colab.research.google.com/assets/colab-badge.svg\" alt=\"Open In Colab\"/></a>"
      ]
    },
    {
      "cell_type": "code",
      "metadata": {
        "colab": {
          "base_uri": "https://localhost:8080/"
        },
        "id": "BzvA1piVH8Ok",
        "outputId": "93d34b9e-3184-41c9-95e5-d1a1a4959334"
      },
      "source": [
        "!wget 'https://storage.googleapis.com/kaggle-competitions-data/kaggle-v2/23870/1781260/compressed/train.zip?GoogleAccessId=web-data@kaggle-161607.iam.gserviceaccount.com&Expires=1611834692&Signature=sba7KapwtOseu8Fj6Yoyj1tjmhrhBCXWKvdhdOhUWlIapQjsjY6Vw8uT6L7WpLutCsA%2B5y8NN59YMso50eX6tYCai72huJ1CQtpVtr9uZPR9tWuuOYFin8%2BslEGSXVgwooUHZnjUQJppXMxfS7hi70UJqdaiAiIpPv18ILPBG39TBBuOiYgCs%2Bu2yM28dJ5sh3eHjJOElA83FsX4bL8h3PimMScR4sTLaqETj%2Bm0haY%2FjS8fdAeKuSDifxD40RmJz99UsHHkmt%2FWaKWGX5YXlVfwr8rN6pH10CZQ%2FCpQvyRvlkB1CpMiqdl8UrLzukLzdrgrAAp0PiXKwnzrwU%2B7Jw%3D%3D&response-content-disposition=attachment%3B+filename%3Dtrain.zip'\r\n",
        "\r\n",
        "\r\n",
        "\r\n",
        "!wget 'https://storage.googleapis.com/kaggle-competitions-data/kaggle-v2/23870/1781260/compressed/train_annotations.csv.zip?GoogleAccessId=web-data@kaggle-161607.iam.gserviceaccount.com&Expires=1611897470&Signature=OteKBnljOwGhvVGphEn3gxjPtULu7rF6lCl8QhWUzknSMWdayANHoEab1p4ObT%2F7UeLmBGZ90Cp6%2B0imtPAhxAUpXzISZQvRZObQWPbUJW8SRTjJS2%2Bbp2ZOlXe%2Be0iXiUO%2FvPIULpj2EIKbBtuvByStii4jWfsk5Ju376bRHwxv7YQuDf2%2BbNoacXBQ1AfhV%2FM7XGiN6rgM%2BfVOAPHaEacXHk1vSXZcmfgs38VcP5BZVD6DQW5lVF2X%2Fm0rxfIFtCUrq0%2Btes5KnibXDifU3iY59z4%2FIAMCKhjIGXZ%2FddaSmnQaRCMkmMTJRtCASd4e6rll2AFCI1XFR5CL8Z%2FROw%3D%3D&response-content-disposition=attachment%3B+filename%3Dtrain_annotations.csv.zip'"
      ],
      "execution_count": 1,
      "outputs": [
        {
          "output_type": "stream",
          "text": [
            "The name is too long, 511 chars total.\n",
            "Trying to shorten...\n",
            "New name is train.zip?GoogleAccessId=web-data@kaggle-161607.iam.gserviceaccount.com&Expires=1611834692&Signature=sba7KapwtOseu8Fj6Yoyj1tjmhrhBCXWKvdhdOhUWlIapQjsjY6Vw8uT6L7WpLutCsA+5y8NN59YMso50eX6tYCai72huJ1CQtpVtr9uZPR9tWuuOYFin8+slEGSXVgwooUHZnj.\n",
            "--2021-01-26 09:13:33--  https://storage.googleapis.com/kaggle-competitions-data/kaggle-v2/23870/1781260/compressed/train.zip?GoogleAccessId=web-data@kaggle-161607.iam.gserviceaccount.com&Expires=1611834692&Signature=sba7KapwtOseu8Fj6Yoyj1tjmhrhBCXWKvdhdOhUWlIapQjsjY6Vw8uT6L7WpLutCsA%2B5y8NN59YMso50eX6tYCai72huJ1CQtpVtr9uZPR9tWuuOYFin8%2BslEGSXVgwooUHZnjUQJppXMxfS7hi70UJqdaiAiIpPv18ILPBG39TBBuOiYgCs%2Bu2yM28dJ5sh3eHjJOElA83FsX4bL8h3PimMScR4sTLaqETj%2Bm0haY%2FjS8fdAeKuSDifxD40RmJz99UsHHkmt%2FWaKWGX5YXlVfwr8rN6pH10CZQ%2FCpQvyRvlkB1CpMiqdl8UrLzukLzdrgrAAp0PiXKwnzrwU%2B7Jw%3D%3D&response-content-disposition=attachment%3B+filename%3Dtrain.zip\n",
            "Resolving storage.googleapis.com (storage.googleapis.com)... 74.125.137.128, 142.250.101.128, 2607:f8b0:4023:c03::80, ...\n",
            "Connecting to storage.googleapis.com (storage.googleapis.com)|74.125.137.128|:443... connected.\n",
            "HTTP request sent, awaiting response... 200 OK\n",
            "Length: 11193497112 (10G) [application/zip]\n",
            "Saving to: ‘train.zip?GoogleAccessId=web-data@kaggle-161607.iam.gserviceaccount.com&Expires=1611834692&Signature=sba7KapwtOseu8Fj6Yoyj1tjmhrhBCXWKvdhdOhUWlIapQjsjY6Vw8uT6L7WpLutCsA+5y8NN59YMso50eX6tYCai72huJ1CQtpVtr9uZPR9tWuuOYFin8+slEGSXVgwooUHZnj’\n",
            "\n",
            "train.zip?GoogleAcc 100%[===================>]  10.42G  86.1MB/s    in 2m 46s  \n",
            "\n",
            "2021-01-26 09:16:19 (64.3 MB/s) - ‘train.zip?GoogleAccessId=web-data@kaggle-161607.iam.gserviceaccount.com&Expires=1611834692&Signature=sba7KapwtOseu8Fj6Yoyj1tjmhrhBCXWKvdhdOhUWlIapQjsjY6Vw8uT6L7WpLutCsA+5y8NN59YMso50eX6tYCai72huJ1CQtpVtr9uZPR9tWuuOYFin8+slEGSXVgwooUHZnj’ saved [11193497112/11193497112]\n",
            "\n",
            "The name is too long, 551 chars total.\n",
            "Trying to shorten...\n",
            "New name is train_annotations.csv.zip?GoogleAccessId=web-data@kaggle-161607.iam.gserviceaccount.com&Expires=1611897470&Signature=OteKBnljOwGhvVGphEn3gxjPtULu7rF6lCl8QhWUzknSMWdayANHoEab1p4ObT%2F7UeLmBGZ90Cp6+0imtPAhxAUpXzISZQvRZObQWPbUJW8SRTjJS2+bp.\n",
            "--2021-01-26 09:16:20--  https://storage.googleapis.com/kaggle-competitions-data/kaggle-v2/23870/1781260/compressed/train_annotations.csv.zip?GoogleAccessId=web-data@kaggle-161607.iam.gserviceaccount.com&Expires=1611897470&Signature=OteKBnljOwGhvVGphEn3gxjPtULu7rF6lCl8QhWUzknSMWdayANHoEab1p4ObT%2F7UeLmBGZ90Cp6%2B0imtPAhxAUpXzISZQvRZObQWPbUJW8SRTjJS2%2Bbp2ZOlXe%2Be0iXiUO%2FvPIULpj2EIKbBtuvByStii4jWfsk5Ju376bRHwxv7YQuDf2%2BbNoacXBQ1AfhV%2FM7XGiN6rgM%2BfVOAPHaEacXHk1vSXZcmfgs38VcP5BZVD6DQW5lVF2X%2Fm0rxfIFtCUrq0%2Btes5KnibXDifU3iY59z4%2FIAMCKhjIGXZ%2FddaSmnQaRCMkmMTJRtCASd4e6rll2AFCI1XFR5CL8Z%2FROw%3D%3D&response-content-disposition=attachment%3B+filename%3Dtrain_annotations.csv.zip\n",
            "Resolving storage.googleapis.com (storage.googleapis.com)... 142.250.101.128, 74.125.137.128, 2607:f8b0:4023:c03::80, ...\n",
            "Connecting to storage.googleapis.com (storage.googleapis.com)|142.250.101.128|:443... connected.\n",
            "HTTP request sent, awaiting response... 200 OK\n",
            "Length: 1531264 (1.5M) [application/zip]\n",
            "Saving to: ‘train_annotations.csv.zip?GoogleAccessId=web-data@kaggle-161607.iam.gserviceaccount.com&Expires=1611897470&Signature=OteKBnljOwGhvVGphEn3gxjPtULu7rF6lCl8QhWUzknSMWdayANHoEab1p4ObT%2F7UeLmBGZ90Cp6+0imtPAhxAUpXzISZQvRZObQWPbUJW8SRTjJS2+bp’\n",
            "\n",
            "train_annotations.c 100%[===================>]   1.46M  --.-KB/s    in 0.009s  \n",
            "\n",
            "2021-01-26 09:16:20 (164 MB/s) - ‘train_annotations.csv.zip?GoogleAccessId=web-data@kaggle-161607.iam.gserviceaccount.com&Expires=1611897470&Signature=OteKBnljOwGhvVGphEn3gxjPtULu7rF6lCl8QhWUzknSMWdayANHoEab1p4ObT%2F7UeLmBGZ90Cp6+0imtPAhxAUpXzISZQvRZObQWPbUJW8SRTjJS2+bp’ saved [1531264/1531264]\n",
            "\n"
          ],
          "name": "stdout"
        }
      ]
    },
    {
      "cell_type": "code",
      "metadata": {
        "id": "iE0z02ObIO_J"
      },
      "source": [
        "# !mkdir /content/trainset\r\n",
        "# !mkdir /content/trainset/data/\r\n",
        "# !mkdir /content/trainset/data/1/\r\n",
        "# !unzip '/content/train.zip' -d /content/trainset/data/1/\r\n",
        "# !unzip '/content/train_annotations.csv.zip' -d /content/trainset/annotations/"
      ],
      "execution_count": null,
      "outputs": []
    },
    {
      "cell_type": "code",
      "metadata": {
        "colab": {
          "base_uri": "https://localhost:8080/",
          "height": 195
        },
        "id": "4N1FWlaEJTw8",
        "outputId": "d808939f-95f0-48a7-9f62-2c30bfae1391"
      },
      "source": [
        "import pandas as pd \r\n",
        "annotations = pd.read_csv('/content/trainset/annotations/train_annotations.csv')\r\n",
        "annotations.head()"
      ],
      "execution_count": 4,
      "outputs": [
        {
          "output_type": "execute_result",
          "data": {
            "text/html": [
              "<div>\n",
              "<style scoped>\n",
              "    .dataframe tbody tr th:only-of-type {\n",
              "        vertical-align: middle;\n",
              "    }\n",
              "\n",
              "    .dataframe tbody tr th {\n",
              "        vertical-align: top;\n",
              "    }\n",
              "\n",
              "    .dataframe thead th {\n",
              "        text-align: right;\n",
              "    }\n",
              "</style>\n",
              "<table border=\"1\" class=\"dataframe\">\n",
              "  <thead>\n",
              "    <tr style=\"text-align: right;\">\n",
              "      <th></th>\n",
              "      <th>StudyInstanceUID</th>\n",
              "      <th>label</th>\n",
              "      <th>data</th>\n",
              "    </tr>\n",
              "  </thead>\n",
              "  <tbody>\n",
              "    <tr>\n",
              "      <th>0</th>\n",
              "      <td>1.2.826.0.1.3680043.8.498.12616281126973421762...</td>\n",
              "      <td>CVC - Normal</td>\n",
              "      <td>[[1487, 1279], [1477, 1168], [1472, 1052], [14...</td>\n",
              "    </tr>\n",
              "    <tr>\n",
              "      <th>1</th>\n",
              "      <td>1.2.826.0.1.3680043.8.498.12616281126973421762...</td>\n",
              "      <td>CVC - Normal</td>\n",
              "      <td>[[1328, 7], [1347, 101], [1383, 193], [1400, 2...</td>\n",
              "    </tr>\n",
              "    <tr>\n",
              "      <th>2</th>\n",
              "      <td>1.2.826.0.1.3680043.8.498.72921907356394389969...</td>\n",
              "      <td>CVC - Borderline</td>\n",
              "      <td>[[801, 1207], [812, 1112], [823, 1023], [842, ...</td>\n",
              "    </tr>\n",
              "    <tr>\n",
              "      <th>3</th>\n",
              "      <td>1.2.826.0.1.3680043.8.498.11697104485452001927...</td>\n",
              "      <td>CVC - Normal</td>\n",
              "      <td>[[1366, 961], [1411, 861], [1453, 751], [1508,...</td>\n",
              "    </tr>\n",
              "    <tr>\n",
              "      <th>4</th>\n",
              "      <td>1.2.826.0.1.3680043.8.498.87704688663091069148...</td>\n",
              "      <td>NGT - Normal</td>\n",
              "      <td>[[1862, 14], [1845, 293], [1801, 869], [1716, ...</td>\n",
              "    </tr>\n",
              "  </tbody>\n",
              "</table>\n",
              "</div>"
            ],
            "text/plain": [
              "                                    StudyInstanceUID  ...                                               data\n",
              "0  1.2.826.0.1.3680043.8.498.12616281126973421762...  ...  [[1487, 1279], [1477, 1168], [1472, 1052], [14...\n",
              "1  1.2.826.0.1.3680043.8.498.12616281126973421762...  ...  [[1328, 7], [1347, 101], [1383, 193], [1400, 2...\n",
              "2  1.2.826.0.1.3680043.8.498.72921907356394389969...  ...  [[801, 1207], [812, 1112], [823, 1023], [842, ...\n",
              "3  1.2.826.0.1.3680043.8.498.11697104485452001927...  ...  [[1366, 961], [1411, 861], [1453, 751], [1508,...\n",
              "4  1.2.826.0.1.3680043.8.498.87704688663091069148...  ...  [[1862, 14], [1845, 293], [1801, 869], [1716, ...\n",
              "\n",
              "[5 rows x 3 columns]"
            ]
          },
          "metadata": {
            "tags": []
          },
          "execution_count": 4
        }
      ]
    },
    {
      "cell_type": "code",
      "metadata": {
        "colab": {
          "base_uri": "https://localhost:8080/"
        },
        "id": "ltu_ndY1Kgkk",
        "outputId": "30643b46-833c-463f-b047-db0ca014db25"
      },
      "source": [
        "import numpy as np \r\n",
        "\r\n",
        "sample = annotations.iloc[1, :]\r\n",
        "img_name = sample['StudyInstanceUID']\r\n",
        "landmarks = sample['data']\r\n",
        "print(type(landmarks))\r\n",
        "landmarks = np.array(list(landmarks))\r\n",
        "print(landmarks)\r\n",
        "\r\n",
        "# print('Image name: {}'.format(img_name))\r\n",
        "# print('Landmarks shape: {}'.format(landmarks.shape))\r\n",
        "# print('First 4 Landmarks: {}'.format(landmarks[:4]))"
      ],
      "execution_count": 29,
      "outputs": [
        {
          "output_type": "stream",
          "text": [
            "<class 'str'>\n",
            "['[' '[' '1' '3' '2' '8' ',' ' ' '7' ']' ',' ' ' '[' '1' '3' '4' '7' ','\n",
            " ' ' '1' '0' '1' ']' ',' ' ' '[' '1' '3' '8' '3' ',' ' ' '1' '9' '3' ']'\n",
            " ',' ' ' '[' '1' '4' '0' '0' ',' ' ' '2' '6' '7' ']' ',' ' ' '[' '1' '4'\n",
            " '1' '1' ',' ' ' '3' '6' '6' ']' ',' ' ' '[' '1' '4' '0' '0' ',' ' ' '4'\n",
            " '2' '8' ']' ',' ' ' '[' '1' '3' '8' '7' ',' ' ' '5' '4' '5' ']' ',' ' '\n",
            " '[' '1' '3' '9' '4' ',' ' ' '6' '4' '0' ']' ',' ' ' '[' '1' '4' '0' '0'\n",
            " ',' ' ' '7' '0' '7' ']' ',' ' ' '[' '1' '4' '1' '7' ',' ' ' '7' '8' '3'\n",
            " ']' ',' ' ' '[' '1' '4' '3' '2' ',' ' ' '8' '5' '2' ']' ',' ' ' '[' '1'\n",
            " '4' '6' '2' ',' ' ' '9' '5' '3' ']' ',' ' ' '[' '1' '4' '5' '7' ',' ' '\n",
            " '1' '0' '0' '6' ']' ']']\n"
          ],
          "name": "stdout"
        }
      ]
    },
    {
      "cell_type": "code",
      "metadata": {
        "id": "NJIX-wbgMO1C"
      },
      "source": [
        ""
      ],
      "execution_count": null,
      "outputs": []
    }
  ]
}