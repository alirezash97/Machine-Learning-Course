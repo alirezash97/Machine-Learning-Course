{
  "nbformat": 4,
  "nbformat_minor": 0,
  "metadata": {
    "colab": {
      "name": "Annotations.ipynb",
      "provenance": [],
      "include_colab_link": true
    },
    "kernelspec": {
      "name": "python3",
      "display_name": "Python 3"
    },
    "accelerator": "GPU",
    "widgets": {
      "application/vnd.jupyter.widget-state+json": {
        "00bd25cc3c0f4c11856a2a7b84fa3f63": {
          "model_module": "@jupyter-widgets/controls",
          "model_name": "HBoxModel",
          "state": {
            "_view_name": "HBoxView",
            "_dom_classes": [],
            "_model_name": "HBoxModel",
            "_view_module": "@jupyter-widgets/controls",
            "_model_module_version": "1.5.0",
            "_view_count": null,
            "_view_module_version": "1.5.0",
            "box_style": "",
            "layout": "IPY_MODEL_2d6a18aad3fe443dbbd1fdc816799633",
            "_model_module": "@jupyter-widgets/controls",
            "children": [
              "IPY_MODEL_7521e7bbe5f6490a8d66e042cab560be",
              "IPY_MODEL_06e5517a9d1244c3b1c815c1af6043b9"
            ]
          }
        },
        "2d6a18aad3fe443dbbd1fdc816799633": {
          "model_module": "@jupyter-widgets/base",
          "model_name": "LayoutModel",
          "state": {
            "_view_name": "LayoutView",
            "grid_template_rows": null,
            "right": null,
            "justify_content": null,
            "_view_module": "@jupyter-widgets/base",
            "overflow": null,
            "_model_module_version": "1.2.0",
            "_view_count": null,
            "flex_flow": null,
            "width": null,
            "min_width": null,
            "border": null,
            "align_items": null,
            "bottom": null,
            "_model_module": "@jupyter-widgets/base",
            "top": null,
            "grid_column": null,
            "overflow_y": null,
            "overflow_x": null,
            "grid_auto_flow": null,
            "grid_area": null,
            "grid_template_columns": null,
            "flex": null,
            "_model_name": "LayoutModel",
            "justify_items": null,
            "grid_row": null,
            "max_height": null,
            "align_content": null,
            "visibility": null,
            "align_self": null,
            "height": null,
            "min_height": null,
            "padding": null,
            "grid_auto_rows": null,
            "grid_gap": null,
            "max_width": null,
            "order": null,
            "_view_module_version": "1.2.0",
            "grid_template_areas": null,
            "object_position": null,
            "object_fit": null,
            "grid_auto_columns": null,
            "margin": null,
            "display": null,
            "left": null
          }
        },
        "7521e7bbe5f6490a8d66e042cab560be": {
          "model_module": "@jupyter-widgets/controls",
          "model_name": "FloatProgressModel",
          "state": {
            "_view_name": "ProgressView",
            "style": "IPY_MODEL_10098b9a658f4a3ca9e661b0561ab1bc",
            "_dom_classes": [],
            "description": "100%",
            "_model_name": "FloatProgressModel",
            "bar_style": "success",
            "max": 102502400,
            "_view_module": "@jupyter-widgets/controls",
            "_model_module_version": "1.5.0",
            "value": 102502400,
            "_view_count": null,
            "_view_module_version": "1.5.0",
            "orientation": "horizontal",
            "min": 0,
            "description_tooltip": null,
            "_model_module": "@jupyter-widgets/controls",
            "layout": "IPY_MODEL_d463eb5e9e38415ab7fd0847d59b8967"
          }
        },
        "06e5517a9d1244c3b1c815c1af6043b9": {
          "model_module": "@jupyter-widgets/controls",
          "model_name": "HTMLModel",
          "state": {
            "_view_name": "HTMLView",
            "style": "IPY_MODEL_86a6752a316b4858841de468f2a64810",
            "_dom_classes": [],
            "description": "",
            "_model_name": "HTMLModel",
            "placeholder": "​",
            "_view_module": "@jupyter-widgets/controls",
            "_model_module_version": "1.5.0",
            "value": " 97.8M/97.8M [00:32&lt;00:00, 3.16MB/s]",
            "_view_count": null,
            "_view_module_version": "1.5.0",
            "description_tooltip": null,
            "_model_module": "@jupyter-widgets/controls",
            "layout": "IPY_MODEL_284fdaad8de449898252ae37b1a4ad2a"
          }
        },
        "10098b9a658f4a3ca9e661b0561ab1bc": {
          "model_module": "@jupyter-widgets/controls",
          "model_name": "ProgressStyleModel",
          "state": {
            "_view_name": "StyleView",
            "_model_name": "ProgressStyleModel",
            "description_width": "initial",
            "_view_module": "@jupyter-widgets/base",
            "_model_module_version": "1.5.0",
            "_view_count": null,
            "_view_module_version": "1.2.0",
            "bar_color": null,
            "_model_module": "@jupyter-widgets/controls"
          }
        },
        "d463eb5e9e38415ab7fd0847d59b8967": {
          "model_module": "@jupyter-widgets/base",
          "model_name": "LayoutModel",
          "state": {
            "_view_name": "LayoutView",
            "grid_template_rows": null,
            "right": null,
            "justify_content": null,
            "_view_module": "@jupyter-widgets/base",
            "overflow": null,
            "_model_module_version": "1.2.0",
            "_view_count": null,
            "flex_flow": null,
            "width": null,
            "min_width": null,
            "border": null,
            "align_items": null,
            "bottom": null,
            "_model_module": "@jupyter-widgets/base",
            "top": null,
            "grid_column": null,
            "overflow_y": null,
            "overflow_x": null,
            "grid_auto_flow": null,
            "grid_area": null,
            "grid_template_columns": null,
            "flex": null,
            "_model_name": "LayoutModel",
            "justify_items": null,
            "grid_row": null,
            "max_height": null,
            "align_content": null,
            "visibility": null,
            "align_self": null,
            "height": null,
            "min_height": null,
            "padding": null,
            "grid_auto_rows": null,
            "grid_gap": null,
            "max_width": null,
            "order": null,
            "_view_module_version": "1.2.0",
            "grid_template_areas": null,
            "object_position": null,
            "object_fit": null,
            "grid_auto_columns": null,
            "margin": null,
            "display": null,
            "left": null
          }
        },
        "86a6752a316b4858841de468f2a64810": {
          "model_module": "@jupyter-widgets/controls",
          "model_name": "DescriptionStyleModel",
          "state": {
            "_view_name": "StyleView",
            "_model_name": "DescriptionStyleModel",
            "description_width": "",
            "_view_module": "@jupyter-widgets/base",
            "_model_module_version": "1.5.0",
            "_view_count": null,
            "_view_module_version": "1.2.0",
            "_model_module": "@jupyter-widgets/controls"
          }
        },
        "284fdaad8de449898252ae37b1a4ad2a": {
          "model_module": "@jupyter-widgets/base",
          "model_name": "LayoutModel",
          "state": {
            "_view_name": "LayoutView",
            "grid_template_rows": null,
            "right": null,
            "justify_content": null,
            "_view_module": "@jupyter-widgets/base",
            "overflow": null,
            "_model_module_version": "1.2.0",
            "_view_count": null,
            "flex_flow": null,
            "width": null,
            "min_width": null,
            "border": null,
            "align_items": null,
            "bottom": null,
            "_model_module": "@jupyter-widgets/base",
            "top": null,
            "grid_column": null,
            "overflow_y": null,
            "overflow_x": null,
            "grid_auto_flow": null,
            "grid_area": null,
            "grid_template_columns": null,
            "flex": null,
            "_model_name": "LayoutModel",
            "justify_items": null,
            "grid_row": null,
            "max_height": null,
            "align_content": null,
            "visibility": null,
            "align_self": null,
            "height": null,
            "min_height": null,
            "padding": null,
            "grid_auto_rows": null,
            "grid_gap": null,
            "max_width": null,
            "order": null,
            "_view_module_version": "1.2.0",
            "grid_template_areas": null,
            "object_position": null,
            "object_fit": null,
            "grid_auto_columns": null,
            "margin": null,
            "display": null,
            "left": null
          }
        }
      }
    }
  },
  "cells": [
    {
      "cell_type": "markdown",
      "metadata": {
        "id": "view-in-github",
        "colab_type": "text"
      },
      "source": [
        "<a href=\"https://colab.research.google.com/github/alirezash97/Machine-Learning-Course/blob/main/Final_Project/Annotations_server.ipynb\" target=\"_parent\"><img src=\"https://colab.research.google.com/assets/colab-badge.svg\" alt=\"Open In Colab\"/></a>"
      ]
    },
    {
      "cell_type": "code",
      "metadata": {
        "id": "MvHWw5FNjHCB",
        "colab": {
          "base_uri": "https://localhost:8080/"
        },
        "outputId": "b7310860-d97f-4e67-95dd-68cf7356f2df"
      },
      "source": [
        "# from google.colab import drive\n",
        "# drive.mount('/content/drive')"
      ],
      "execution_count": null,
      "outputs": [
        {
          "output_type": "stream",
          "text": [
            "Mounted at /content/drive\n"
          ],
          "name": "stdout"
        }
      ]
    },
    {
      "cell_type": "code",
      "metadata": {
        "id": "BzvA1piVH8Ok"
      },
      "source": [
        "# !wget 'https://storage.googleapis.com/kaggle-competitions-data/kaggle-v2/23870/1781260/compressed/train.zip?GoogleAccessId=web-data@kaggle-161607.iam.gserviceaccount.com&Expires=1615644796&Signature=tOaUQg0kWbpY1XY8tk67EZd270XYPIkPHqm9fCfadPqAPBIRTwD6rMK%2FOhJSRITKOkwF0DXwAxhukQf9hSxRrEmt2p7%2BufLyVOgyNEjkrLW1%2FMWmC93nBqXixlfwVno%2B9833CvHZw7amom4OHKRTgENfLED6jv9vTN5OByGCaHQBv4HGX%2BCnAYrzLElQl%2BoHxze418ZmFXXV5eAcPd7hPlhhV0kgupERBs9R57WTtVOTjGF%2B6Hp0OuwbHx5lmFCDnI3aa7kUQbjlFMSGetaKkK2qP4Kvd26srxZkCHUaxZ07h301QeQeViQePrFHYVxE3g9oUkbtB88CCVIfO9QROw%3D%3D&response-content-disposition=attachment%3B+filename%3Dtrain.zip'\r\n",
        "\r\n",
        "\r\n",
        "# !wget 'https://storage.googleapis.com/kaggle-competitions-data/kaggle-v2/23870/1781260/compressed/train_annotations.csv.zip?GoogleAccessId=web-data@kaggle-161607.iam.gserviceaccount.com&Expires=1615644835&Signature=RZj8URHBjfBRwj2YsE5N5EPmztT75erf2Nj86vEHq3KYKRqivZHdLElkV%2Fjngy1KdxtwbCXNNSwEhIVXubkCLbLikIrhwAcH67A%2FFLxJed3lvZQK5jEe%2FgP9R0uNjBpaU1xGETTO1Tefybh5Dy%2F6quM3fDbeRNVvKS9j6o2hb67y8laBOeBO%2FB1gCV8OusEieZRxwPSbEukTeKGMvHfOPo%2F7p374k2aJ%2Fmd5pUOpPu71tAfXa7dtO9dmCveHpSfJgB5%2FrczqULL5IavfVFtUviPXwGEh0TBai6GT4vvCSkQN6fif6dZinM4mZUr9Ts%2Bs4Np1qpsmkyGeMJewuzxnqA%3D%3D&response-content-disposition=attachment%3B+filename%3Dtrain_annotations.csv.zip'"
      ],
      "execution_count": null,
      "outputs": []
    },
    {
      "cell_type": "code",
      "metadata": {
        "id": "iE0z02ObIO_J"
      },
      "source": [
        "# !mkdir /content/trainset\r\n",
        "# !mkdir /content/trainset/data/\r\n",
        "# !mkdir /content/trainset/data/1/\r\n",
        "# !unzip '/content/train.zip' -d /content/trainset/data/1/\r\n",
        "# !unzip '/content/train_annotations.csv.zip' -d /content/trainset/annotations/"
      ],
      "execution_count": null,
      "outputs": []
    },
    {
      "cell_type": "code",
      "metadata": {
        "id": "kWWnuDSYI-Ti"
      },
      "source": [
        "import pandas as pd \r\n",
        "import re\r\n",
        "import ast\r\n",
        "import numpy as np\r\n",
        "import numpy as np \r\n",
        "from PIL import Image\r\n",
        "import random\r\n",
        "import torch.nn.functional as F\r\n",
        "from math import cos, sin, radians\r\n",
        "import imutils\r\n",
        "import cv2\r\n",
        "from matplotlib import cm\r\n",
        "import scipy.misc\r\n",
        "from skimage.draw import line\r\n",
        "\r\n",
        "from torch.utils.data import Dataset, DataLoader\r\n",
        "from torchvision import transforms, utils\r\n",
        "import torch\r\n",
        "import torchvision\r\n",
        "import os\r\n",
        "import matplotlib.pyplot as plt\r\n",
        "import copy\r\n",
        "import matplotlib.pyplot as plt\r\n",
        "\r\n",
        "import torch.nn as nn\r\n",
        "from torchvision import models\r\n",
        "from torch import optim\r\n",
        "import time\r\n",
        "import torch.nn as nn\r\n",
        "import torch.nn.functional as F \r\n",
        "from functools import partial\r\n",
        "import numpy as np\r\n",
        "import os\r\n",
        "import torch\r\n",
        "import torch.nn as nn\r\n",
        "import torch.nn.functional as F\r\n",
        "import torch.optim as optim\r\n",
        "from torch.utils.data import random_split\r\n",
        "import torchvision\r\n",
        "import torchvision.transforms as transforms\r\n",
        "import ray\r\n",
        "from ray import tune\r\n",
        "from ray.tune import CLIReporter\r\n",
        "from ray.tune import JupyterNotebookReporter\r\n",
        "from ray.tune.schedulers import ASHAScheduler\r\n",
        "import tensorboardX\r\n",
        "from sklearn.metrics import accuracy_score\r\n"
      ],
      "execution_count": null,
      "outputs": []
    },
    {
      "cell_type": "code",
      "metadata": {
        "colab": {
          "base_uri": "https://localhost:8080/",
          "height": 195
        },
        "id": "4N1FWlaEJTw8",
        "outputId": "3f378718-3d8e-48de-dae5-0f7a9c800cc3"
      },
      "source": [
        "\r\n",
        "annotations = pd.read_csv('/home/gcg_user1/train_annotations.csv')\r\n",
        "annotations.head()"
      ],
      "execution_count": null,
      "outputs": [
        {
          "output_type": "execute_result",
          "data": {
            "text/html": [
              "<div>\n",
              "<style scoped>\n",
              "    .dataframe tbody tr th:only-of-type {\n",
              "        vertical-align: middle;\n",
              "    }\n",
              "\n",
              "    .dataframe tbody tr th {\n",
              "        vertical-align: top;\n",
              "    }\n",
              "\n",
              "    .dataframe thead th {\n",
              "        text-align: right;\n",
              "    }\n",
              "</style>\n",
              "<table border=\"1\" class=\"dataframe\">\n",
              "  <thead>\n",
              "    <tr style=\"text-align: right;\">\n",
              "      <th></th>\n",
              "      <th>StudyInstanceUID</th>\n",
              "      <th>label</th>\n",
              "      <th>data</th>\n",
              "    </tr>\n",
              "  </thead>\n",
              "  <tbody>\n",
              "    <tr>\n",
              "      <th>0</th>\n",
              "      <td>1.2.826.0.1.3680043.8.498.12616281126973421762...</td>\n",
              "      <td>CVC - Normal</td>\n",
              "      <td>[[1487, 1279], [1477, 1168], [1472, 1052], [14...</td>\n",
              "    </tr>\n",
              "    <tr>\n",
              "      <th>1</th>\n",
              "      <td>1.2.826.0.1.3680043.8.498.12616281126973421762...</td>\n",
              "      <td>CVC - Normal</td>\n",
              "      <td>[[1328, 7], [1347, 101], [1383, 193], [1400, 2...</td>\n",
              "    </tr>\n",
              "    <tr>\n",
              "      <th>2</th>\n",
              "      <td>1.2.826.0.1.3680043.8.498.72921907356394389969...</td>\n",
              "      <td>CVC - Borderline</td>\n",
              "      <td>[[801, 1207], [812, 1112], [823, 1023], [842, ...</td>\n",
              "    </tr>\n",
              "    <tr>\n",
              "      <th>3</th>\n",
              "      <td>1.2.826.0.1.3680043.8.498.11697104485452001927...</td>\n",
              "      <td>CVC - Normal</td>\n",
              "      <td>[[1366, 961], [1411, 861], [1453, 751], [1508,...</td>\n",
              "    </tr>\n",
              "    <tr>\n",
              "      <th>4</th>\n",
              "      <td>1.2.826.0.1.3680043.8.498.87704688663091069148...</td>\n",
              "      <td>NGT - Normal</td>\n",
              "      <td>[[1862, 14], [1845, 293], [1801, 869], [1716, ...</td>\n",
              "    </tr>\n",
              "  </tbody>\n",
              "</table>\n",
              "</div>"
            ],
            "text/plain": [
              "                                    StudyInstanceUID  ...                                               data\n",
              "0  1.2.826.0.1.3680043.8.498.12616281126973421762...  ...  [[1487, 1279], [1477, 1168], [1472, 1052], [14...\n",
              "1  1.2.826.0.1.3680043.8.498.12616281126973421762...  ...  [[1328, 7], [1347, 101], [1383, 193], [1400, 2...\n",
              "2  1.2.826.0.1.3680043.8.498.72921907356394389969...  ...  [[801, 1207], [812, 1112], [823, 1023], [842, ...\n",
              "3  1.2.826.0.1.3680043.8.498.11697104485452001927...  ...  [[1366, 961], [1411, 861], [1453, 751], [1508,...\n",
              "4  1.2.826.0.1.3680043.8.498.87704688663091069148...  ...  [[1862, 14], [1845, 293], [1801, 869], [1716, ...\n",
              "\n",
              "[5 rows x 3 columns]"
            ]
          },
          "metadata": {
            "tags": []
          },
          "execution_count": 4
        }
      ]
    },
    {
      "cell_type": "code",
      "metadata": {
        "colab": {
          "base_uri": "https://localhost:8080/"
        },
        "id": "gkPMdW9l_pHs",
        "outputId": "ba27cf61-8fea-45ed-acbf-831c7adce3c9"
      },
      "source": [
        "len(annotations)"
      ],
      "execution_count": null,
      "outputs": [
        {
          "output_type": "execute_result",
          "data": {
            "text/plain": [
              "17999"
            ]
          },
          "metadata": {
            "tags": []
          },
          "execution_count": 2
        }
      ]
    },
    {
      "cell_type": "code",
      "metadata": {
        "id": "nhInlCf07y-3"
      },
      "source": [
        "\r\n",
        "def str2array(s):\r\n",
        "    # Remove space after [\r\n",
        "    s=re.sub('\\[ +', '[', s.strip())\r\n",
        "    # Replace commas and spaces\r\n",
        "    s=re.sub('[,\\s]+', ', ', s)\r\n",
        "    return np.array(ast.literal_eval(s))"
      ],
      "execution_count": null,
      "outputs": []
    },
    {
      "cell_type": "code",
      "metadata": {
        "colab": {
          "base_uri": "https://localhost:8080/"
        },
        "id": "ltu_ndY1Kgkk",
        "outputId": "1f698a26-14d4-4f41-d691-36a8655fc794"
      },
      "source": [
        "\r\n",
        "##############\r\n",
        "msk_for_dataset_subset = np.random.rand(len(annotations)) < 1\r\n",
        "dataset_subset = annotations[msk_for_dataset_subset]\r\n",
        "##############\r\n",
        "\r\n",
        "msk = np.random.rand(len(dataset_subset)) > 0.25\r\n",
        "train_samples = dataset_subset[msk]\r\n",
        "validation_samples = dataset_subset[~msk]\r\n",
        "\r\n",
        "##############\r\n",
        "# train_samples = train_samples[:5000]\r\n",
        "# validation_samples = validation_samples[:1500]\r\n",
        "##############\r\n",
        "print('number of train samples: ', len(train_samples))\r\n",
        "print('number of validation samples: ', len(validation_samples))\r\n",
        "\r\n",
        "\r\n",
        "\r\n",
        "sample = dataset_subset.iloc[1, :]\r\n",
        "landmarks = sample['data']\r\n",
        "# print(landmarks)\r\n",
        "landmarks = np.array(str2array(landmarks))\r\n",
        "# print(type(landmarks))\r\n",
        "# landmarks = np.array(list(landmarks))\r\n",
        "print(\"sample landmark shape: \", landmarks.shape)\r\n",
        "# print(landmarks)\r\n",
        "\r\n",
        "# print('Image name: {}'.format(img_name))\r\n",
        "# print('Landmarks shape: {}'.format(landmarks.shape))\r\n",
        "# print('First 4 Landmarks: {}'.format(landmarks[:4]))"
      ],
      "execution_count": null,
      "outputs": [
        {
          "output_type": "stream",
          "text": [
            "number of train samples:  13449\n",
            "number of validation samples:  4550\n",
            "sample landmark shape:  (13, 2)\n"
          ],
          "name": "stdout"
        }
      ]
    },
    {
      "cell_type": "code",
      "metadata": {
        "id": "T93trPy9lFT0"
      },
      "source": [
        "def distance(x1, x2, y1, y2):\r\n",
        "  return np.sqrt( (x1-x2)**2 + (y1-y2)**2 )"
      ],
      "execution_count": null,
      "outputs": []
    },
    {
      "cell_type": "code",
      "metadata": {
        "id": "MDO0eWSppIjD"
      },
      "source": [
        "\r\n",
        "\r\n",
        "class RANZCRDataset():\r\n",
        "\r\n",
        "\r\n",
        "    def __init__(self, csv_file='/home/gcg_user1/main_trainset/trainset/train.csv', root_dir='/home/gcg_user1/main_trainset/trainset', transform=None,\r\n",
        "                                                                            transform_label=None, images_name=None):\r\n",
        "      \r\n",
        "      \r\n",
        "        \"\"\"\r\n",
        "        Args:\r\n",
        "            csv_file (string): Path to the csv file with annotations.\r\n",
        "            root_dir (string): Directory with all the images.\r\n",
        "            transform (callable, optional): Optional transform to be applied\r\n",
        "                on a sample.\r\n",
        "        \"\"\"\r\n",
        "        self.Images_name = images_name\r\n",
        "        self.root_dir = root_dir\r\n",
        "        self.transform = transform\r\n",
        "        self.transform_label = transform_label\r\n",
        "        \r\n",
        "\r\n",
        "    def __len__(self):\r\n",
        "        return len(self.Images_name)\r\n",
        "\r\n",
        "    #############\r\n",
        "\r\n",
        "\r\n",
        "    # def get_rot_mat(self, theta):\r\n",
        "\r\n",
        "    #   theta = torch.tensor(theta)\r\n",
        "    #   return torch.tensor([[torch.cos(theta), -torch.sin(theta), 0],\r\n",
        "    #                         [torch.sin(theta), torch.cos(theta), 0]])\r\n",
        "\r\n",
        "\r\n",
        "\r\n",
        "    # def rot_img_landmark(self, x, landmarks, theta, dtype):\r\n",
        "    #     rot_mat = self.get_rot_mat(theta)[None, ...].type(dtype).repeat(x.shape[0],1,1)\r\n",
        "    #     grid = F.affine_grid(rot_mat, x.size()).type(dtype)\r\n",
        "    #     image = F.grid_sample(x, grid)\r\n",
        "    #     landmarks = landmarks - 0.5\r\n",
        "    #     new_landmarks = np.matmul(landmarks, transformation_matrix)\r\n",
        "    #     new_landmarks = new_landmarks + 0.5\r\n",
        "    #     return image, new_landmarks\r\n",
        "\r\n",
        "\r\n",
        "    ##############\r\n",
        "\r\n",
        "    def __getitem__(self, idx):\r\n",
        "        centerCrop_value = 256\r\n",
        "        if torch.is_tensor(idx):\r\n",
        "            idx = idx.tolist()\r\n",
        "\r\n",
        "        img_name = os.path.join(self.root_dir,\r\n",
        "                                self.Images_name.iloc[idx, 0])\r\n",
        "        image = Image.open(img_name + '.jpg').convert('RGB')\r\n",
        "        labels = self.Images_name.iloc[idx, -1]\r\n",
        "        labels = torch.from_numpy(str2array(labels))\r\n",
        "        sample = {'image': image, 'label': labels }\r\n",
        "\r\n",
        "\r\n",
        "        if self.transform:\r\n",
        "\r\n",
        "          \r\n",
        "          tmp = np.zeros((100, 2))\r\n",
        "          for i in range(0, (sample['label'].shape[0]) ):\r\n",
        "            \r\n",
        "            tmp[i, 0] = ( (centerCrop_value / np.array(image).shape[1]) * np.array(sample['label'])[i, 0] ) \r\n",
        "            tmp[i, 1] = ( (centerCrop_value / np.array(image).shape[0]) * np.array(sample['label'])[i, 1] ) \r\n",
        "\r\n",
        "          ############ just for show\r\n",
        "          temp = np.zeros((100, 2))\r\n",
        "          for i in range(0, (sample['label'].shape[0]) ):\r\n",
        "            \r\n",
        "            temp[i, 0] = ( (1032 / np.array(image).shape[1]) * np.array(sample['label'])[i, 0] ) \r\n",
        "            temp[i, 1] = ( (1032 / np.array(image).shape[0]) * np.array(sample['label'])[i, 1] ) \r\n",
        "          sample['landmark'] = torch.from_numpy(temp).type(torch.float16)\r\n",
        "          ##########################\r\n",
        "          \r\n",
        "          \r\n",
        "\r\n",
        "          ############################## landmark to segment\r\n",
        "          label_img = self.transform_label(sample['image']).numpy()\r\n",
        "          label_img = np.zeros((label_img.shape[1], label_img.shape[2]))\r\n",
        "          \r\n",
        "          for index_point1, landmark_point1 in enumerate(tmp):\r\n",
        "            \r\n",
        "            if (landmark_point1 != 0).any() :\r\n",
        "              distance_dict = {}\r\n",
        "              for index_point2, landmark_point2 in enumerate(tmp[index_point1+1:]):\r\n",
        "                if (landmark_point2 != 0).any() :\r\n",
        "                  distance_dict[index_point2] = distance(landmark_point1[0], landmark_point2[0],\r\n",
        "                                                            landmark_point1[1], landmark_point2[1])\r\n",
        "                else:\r\n",
        "                  pass\r\n",
        "              if distance_dict:\r\n",
        "                my_point = min(distance_dict, key=distance_dict.get)\r\n",
        "                rr, cc = line(int(landmark_point1[0]), int(landmark_point1[1]), \r\n",
        "                              int(tmp[(index_point1+my_point+1), 0]), int(tmp[(index_point1+my_point+1), 1]))\r\n",
        "\r\n",
        "                for index, value in enumerate(rr):\r\n",
        "\r\n",
        "                    if value == 256:\r\n",
        "                      rr[index]-=3\r\n",
        "                    elif value == 255:\r\n",
        "                      rr[index]-=2\r\n",
        "                    elif value == 254:\r\n",
        "                      rr[index]-=1\r\n",
        "                    elif value == 0:\r\n",
        "                      rr[index]+=2\r\n",
        "                    elif value == 1:\r\n",
        "                      rr[index]+=1\r\n",
        "                    else: \r\n",
        "                      pass\r\n",
        "                for index, value in enumerate(cc):\r\n",
        "\r\n",
        "                    if value == 256:\r\n",
        "                      cc[index]-=3\r\n",
        "                    elif value == 255:\r\n",
        "                      cc[index]-=2\r\n",
        "                    elif value == 254:\r\n",
        "                      cc[index]-=1\r\n",
        "                    elif value == 0:\r\n",
        "                      cc[index]+=2\r\n",
        "                    elif value == 1:\r\n",
        "                      cc[index]+=1\r\n",
        "                    else: \r\n",
        "                      pass\r\n",
        "                # place ones lines\r\n",
        "                label_img[cc-2, rr-2] = 1\r\n",
        "                label_img[cc-1, rr-1] = 1\r\n",
        "                label_img[cc, rr] = 1\r\n",
        "                label_img[cc+1, rr+1] = 1\r\n",
        "                label_img[cc+2, rr+2] = 1\r\n",
        "\r\n",
        "            else:\r\n",
        "              pass\r\n",
        "            ####################################################\r\n",
        "\r\n",
        "\r\n",
        "          # sample['label'] = torch.from_numpy(tmp).type(torch.float16)\r\n",
        "\r\n",
        "          sample['label'] = torch.from_numpy(label_img).type(torch.long)\r\n",
        "\r\n",
        "          sample['image'] = self.transform(sample['image'])\r\n",
        "\r\n",
        "          \r\n",
        "\r\n",
        "\r\n",
        "          # # random rotation\r\n",
        "          # image, landmark = self.rot_img_landmark(sample['image'], sample['label'], np.pi/2, dtype= torch.FloatTensor)\r\n",
        "          # print(type(image), image.shape)\r\n",
        "          # print(type(landmark), landmark.shape)\r\n",
        "          \r\n",
        "\r\n",
        "        return sample\r\n",
        "\r\n",
        "# my_dataset = RANZCRDataset\r\n",
        "# my_dataset.__getitem__(self, 4)"
      ],
      "execution_count": null,
      "outputs": []
    },
    {
      "cell_type": "code",
      "metadata": {
        "id": "BojvstcXDbmN"
      },
      "source": [
        "\r\n",
        "# batch_size = 8\r\n",
        "mean = np.array([0.4823, 0.4823, 0.4823])\r\n",
        "std = np.array([0.191473164, 0.191473164, 0.191473164])\r\n",
        "\r\n",
        "\r\n",
        "def load_data(csv_file='/home/gcg_user1/train_annotations.csv', root_dir='/home/gcg_user1/main_trainset/trainset'):\r\n",
        "\r\n",
        "  centerCrop_value = 1032\r\n",
        "  transform = transforms.Compose([transforms.ToTensor(),\r\n",
        "                                  transforms.Resize((1056, 1056)),\r\n",
        "                                  transforms.CenterCrop(centerCrop_value),\r\n",
        "                                  transforms.Normalize(mean, std)])\r\n",
        "  \r\n",
        "  transform_label = transforms.Compose([transforms.ToTensor(),\r\n",
        "                                  transforms.Resize((270, 270)),\r\n",
        "                                  transforms.CenterCrop(256),\r\n",
        "                                  transforms.Normalize(mean, std)])\r\n",
        "\r\n",
        "\r\n",
        "\r\n",
        "  trainset = RANZCRDataset(csv_file='/home/gcg_user1/train_annotations.csv',\r\n",
        "                                      root_dir='/home/gcg_user1/main_trainset/trainset', transform=transform, \r\n",
        "                                      transform_label = transform_label, images_name=train_samples)\r\n",
        "\r\n",
        "\r\n",
        "\r\n",
        "\r\n",
        "  validation_set = RANZCRDataset(csv_file='/home/gcg_user1/train_annotations.csv',\r\n",
        "                                    root_dir='/home/gcg_user1/main_trainset/trainset', transform=transform,\r\n",
        "                                    transform_label = transform_label, images_name=validation_samples)\r\n",
        "  \r\n",
        "\r\n",
        "  return trainset, validation_set\r\n",
        "\r\n",
        "\r\n",
        "\r\n",
        "\r\n"
      ],
      "execution_count": null,
      "outputs": []
    },
    {
      "cell_type": "code",
      "metadata": {
        "id": "-L2-Z934TG4k"
      },
      "source": [
        "# trainset, testset = load_data()\r\n",
        "\r\n",
        "\r\n",
        "# train_loader = torch.utils.data.DataLoader(trainset,\r\n",
        "#                          batch_size=2,\r\n",
        "#                          num_workers=0,\r\n",
        "#                          shuffle=True)\r\n",
        "\r\n",
        "\r\n",
        "\r\n",
        "# validation_loader = torch.utils.data.DataLoader(testset,\r\n",
        "#                          batch_size=2,\r\n",
        "#                          num_workers=0,\r\n",
        "#                          shuffle=True)\r\n"
      ],
      "execution_count": null,
      "outputs": []
    },
    {
      "cell_type": "code",
      "metadata": {
        "id": "Hp3YrgfL0yHV"
      },
      "source": [
        "\r\n",
        "centerCrop_value = 904\r\n",
        "def imshow_landmark(img, landmarks):\r\n",
        "    npimg = img.numpy()\r\n",
        "    npimg = ((npimg * std[0]) + mean[0]) # unnormalize\r\n",
        "    plt.imshow((np.transpose(npimg, (1, 2, 0)) * 255).astype(np.uint8))\r\n",
        "    show_landmark = copy.deepcopy(landmarks)\r\n",
        "    for i in range(show_landmark.shape[0]):\r\n",
        "      show_landmark[i, :, 0] = show_landmark[i, :, 0] + (centerCrop_value*i)\r\n",
        "    plt.scatter(show_landmark[:, :, 0], show_landmark[:, :, 1], s=10, marker='.', c='r')\r\n",
        "    plt.pause(0.001)  # pause a bit so that plots are updated\r\n",
        "    plt.show()\r\n",
        "\r\n"
      ],
      "execution_count": null,
      "outputs": []
    },
    {
      "cell_type": "code",
      "metadata": {
        "id": "cHNoNytaOALb"
      },
      "source": [
        "\r\n",
        "def imshow_segmented(segment_label):\r\n",
        "    \r\n",
        "    # npimg = img.numpy()\r\n",
        "    # npimg = ((npimg * std[0]) + mean[0]) # unnormalize\r\n",
        "    # plt.imshow((np.transpose(npimg, (1, 2, 0)) * 255).astype(np.uint8))\r\n",
        "    \r\n",
        "\r\n",
        "    npimg = (segment_label.detach().cpu().numpy()*255)\r\n",
        "    dummy_channel = np.zeros((1, npimg.shape[1], npimg.shape[2]))\r\n",
        "    npimg = np.concatenate([npimg, dummy_channel], axis=0)\r\n",
        "    npimg = ((npimg * std[0]) + mean[0]) # unnormalize\r\n",
        "    plt.imshow((np.transpose(npimg, (1, 2, 0)) * 255).astype(np.uint8))\r\n",
        "    \r\n",
        "    plt.show()\r\n",
        "\r\n",
        "def imshow(img):\r\n",
        "    \r\n",
        "    npimg = img.numpy()\r\n",
        "    npimg = ((npimg * std[0]) + mean[0]) # unnormalize\r\n",
        "    plt.imshow((np.transpose(npimg, (1, 2, 0)) * 255).astype(np.uint8))\r\n",
        "\r\n",
        "    plt.show()\r\n",
        "\r\n",
        "\r\n",
        "# get some random training images\r\n",
        "# dataiter = iter(train_loader)\r\n",
        "# sample = dataiter.next()\r\n",
        "\r\n",
        "\r\n",
        "# print(sample['image'].shape)\r\n",
        "# imshow(torchvision.utils.make_grid(sample['image']))\r\n",
        "\r\n",
        "# print(sample['label'].shape)\r\n",
        "# imshow_segmented(torchvision.utils.make_grid(sample['label']))\r\n",
        "\r\n",
        "# print(sample['landmark'].shape)\r\n",
        "# imshow_landmark(torchvision.utils.make_grid(sample['image']), sample['landmark'])\r\n"
      ],
      "execution_count": null,
      "outputs": []
    },
    {
      "cell_type": "code",
      "metadata": {
        "id": "05o0AD8DzDyf"
      },
      "source": [
        "# class Network(nn.Module):\r\n",
        "  \r\n",
        "#   def __init__(self):\r\n",
        "#     super(Network, self).__init__()\r\n",
        "#     self.model = model\r\n",
        "#     self.conv1 = nn.Conv2d(3, 3, 5)\r\n",
        "#     self.conv2 = nn.Conv2d(3, 3, 1)\r\n",
        "#     self.pool2 = nn.MaxPool2d(2, 2)\r\n",
        "#     self.sigmoid = nn.Sigmoid()\r\n",
        "#     self.fc_final = nn.Linear(1000, 11)\r\n",
        "\r\n",
        "#   def forward(self, x):\r\n",
        "\r\n",
        "#     x = self.pool2(F.relu(self.conv1(x)))\r\n",
        "#     x = self.pool2(F.relu(self.conv2(x)))\r\n",
        "#     x = self.model(x)\r\n",
        "#     x = self.sigmoid(self.fc_final(x))\r\n",
        "#     return x\r\n",
        "\r\n",
        "# Network = Network()"
      ],
      "execution_count": null,
      "outputs": []
    },
    {
      "cell_type": "code",
      "metadata": {
        "id": "XdKfqyGawGY8",
        "colab": {
          "base_uri": "https://localhost:8080/",
          "height": 82,
          "referenced_widgets": [
            "00bd25cc3c0f4c11856a2a7b84fa3f63",
            "2d6a18aad3fe443dbbd1fdc816799633",
            "7521e7bbe5f6490a8d66e042cab560be",
            "06e5517a9d1244c3b1c815c1af6043b9",
            "10098b9a658f4a3ca9e661b0561ab1bc",
            "d463eb5e9e38415ab7fd0847d59b8967",
            "86a6752a316b4858841de468f2a64810",
            "284fdaad8de449898252ae37b1a4ad2a"
          ]
        },
        "outputId": "4861d4f0-c4b3-4e44-c430-cd9ba29e5296"
      },
      "source": [
        "\r\n",
        "\r\n",
        "model = torchvision.models.segmentation.deeplabv3_resnet50(pretrained=False, progress=True, num_classes=2, aux_loss=None)\r\n"
      ],
      "execution_count": null,
      "outputs": [
        {
          "output_type": "stream",
          "text": [
            "Downloading: \"https://download.pytorch.org/models/resnet50-19c8e357.pth\" to /root/.cache/torch/hub/checkpoints/resnet50-19c8e357.pth\n"
          ],
          "name": "stderr"
        },
        {
          "output_type": "display_data",
          "data": {
            "application/vnd.jupyter.widget-view+json": {
              "model_id": "00bd25cc3c0f4c11856a2a7b84fa3f63",
              "version_minor": 0,
              "version_major": 2
            },
            "text/plain": [
              "HBox(children=(FloatProgress(value=0.0, max=102502400.0), HTML(value='')))"
            ]
          },
          "metadata": {
            "tags": []
          }
        },
        {
          "output_type": "stream",
          "text": [
            "\n"
          ],
          "name": "stdout"
        }
      ]
    },
    {
      "cell_type": "code",
      "metadata": {
        "colab": {
          "base_uri": "https://localhost:8080/"
        },
        "id": "mKNVkxika-QS",
        "outputId": "ee33839c-5eea-44bd-e219-c65f36ed28a3"
      },
      "source": [
        "model"
      ],
      "execution_count": null,
      "outputs": [
        {
          "output_type": "execute_result",
          "data": {
            "text/plain": [
              "DeepLabV3(\n",
              "  (backbone): IntermediateLayerGetter(\n",
              "    (conv1): Conv2d(3, 64, kernel_size=(7, 7), stride=(2, 2), padding=(3, 3), bias=False)\n",
              "    (bn1): BatchNorm2d(64, eps=1e-05, momentum=0.1, affine=True, track_running_stats=True)\n",
              "    (relu): ReLU(inplace=True)\n",
              "    (maxpool): MaxPool2d(kernel_size=3, stride=2, padding=1, dilation=1, ceil_mode=False)\n",
              "    (layer1): Sequential(\n",
              "      (0): Bottleneck(\n",
              "        (conv1): Conv2d(64, 64, kernel_size=(1, 1), stride=(1, 1), bias=False)\n",
              "        (bn1): BatchNorm2d(64, eps=1e-05, momentum=0.1, affine=True, track_running_stats=True)\n",
              "        (conv2): Conv2d(64, 64, kernel_size=(3, 3), stride=(1, 1), padding=(1, 1), bias=False)\n",
              "        (bn2): BatchNorm2d(64, eps=1e-05, momentum=0.1, affine=True, track_running_stats=True)\n",
              "        (conv3): Conv2d(64, 256, kernel_size=(1, 1), stride=(1, 1), bias=False)\n",
              "        (bn3): BatchNorm2d(256, eps=1e-05, momentum=0.1, affine=True, track_running_stats=True)\n",
              "        (relu): ReLU(inplace=True)\n",
              "        (downsample): Sequential(\n",
              "          (0): Conv2d(64, 256, kernel_size=(1, 1), stride=(1, 1), bias=False)\n",
              "          (1): BatchNorm2d(256, eps=1e-05, momentum=0.1, affine=True, track_running_stats=True)\n",
              "        )\n",
              "      )\n",
              "      (1): Bottleneck(\n",
              "        (conv1): Conv2d(256, 64, kernel_size=(1, 1), stride=(1, 1), bias=False)\n",
              "        (bn1): BatchNorm2d(64, eps=1e-05, momentum=0.1, affine=True, track_running_stats=True)\n",
              "        (conv2): Conv2d(64, 64, kernel_size=(3, 3), stride=(1, 1), padding=(1, 1), bias=False)\n",
              "        (bn2): BatchNorm2d(64, eps=1e-05, momentum=0.1, affine=True, track_running_stats=True)\n",
              "        (conv3): Conv2d(64, 256, kernel_size=(1, 1), stride=(1, 1), bias=False)\n",
              "        (bn3): BatchNorm2d(256, eps=1e-05, momentum=0.1, affine=True, track_running_stats=True)\n",
              "        (relu): ReLU(inplace=True)\n",
              "      )\n",
              "      (2): Bottleneck(\n",
              "        (conv1): Conv2d(256, 64, kernel_size=(1, 1), stride=(1, 1), bias=False)\n",
              "        (bn1): BatchNorm2d(64, eps=1e-05, momentum=0.1, affine=True, track_running_stats=True)\n",
              "        (conv2): Conv2d(64, 64, kernel_size=(3, 3), stride=(1, 1), padding=(1, 1), bias=False)\n",
              "        (bn2): BatchNorm2d(64, eps=1e-05, momentum=0.1, affine=True, track_running_stats=True)\n",
              "        (conv3): Conv2d(64, 256, kernel_size=(1, 1), stride=(1, 1), bias=False)\n",
              "        (bn3): BatchNorm2d(256, eps=1e-05, momentum=0.1, affine=True, track_running_stats=True)\n",
              "        (relu): ReLU(inplace=True)\n",
              "      )\n",
              "    )\n",
              "    (layer2): Sequential(\n",
              "      (0): Bottleneck(\n",
              "        (conv1): Conv2d(256, 128, kernel_size=(1, 1), stride=(1, 1), bias=False)\n",
              "        (bn1): BatchNorm2d(128, eps=1e-05, momentum=0.1, affine=True, track_running_stats=True)\n",
              "        (conv2): Conv2d(128, 128, kernel_size=(3, 3), stride=(2, 2), padding=(1, 1), bias=False)\n",
              "        (bn2): BatchNorm2d(128, eps=1e-05, momentum=0.1, affine=True, track_running_stats=True)\n",
              "        (conv3): Conv2d(128, 512, kernel_size=(1, 1), stride=(1, 1), bias=False)\n",
              "        (bn3): BatchNorm2d(512, eps=1e-05, momentum=0.1, affine=True, track_running_stats=True)\n",
              "        (relu): ReLU(inplace=True)\n",
              "        (downsample): Sequential(\n",
              "          (0): Conv2d(256, 512, kernel_size=(1, 1), stride=(2, 2), bias=False)\n",
              "          (1): BatchNorm2d(512, eps=1e-05, momentum=0.1, affine=True, track_running_stats=True)\n",
              "        )\n",
              "      )\n",
              "      (1): Bottleneck(\n",
              "        (conv1): Conv2d(512, 128, kernel_size=(1, 1), stride=(1, 1), bias=False)\n",
              "        (bn1): BatchNorm2d(128, eps=1e-05, momentum=0.1, affine=True, track_running_stats=True)\n",
              "        (conv2): Conv2d(128, 128, kernel_size=(3, 3), stride=(1, 1), padding=(1, 1), bias=False)\n",
              "        (bn2): BatchNorm2d(128, eps=1e-05, momentum=0.1, affine=True, track_running_stats=True)\n",
              "        (conv3): Conv2d(128, 512, kernel_size=(1, 1), stride=(1, 1), bias=False)\n",
              "        (bn3): BatchNorm2d(512, eps=1e-05, momentum=0.1, affine=True, track_running_stats=True)\n",
              "        (relu): ReLU(inplace=True)\n",
              "      )\n",
              "      (2): Bottleneck(\n",
              "        (conv1): Conv2d(512, 128, kernel_size=(1, 1), stride=(1, 1), bias=False)\n",
              "        (bn1): BatchNorm2d(128, eps=1e-05, momentum=0.1, affine=True, track_running_stats=True)\n",
              "        (conv2): Conv2d(128, 128, kernel_size=(3, 3), stride=(1, 1), padding=(1, 1), bias=False)\n",
              "        (bn2): BatchNorm2d(128, eps=1e-05, momentum=0.1, affine=True, track_running_stats=True)\n",
              "        (conv3): Conv2d(128, 512, kernel_size=(1, 1), stride=(1, 1), bias=False)\n",
              "        (bn3): BatchNorm2d(512, eps=1e-05, momentum=0.1, affine=True, track_running_stats=True)\n",
              "        (relu): ReLU(inplace=True)\n",
              "      )\n",
              "      (3): Bottleneck(\n",
              "        (conv1): Conv2d(512, 128, kernel_size=(1, 1), stride=(1, 1), bias=False)\n",
              "        (bn1): BatchNorm2d(128, eps=1e-05, momentum=0.1, affine=True, track_running_stats=True)\n",
              "        (conv2): Conv2d(128, 128, kernel_size=(3, 3), stride=(1, 1), padding=(1, 1), bias=False)\n",
              "        (bn2): BatchNorm2d(128, eps=1e-05, momentum=0.1, affine=True, track_running_stats=True)\n",
              "        (conv3): Conv2d(128, 512, kernel_size=(1, 1), stride=(1, 1), bias=False)\n",
              "        (bn3): BatchNorm2d(512, eps=1e-05, momentum=0.1, affine=True, track_running_stats=True)\n",
              "        (relu): ReLU(inplace=True)\n",
              "      )\n",
              "    )\n",
              "    (layer3): Sequential(\n",
              "      (0): Bottleneck(\n",
              "        (conv1): Conv2d(512, 256, kernel_size=(1, 1), stride=(1, 1), bias=False)\n",
              "        (bn1): BatchNorm2d(256, eps=1e-05, momentum=0.1, affine=True, track_running_stats=True)\n",
              "        (conv2): Conv2d(256, 256, kernel_size=(3, 3), stride=(1, 1), padding=(1, 1), bias=False)\n",
              "        (bn2): BatchNorm2d(256, eps=1e-05, momentum=0.1, affine=True, track_running_stats=True)\n",
              "        (conv3): Conv2d(256, 1024, kernel_size=(1, 1), stride=(1, 1), bias=False)\n",
              "        (bn3): BatchNorm2d(1024, eps=1e-05, momentum=0.1, affine=True, track_running_stats=True)\n",
              "        (relu): ReLU(inplace=True)\n",
              "        (downsample): Sequential(\n",
              "          (0): Conv2d(512, 1024, kernel_size=(1, 1), stride=(1, 1), bias=False)\n",
              "          (1): BatchNorm2d(1024, eps=1e-05, momentum=0.1, affine=True, track_running_stats=True)\n",
              "        )\n",
              "      )\n",
              "      (1): Bottleneck(\n",
              "        (conv1): Conv2d(1024, 256, kernel_size=(1, 1), stride=(1, 1), bias=False)\n",
              "        (bn1): BatchNorm2d(256, eps=1e-05, momentum=0.1, affine=True, track_running_stats=True)\n",
              "        (conv2): Conv2d(256, 256, kernel_size=(3, 3), stride=(1, 1), padding=(2, 2), dilation=(2, 2), bias=False)\n",
              "        (bn2): BatchNorm2d(256, eps=1e-05, momentum=0.1, affine=True, track_running_stats=True)\n",
              "        (conv3): Conv2d(256, 1024, kernel_size=(1, 1), stride=(1, 1), bias=False)\n",
              "        (bn3): BatchNorm2d(1024, eps=1e-05, momentum=0.1, affine=True, track_running_stats=True)\n",
              "        (relu): ReLU(inplace=True)\n",
              "      )\n",
              "      (2): Bottleneck(\n",
              "        (conv1): Conv2d(1024, 256, kernel_size=(1, 1), stride=(1, 1), bias=False)\n",
              "        (bn1): BatchNorm2d(256, eps=1e-05, momentum=0.1, affine=True, track_running_stats=True)\n",
              "        (conv2): Conv2d(256, 256, kernel_size=(3, 3), stride=(1, 1), padding=(2, 2), dilation=(2, 2), bias=False)\n",
              "        (bn2): BatchNorm2d(256, eps=1e-05, momentum=0.1, affine=True, track_running_stats=True)\n",
              "        (conv3): Conv2d(256, 1024, kernel_size=(1, 1), stride=(1, 1), bias=False)\n",
              "        (bn3): BatchNorm2d(1024, eps=1e-05, momentum=0.1, affine=True, track_running_stats=True)\n",
              "        (relu): ReLU(inplace=True)\n",
              "      )\n",
              "      (3): Bottleneck(\n",
              "        (conv1): Conv2d(1024, 256, kernel_size=(1, 1), stride=(1, 1), bias=False)\n",
              "        (bn1): BatchNorm2d(256, eps=1e-05, momentum=0.1, affine=True, track_running_stats=True)\n",
              "        (conv2): Conv2d(256, 256, kernel_size=(3, 3), stride=(1, 1), padding=(2, 2), dilation=(2, 2), bias=False)\n",
              "        (bn2): BatchNorm2d(256, eps=1e-05, momentum=0.1, affine=True, track_running_stats=True)\n",
              "        (conv3): Conv2d(256, 1024, kernel_size=(1, 1), stride=(1, 1), bias=False)\n",
              "        (bn3): BatchNorm2d(1024, eps=1e-05, momentum=0.1, affine=True, track_running_stats=True)\n",
              "        (relu): ReLU(inplace=True)\n",
              "      )\n",
              "      (4): Bottleneck(\n",
              "        (conv1): Conv2d(1024, 256, kernel_size=(1, 1), stride=(1, 1), bias=False)\n",
              "        (bn1): BatchNorm2d(256, eps=1e-05, momentum=0.1, affine=True, track_running_stats=True)\n",
              "        (conv2): Conv2d(256, 256, kernel_size=(3, 3), stride=(1, 1), padding=(2, 2), dilation=(2, 2), bias=False)\n",
              "        (bn2): BatchNorm2d(256, eps=1e-05, momentum=0.1, affine=True, track_running_stats=True)\n",
              "        (conv3): Conv2d(256, 1024, kernel_size=(1, 1), stride=(1, 1), bias=False)\n",
              "        (bn3): BatchNorm2d(1024, eps=1e-05, momentum=0.1, affine=True, track_running_stats=True)\n",
              "        (relu): ReLU(inplace=True)\n",
              "      )\n",
              "      (5): Bottleneck(\n",
              "        (conv1): Conv2d(1024, 256, kernel_size=(1, 1), stride=(1, 1), bias=False)\n",
              "        (bn1): BatchNorm2d(256, eps=1e-05, momentum=0.1, affine=True, track_running_stats=True)\n",
              "        (conv2): Conv2d(256, 256, kernel_size=(3, 3), stride=(1, 1), padding=(2, 2), dilation=(2, 2), bias=False)\n",
              "        (bn2): BatchNorm2d(256, eps=1e-05, momentum=0.1, affine=True, track_running_stats=True)\n",
              "        (conv3): Conv2d(256, 1024, kernel_size=(1, 1), stride=(1, 1), bias=False)\n",
              "        (bn3): BatchNorm2d(1024, eps=1e-05, momentum=0.1, affine=True, track_running_stats=True)\n",
              "        (relu): ReLU(inplace=True)\n",
              "      )\n",
              "    )\n",
              "    (layer4): Sequential(\n",
              "      (0): Bottleneck(\n",
              "        (conv1): Conv2d(1024, 512, kernel_size=(1, 1), stride=(1, 1), bias=False)\n",
              "        (bn1): BatchNorm2d(512, eps=1e-05, momentum=0.1, affine=True, track_running_stats=True)\n",
              "        (conv2): Conv2d(512, 512, kernel_size=(3, 3), stride=(1, 1), padding=(2, 2), dilation=(2, 2), bias=False)\n",
              "        (bn2): BatchNorm2d(512, eps=1e-05, momentum=0.1, affine=True, track_running_stats=True)\n",
              "        (conv3): Conv2d(512, 2048, kernel_size=(1, 1), stride=(1, 1), bias=False)\n",
              "        (bn3): BatchNorm2d(2048, eps=1e-05, momentum=0.1, affine=True, track_running_stats=True)\n",
              "        (relu): ReLU(inplace=True)\n",
              "        (downsample): Sequential(\n",
              "          (0): Conv2d(1024, 2048, kernel_size=(1, 1), stride=(1, 1), bias=False)\n",
              "          (1): BatchNorm2d(2048, eps=1e-05, momentum=0.1, affine=True, track_running_stats=True)\n",
              "        )\n",
              "      )\n",
              "      (1): Bottleneck(\n",
              "        (conv1): Conv2d(2048, 512, kernel_size=(1, 1), stride=(1, 1), bias=False)\n",
              "        (bn1): BatchNorm2d(512, eps=1e-05, momentum=0.1, affine=True, track_running_stats=True)\n",
              "        (conv2): Conv2d(512, 512, kernel_size=(3, 3), stride=(1, 1), padding=(4, 4), dilation=(4, 4), bias=False)\n",
              "        (bn2): BatchNorm2d(512, eps=1e-05, momentum=0.1, affine=True, track_running_stats=True)\n",
              "        (conv3): Conv2d(512, 2048, kernel_size=(1, 1), stride=(1, 1), bias=False)\n",
              "        (bn3): BatchNorm2d(2048, eps=1e-05, momentum=0.1, affine=True, track_running_stats=True)\n",
              "        (relu): ReLU(inplace=True)\n",
              "      )\n",
              "      (2): Bottleneck(\n",
              "        (conv1): Conv2d(2048, 512, kernel_size=(1, 1), stride=(1, 1), bias=False)\n",
              "        (bn1): BatchNorm2d(512, eps=1e-05, momentum=0.1, affine=True, track_running_stats=True)\n",
              "        (conv2): Conv2d(512, 512, kernel_size=(3, 3), stride=(1, 1), padding=(4, 4), dilation=(4, 4), bias=False)\n",
              "        (bn2): BatchNorm2d(512, eps=1e-05, momentum=0.1, affine=True, track_running_stats=True)\n",
              "        (conv3): Conv2d(512, 2048, kernel_size=(1, 1), stride=(1, 1), bias=False)\n",
              "        (bn3): BatchNorm2d(2048, eps=1e-05, momentum=0.1, affine=True, track_running_stats=True)\n",
              "        (relu): ReLU(inplace=True)\n",
              "      )\n",
              "    )\n",
              "  )\n",
              "  (classifier): DeepLabHead(\n",
              "    (0): ASPP(\n",
              "      (convs): ModuleList(\n",
              "        (0): Sequential(\n",
              "          (0): Conv2d(2048, 256, kernel_size=(1, 1), stride=(1, 1), bias=False)\n",
              "          (1): BatchNorm2d(256, eps=1e-05, momentum=0.1, affine=True, track_running_stats=True)\n",
              "          (2): ReLU()\n",
              "        )\n",
              "        (1): ASPPConv(\n",
              "          (0): Conv2d(2048, 256, kernel_size=(3, 3), stride=(1, 1), padding=(12, 12), dilation=(12, 12), bias=False)\n",
              "          (1): BatchNorm2d(256, eps=1e-05, momentum=0.1, affine=True, track_running_stats=True)\n",
              "          (2): ReLU()\n",
              "        )\n",
              "        (2): ASPPConv(\n",
              "          (0): Conv2d(2048, 256, kernel_size=(3, 3), stride=(1, 1), padding=(24, 24), dilation=(24, 24), bias=False)\n",
              "          (1): BatchNorm2d(256, eps=1e-05, momentum=0.1, affine=True, track_running_stats=True)\n",
              "          (2): ReLU()\n",
              "        )\n",
              "        (3): ASPPConv(\n",
              "          (0): Conv2d(2048, 256, kernel_size=(3, 3), stride=(1, 1), padding=(36, 36), dilation=(36, 36), bias=False)\n",
              "          (1): BatchNorm2d(256, eps=1e-05, momentum=0.1, affine=True, track_running_stats=True)\n",
              "          (2): ReLU()\n",
              "        )\n",
              "        (4): ASPPPooling(\n",
              "          (0): AdaptiveAvgPool2d(output_size=1)\n",
              "          (1): Conv2d(2048, 256, kernel_size=(1, 1), stride=(1, 1), bias=False)\n",
              "          (2): BatchNorm2d(256, eps=1e-05, momentum=0.1, affine=True, track_running_stats=True)\n",
              "          (3): ReLU()\n",
              "        )\n",
              "      )\n",
              "      (project): Sequential(\n",
              "        (0): Conv2d(1280, 256, kernel_size=(1, 1), stride=(1, 1), bias=False)\n",
              "        (1): BatchNorm2d(256, eps=1e-05, momentum=0.1, affine=True, track_running_stats=True)\n",
              "        (2): ReLU()\n",
              "        (3): Dropout(p=0.5, inplace=False)\n",
              "      )\n",
              "    )\n",
              "    (1): Conv2d(256, 256, kernel_size=(3, 3), stride=(1, 1), padding=(1, 1), bias=False)\n",
              "    (2): BatchNorm2d(256, eps=1e-05, momentum=0.1, affine=True, track_running_stats=True)\n",
              "    (3): ReLU()\n",
              "    (4): Conv2d(256, 2, kernel_size=(1, 1), stride=(1, 1))\n",
              "  )\n",
              ")"
            ]
          },
          "metadata": {
            "tags": []
          },
          "execution_count": 13
        }
      ]
    },
    {
      "cell_type": "code",
      "metadata": {
        "id": "k9nsdk53Ufm2"
      },
      "source": [
        "\r\n",
        "class Net(nn.Module):\r\n",
        "  \r\n",
        "  def __init__(self, c1=3):\r\n",
        "    super(Net, self).__init__()\r\n",
        "    self.model = model\r\n",
        "    self.conv1 = nn.Conv2d(3, c1, 5)\r\n",
        "    self.conv2 = nn.Conv2d(c1, 3, 3)\r\n",
        "    self.pool2 = nn.MaxPool2d(2, 2)\r\n",
        "\r\n",
        "  def forward(self, x):\r\n",
        "\r\n",
        "    x = self.pool2(F.relu(self.conv1(x)))\r\n",
        "    x = self.pool2(F.relu(self.conv2(x)))\r\n",
        "    x = self.model(x)\r\n",
        "\r\n",
        "    return x\r\n"
      ],
      "execution_count": null,
      "outputs": []
    },
    {
      "cell_type": "code",
      "metadata": {
        "id": "PAhsF_T4UxTv"
      },
      "source": [
        "\r\n",
        "# ###################################\r\n",
        "# !pip install ray\r\n",
        "# !pip install tensorboardX"
      ],
      "execution_count": null,
      "outputs": []
    },
    {
      "cell_type": "code",
      "metadata": {
        "id": "Dyc_At_1VJ2j"
      },
      "source": [
        "\r\n",
        "# def train_ranzcr_landmark(config, checkpoint_dir=None, data_dir=None):\r\n",
        "net = Net()\r\n",
        "checkpoint_dir = '/home/gcg_user1/checkpoints/'\r\n",
        "\r\n",
        "device = \"cpu\"\r\n",
        "if torch.cuda.is_available():\r\n",
        "    device = \"cuda:0\"\r\n",
        "    if torch.cuda.device_count() > 1:\r\n",
        "        net = nn.DataParallel(net)\r\n",
        "net.to(device)\r\n",
        "\r\n",
        "criterion =  nn.CrossEntropyLoss()\r\n",
        "optimizer = optim.SGD(net.parameters(), lr=float(0.0422581), weight_decay=4.12557e-06)\r\n",
        "\r\n",
        "if checkpoint_dir:\r\n",
        "    model_state, optimizer_state = torch.load(\r\n",
        "        os.path.join(checkpoint_dir, 'model_landmark_0.03722365.pth'))\r\n",
        "    net.load_state_dict(model_state)\r\n",
        "    optimizer.load_state_dict(optimizer_state)\r\n",
        "\r\n",
        "trainset, testset = load_data(os.path.abspath(\"/home/gcg_user1/main_trainset/trainset\"))\r\n",
        "\r\n",
        "test_abs = int(len(trainset) * 0.8)\r\n",
        "train_subset, val_subset = random_split(\r\n",
        "    trainset, [test_abs, len(trainset) - test_abs])\r\n",
        "\r\n",
        "trainloader = torch.utils.data.DataLoader(\r\n",
        "    train_subset,\r\n",
        "    batch_size=int(8),\r\n",
        "    shuffle=True,\r\n",
        "    num_workers=8)\r\n",
        "valloader = torch.utils.data.DataLoader(\r\n",
        "    val_subset,\r\n",
        "    batch_size=int(8),\r\n",
        "    shuffle=True,\r\n",
        "    num_workers=8)\r\n",
        "\r\n",
        "for epoch in range(25):  # loop over the dataset multiple times\r\n",
        "    running_loss = 0.0\r\n",
        "    epoch_steps = 0\r\n",
        "    for i, data in enumerate(trainloader, 0):\r\n",
        "        # get the inputs; data is a list of [inputs, labels]\r\n",
        "        inputs, labels = data['image'].float(), data['label']\r\n",
        "        \r\n",
        "        # batch_size = int(inputs.shape[0])\r\n",
        "        # labels = np.zeros((batch_size, 200))\r\n",
        "        # for i in range(batch_size):\r\n",
        "        #   labels[i, :100] = labels_temp[i, :, 0]\r\n",
        "        #   labels[i, 100:] = labels_temp[i, :, 1]\r\n",
        "\r\n",
        "        # labels = (torch.from_numpy(labels)).type(torch.float16)\r\n",
        "        inputs, labels = inputs.to(device), labels.to(device)\r\n",
        "        # zero the parameter gradients\r\n",
        "        optimizer.zero_grad()\r\n",
        "\r\n",
        "        # forward + backward + optimize\r\n",
        "        \r\n",
        "        net.eval()\r\n",
        "        outputs = net(inputs)['out']\r\n",
        "        loss = criterion(outputs, labels)\r\n",
        "        loss.backward()\r\n",
        "        optimizer.step()\r\n",
        "\r\n",
        "        # print statistics\r\n",
        "        running_loss += loss.item()\r\n",
        "        epoch_steps += 1\r\n",
        "        if i % 10 == 9:  # print every 2000 mini-batches\r\n",
        "            print(\"[%d, %5d] loss: %.3f\" % (epoch + 1, i + 1,\r\n",
        "                                            running_loss / epoch_steps))\r\n",
        "            running_loss = 0.0\r\n",
        "\r\n",
        "    # Validation loss\r\n",
        "    val_loss = 0.0\r\n",
        "    val_steps = 0\r\n",
        "    total_train = 0\r\n",
        "    correct_train = 0\r\n",
        "    accuracy = 0\r\n",
        "    batch_counter = 0\r\n",
        "    for i, data in enumerate(valloader, 0):\r\n",
        "        with torch.no_grad():\r\n",
        "            inputs, labels = data['image'].float(), data['label']\r\n",
        "            # batch_size = int(inputs.shape[0])\r\n",
        "            # labels = np.zeros((batch_size, 200))\r\n",
        "            # for i in range(batch_size):\r\n",
        "            #   labels[i, :100] = labels_temp[i, :, 0]\r\n",
        "            #   labels[i, 100:] = labels_temp[i, :, 1]\r\n",
        "\r\n",
        "            # labels = (torch.from_numpy(labels)).type(torch.float16)\r\n",
        "            inputs, labels = inputs.to(device), labels.to(device)\r\n",
        "\r\n",
        "            net.eval()\r\n",
        "            outputs = net(inputs)['out']\r\n",
        "            ############\r\n",
        "            _, predicted = torch.max(outputs.data, 1)\r\n",
        "            total_train += labels.nelement()\r\n",
        "            correct_train += predicted.eq(labels.data).sum().item()\r\n",
        "            train_accuracy = 100 * correct_train / total_train\r\n",
        "            #############\r\n",
        "\r\n",
        "            batch_counter += 1\r\n",
        "            \r\n",
        "            loss = criterion(outputs, labels)\r\n",
        "            val_loss += loss.cpu().numpy()\r\n",
        "            val_steps += 1\r\n",
        "\r\n",
        "    # with tune.checkpoint_dir(epoch) as checkpoint_dir:\r\n",
        "    path = os.path.join(checkpoint_dir, \"checkpoint\")\r\n",
        "    torch.save((net.state_dict(), optimizer.state_dict()), path)\r\n",
        "\r\n",
        "    # tune.report(loss=(val_loss / val_steps), accuracy=(train_accuracy))\r\n",
        "    torch.save((net.state_dict(), optimizer.state_dict()), '/home/gcg_user1/checkpoints/model_landmark_%.8f.pth'%((val_loss / val_steps)))\r\n",
        "print(\"Finished Training\")\r\n",
        "\r\n",
        "\r\n",
        "            "
      ],
      "execution_count": null,
      "outputs": []
    },
    {
      "cell_type": "code",
      "metadata": {
        "id": "sRwirW14ZY3g"
      },
      "source": [
        "\r\n",
        "def test_accuracy(net, device=\"cpu\"):\r\n",
        "    trainset, testset = load_data()\r\n",
        "\r\n",
        "    criterion =  nn.CrossEntropyLoss()\r\n",
        "    testloader = torch.utils.data.DataLoader(\r\n",
        "        testset, batch_size=4, shuffle=False, num_workers=2)\r\n",
        "\r\n",
        "    correct_test = 0\r\n",
        "    total_test = 0\r\n",
        "    batch_counter_test = 0\r\n",
        "    accuracy_test = 0\r\n",
        "    \r\n",
        "    for data in testloader:\r\n",
        "      with torch.no_grad():\r\n",
        "\r\n",
        "\r\n",
        "        inputs, labels = data['image'].float(), data['label']\r\n",
        "        batch_size = int(inputs.shape[0])\r\n",
        "        batch_counter_test += 1 \r\n",
        "        # labels = np.zeros((batch_size, 200))\r\n",
        "        # for i in range(batch_size):\r\n",
        "        #   labels[i, :100] = labels_temp[i, :, 0]\r\n",
        "        #   labels[i, 100:] = labels_temp[i, :, 1]\r\n",
        "\r\n",
        "        # labels = (torch.from_numpy(labels)).type(torch.float16)\r\n",
        "        inputs, labels = inputs.to(device), labels.to(device)\r\n",
        "\r\n",
        "        net.eval()\r\n",
        "        outputs = outputs = net(inputs)['out']\r\n",
        "        # _, predicted = torch.max(outputs.data, 1)\r\n",
        "        # total += labels.size(0)\r\n",
        "        # correct += (predicted == labels).sum().item()\r\n",
        "        # my_validation_outputs = (outputs > 0.5)\r\n",
        "        # print('------------------------------------------------------------------------------')\r\n",
        "        # print(labels)\r\n",
        "        # print(my_validation_outputs)\r\n",
        "        # print('------------------------------------------------------------------------------')\r\n",
        "        # accuracy += auc_s(labels, my_validation_outputs)\r\n",
        "        # batch_counter += 1\r\n",
        "        ############\r\n",
        "        _, predicted = torch.max(outputs.data, 1)\r\n",
        "        total_test += labels.nelement()\r\n",
        "        correct_test += predicted.eq(labels.data).sum().item()\r\n",
        "        test_accuracy = 100 * correct_test / total_test\r\n",
        "        #############\r\n",
        "\r\n",
        "\r\n",
        "    return test_accuracy"
      ],
      "execution_count": null,
      "outputs": []
    },
    {
      "cell_type": "code",
      "metadata": {
        "id": "_aCE8hHqZzri"
      },
      "source": [
        "\r\n",
        "# def main(num_samples=10, max_num_epochs=10, gpus_per_trial=2):\r\n",
        "#     data_dir = os.path.abspath(\"/home/gcg_user1/trainset\")\r\n",
        "#     load_data(data_dir)\r\n",
        "#     config = {\r\n",
        "#         \"lr\": tune.choice([0.0422581]),\r\n",
        "#         \"wd\": tune.choice([4.12557e-06]),\r\n",
        "#         \"c1\": tune.choice([3]),\r\n",
        "#         \"batch_size\": tune.choice([8])\r\n",
        "#     }\r\n",
        "#     scheduler = ASHAScheduler(\r\n",
        "#         metric=\"loss\",\r\n",
        "#         mode=\"min\",\r\n",
        "#         max_t=max_num_epochs,\r\n",
        "#         grace_period=1,\r\n",
        "#         reduction_factor=2)\r\n",
        "#     # reporter = CLIReporter(\r\n",
        "#     #     parameter_columns=[\"c1\", \"wd\", \"lr\", \"batch_size\"],\r\n",
        "#     #     metric_columns=[\"loss\", \"accuracy\", \"training_iteration\"])\r\n",
        "#     reporter = JupyterNotebookReporter(overwrite=True, \r\n",
        "#                                       metric_columns=[\"loss\", \"accuracy\", \"training_iteration\"])\r\n",
        "#                                       # parameter_columns=[\"c1\", \"wd\", \"lr\", \"batch_size\"])\r\n",
        "\r\n",
        "#     result = tune.run(\r\n",
        "#             partial(train_ranzcr_landmark, data_dir=data_dir),\r\n",
        "#             resources_per_trial={\"cpu\": 8, \"gpu\": gpus_per_trial},\r\n",
        "#             config=config,\r\n",
        "#             num_samples=num_samples,\r\n",
        "#             scheduler=scheduler,\r\n",
        "#             progress_reporter=reporter)\r\n",
        "      \r\n",
        "#     best_trial = result.get_best_trial(\"loss\", \"min\", \"last\")\r\n",
        "#     print(\"Best trial config: {}\".format(best_trial.config))\r\n",
        "#     print(\"Best trial final validation loss: {}\".format(\r\n",
        "#         best_trial.last_result[\"loss\"]))\r\n",
        "#     print(\"Best trial final validation accuracy: {}\".format(\r\n",
        "#         best_trial.last_result[\"accuracy\"]))\r\n",
        "\r\n",
        "#     best_trained_model = Net()\r\n",
        "#     device = \"cpu\"\r\n",
        "#     if torch.cuda.is_available():\r\n",
        "#         device = \"cuda:0\"\r\n",
        "#         if gpus_per_trial > 1:\r\n",
        "#             best_trained_model = nn.DataParallel(best_trained_model)\r\n",
        "#     best_trained_model.to(device)\r\n",
        "\r\n",
        "#     best_checkpoint_dir = best_trial.checkpoint.value\r\n",
        "#     model_state, optimizer_state = torch.load(os.path.join(best_checkpoint_dir, \"checkpoint\"))\r\n",
        "#     best_trained_model.load_state_dict(model_state)\r\n",
        "#     test_acc = test_accuracy(best_trained_model, device)\r\n",
        "#     torch.save(best_trained_model.state_dict(), '/home/gcg_user1/checkpoints/model_landmark_%.3f.pth'%(test_acc) )\r\n",
        "#     print(\"Best trial test set accuracy: {}\".format(test_acc))\r\n",
        "\r\n",
        "\r\n",
        "# ray.init()\r\n",
        "# if __name__ == \"__main__\":\r\n",
        "#     # You can change the number of GPUs per trial here:\r\n",
        "#     main(num_samples=1, max_num_epochs=20, gpus_per_trial=1)"
      ],
      "execution_count": null,
      "outputs": []
    },
    {
      "cell_type": "code",
      "metadata": {
        "id": "BscbT2lMMMHt"
      },
      "source": [
        "# def count_parameters(model):\r\n",
        "#     return sum(p.numel() for p in model.parameters() if p.requires_grad)\r\n",
        "# print(count_parameters(model))\r\n",
        "# print(count_parameters(Network))"
      ],
      "execution_count": null,
      "outputs": []
    },
    {
      "cell_type": "code",
      "metadata": {
        "id": "WxyANLEpefLd",
        "colab": {
          "base_uri": "https://localhost:8080/"
        },
        "outputId": "a9346bc9-9f41-40b7-e4c9-b3e52f5d3ac6"
      },
      "source": [
        "# # trained_model = torch.load()\r\n",
        "# my_net = Net()\r\n",
        "# net_std, net_optdict = torch.load('/content/drive/MyDrive/RANZCR/model_landmark_11_0.04266818.pth')\r\n",
        "# my_net.load_state_dict(net_std)"
      ],
      "execution_count": null,
      "outputs": [
        {
          "output_type": "execute_result",
          "data": {
            "text/plain": [
              "<All keys matched successfully>"
            ]
          },
          "metadata": {
            "tags": []
          },
          "execution_count": 18
        }
      ]
    },
    {
      "cell_type": "code",
      "metadata": {
        "id": "nMNeGm1McDI9",
        "colab": {
          "base_uri": "https://localhost:8080/",
          "height": 560
        },
        "outputId": "8eaa217e-da44-437c-bc1f-b319d53672c8"
      },
      "source": [
        "\r\n",
        "# from torch.autograd import Variable\r\n",
        "\r\n",
        "# _, my_testset = load_data()\r\n",
        "\r\n",
        "# my_testloader = torch.utils.data.DataLoader(\r\n",
        "#         my_testset, batch_size=4, shuffle=False, num_workers=2)\r\n",
        "\r\n",
        "# dataiter = iter(my_testloader)\r\n",
        "# sample = dataiter.next()\r\n",
        "\r\n",
        "\r\n",
        "\r\n",
        "# print('input : ', sample['image'].shape)\r\n",
        "# imshow(torchvision.utils.make_grid(sample['image']))\r\n",
        "\r\n",
        "\r\n",
        "# print('landmarks : ',sample['landmark'].shape)\r\n",
        "# imshow_landmark(torchvision.utils.make_grid(sample['image']), sample['landmark'])\r\n",
        "\r\n",
        "\r\n",
        "# my_labels = torch.unsqueeze(sample['label'], 1)\r\n",
        "# print('segmentation label : ',my_labels.shape)\r\n",
        "# imshow_segmented(torchvision.utils.make_grid(my_labels))\r\n",
        "\r\n",
        "\r\n",
        "# ####################################\r\n",
        "# device = \"cpu\"\r\n",
        "# if torch.cuda.is_available():\r\n",
        "#     device = \"cuda:0\"\r\n",
        "#     if torch.cuda.device_count() > 1:\r\n",
        "#         my_net = nn.DataParallel(my_net)\r\n",
        "# my_net.to(device)\r\n",
        "\r\n",
        "\r\n",
        "# inputs, labels = sample['image'].float(), sample['label']\r\n",
        "# batch_size = int(inputs.shape[0])\r\n",
        "# inputs, labels = inputs.to(device), labels.to(device)\r\n",
        "# my_outputs = my_net(inputs)['out']\r\n",
        "# outputs = torch.squeeze(my_outputs, 0)\r\n",
        "# print('predicted outputs : ',outputs.shape)\r\n",
        "# imshow_segmented(torchvision.utils.make_grid(outputs))"
      ],
      "execution_count": null,
      "outputs": [
        {
          "output_type": "stream",
          "text": [
            "input :  torch.Size([4, 3, 1032, 1032])\n"
          ],
          "name": "stdout"
        },
        {
          "output_type": "display_data",
          "data": {
            "image/png": "[encoded data removed]",
            "text/plain": [
              "<Figure size 432x288 with 1 Axes>"
            ]
          },
          "metadata": {
            "tags": [],
            "needs_background": "light"
          }
        },
        {
          "output_type": "stream",
          "text": [
            "landmarks :  torch.Size([4, 100, 2])\n"
          ],
          "name": "stdout"
        },
        {
          "output_type": "display_data",
          "data": {
            "image/png": "[encoded data removed]",
            "text/plain": [
              "<Figure size 432x288 with 1 Axes>"
            ]
          },
          "metadata": {
            "tags": [],
            "needs_background": "light"
          }
        },
        {
          "output_type": "stream",
          "text": [
            "segmentation label :  torch.Size([4, 1, 256, 256])\n"
          ],
          "name": "stdout"
        },
        {
          "output_type": "display_data",
          "data": {
            "image/png": "[encoded data removed]",
            "text/plain": [
              "<Figure size 432x288 with 1 Axes>"
            ]
          },
          "metadata": {
            "tags": [],
            "needs_background": "light"
          }
        },
        {
          "output_type": "stream",
          "text": [
            "predicted outputs :  torch.Size([4, 2, 256, 256])\n"
          ],
          "name": "stdout"
        },
        {
          "output_type": "display_data",
          "data": {
            "image/png": "[encoded data removed]",
            "text/plain": [
              "<Figure size 432x288 with 1 Axes>"
            ]
          },
          "metadata": {
            "tags": [],
            "needs_background": "light"
          }
        }
      ]
    },
    {
      "cell_type": "code",
      "metadata": {
        "id": "LEeIVG8ncjzs"
      },
      "source": [
        ""
      ],
      "execution_count": null,
      "outputs": []
    }
  ]
}