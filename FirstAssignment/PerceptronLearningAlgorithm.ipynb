{
  "nbformat": 4,
  "nbformat_minor": 0,
  "metadata": {
    "colab": {
      "name": "PerceptronLearningAlgorithm.ipynb",
      "provenance": [],
      "authorship_tag": "ABX9TyOlCohS59G9pOyAVwxJUM9P",
      "include_colab_link": true
    },
    "kernelspec": {
      "name": "python3",
      "display_name": "Python 3"
    }
  },
  "cells": [
    {
      "cell_type": "markdown",
      "metadata": {
        "id": "view-in-github",
        "colab_type": "text"
      },
      "source": [
        "<a href=\"https://colab.research.google.com/github/alirezash97/Machine-Learning-Course/blob/main/PerceptronLearningAlgorithm.ipynb\" target=\"_parent\"><img src=\"https://colab.research.google.com/assets/colab-badge.svg\" alt=\"Open In Colab\"/></a>"
      ]
    },
    {
      "cell_type": "code",
      "metadata": {
        "id": "hg8knMZVPt4b"
      },
      "source": [
        "import pandas as pd\n",
        "import numpy as np\n",
        "import copy\n",
        "\n",
        "\n",
        "\n"
      ],
      "execution_count": 224,
      "outputs": []
    },
    {
      "cell_type": "code",
      "metadata": {
        "colab": {
          "base_uri": "https://localhost:8080/",
          "height": 462
        },
        "id": "NcgA459wcO5K",
        "outputId": "03ee4f9e-3644-4ad7-9c1f-193130825358"
      },
      "source": [
        "# linearly separable data\n",
        "\n",
        "dataframe = pd.read_csv('/content/PLA_Assignment1-1.csv')\n",
        "df = dataframe.loc[:, dataframe.columns.intersection(['X1','X2', 'Label'])]\n",
        "df = df.dropna(axis=0)\n",
        "df"
      ],
      "execution_count": 225,
      "outputs": [
        {
          "output_type": "execute_result",
          "data": {
            "text/html": [
              "<div>\n",
              "<style scoped>\n",
              "    .dataframe tbody tr th:only-of-type {\n",
              "        vertical-align: middle;\n",
              "    }\n",
              "\n",
              "    .dataframe tbody tr th {\n",
              "        vertical-align: top;\n",
              "    }\n",
              "\n",
              "    .dataframe thead th {\n",
              "        text-align: right;\n",
              "    }\n",
              "</style>\n",
              "<table border=\"1\" class=\"dataframe\">\n",
              "  <thead>\n",
              "    <tr style=\"text-align: right;\">\n",
              "      <th></th>\n",
              "      <th>X1</th>\n",
              "      <th>X2</th>\n",
              "      <th>Label</th>\n",
              "    </tr>\n",
              "  </thead>\n",
              "  <tbody>\n",
              "    <tr>\n",
              "      <th>0</th>\n",
              "      <td>3.0</td>\n",
              "      <td>0.2</td>\n",
              "      <td>-1.0</td>\n",
              "    </tr>\n",
              "    <tr>\n",
              "      <th>1</th>\n",
              "      <td>1.0</td>\n",
              "      <td>0.3</td>\n",
              "      <td>-1.0</td>\n",
              "    </tr>\n",
              "    <tr>\n",
              "      <th>2</th>\n",
              "      <td>4.0</td>\n",
              "      <td>0.5</td>\n",
              "      <td>-1.0</td>\n",
              "    </tr>\n",
              "    <tr>\n",
              "      <th>3</th>\n",
              "      <td>2.0</td>\n",
              "      <td>0.7</td>\n",
              "      <td>-1.0</td>\n",
              "    </tr>\n",
              "    <tr>\n",
              "      <th>4</th>\n",
              "      <td>0.0</td>\n",
              "      <td>1.0</td>\n",
              "      <td>-1.0</td>\n",
              "    </tr>\n",
              "    <tr>\n",
              "      <th>5</th>\n",
              "      <td>1.0</td>\n",
              "      <td>1.2</td>\n",
              "      <td>-1.0</td>\n",
              "    </tr>\n",
              "    <tr>\n",
              "      <th>6</th>\n",
              "      <td>1.0</td>\n",
              "      <td>1.7</td>\n",
              "      <td>-1.0</td>\n",
              "    </tr>\n",
              "    <tr>\n",
              "      <th>7</th>\n",
              "      <td>6.0</td>\n",
              "      <td>0.2</td>\n",
              "      <td>1.0</td>\n",
              "    </tr>\n",
              "    <tr>\n",
              "      <th>8</th>\n",
              "      <td>7.0</td>\n",
              "      <td>0.3</td>\n",
              "      <td>1.0</td>\n",
              "    </tr>\n",
              "    <tr>\n",
              "      <th>9</th>\n",
              "      <td>6.0</td>\n",
              "      <td>0.7</td>\n",
              "      <td>1.0</td>\n",
              "    </tr>\n",
              "    <tr>\n",
              "      <th>10</th>\n",
              "      <td>3.0</td>\n",
              "      <td>1.1</td>\n",
              "      <td>1.0</td>\n",
              "    </tr>\n",
              "    <tr>\n",
              "      <th>11</th>\n",
              "      <td>2.0</td>\n",
              "      <td>1.5</td>\n",
              "      <td>1.0</td>\n",
              "    </tr>\n",
              "    <tr>\n",
              "      <th>12</th>\n",
              "      <td>4.0</td>\n",
              "      <td>1.7</td>\n",
              "      <td>1.0</td>\n",
              "    </tr>\n",
              "    <tr>\n",
              "      <th>13</th>\n",
              "      <td>2.0</td>\n",
              "      <td>1.9</td>\n",
              "      <td>1.0</td>\n",
              "    </tr>\n",
              "  </tbody>\n",
              "</table>\n",
              "</div>"
            ],
            "text/plain": [
              "     X1   X2  Label\n",
              "0   3.0  0.2   -1.0\n",
              "1   1.0  0.3   -1.0\n",
              "2   4.0  0.5   -1.0\n",
              "3   2.0  0.7   -1.0\n",
              "4   0.0  1.0   -1.0\n",
              "5   1.0  1.2   -1.0\n",
              "6   1.0  1.7   -1.0\n",
              "7   6.0  0.2    1.0\n",
              "8   7.0  0.3    1.0\n",
              "9   6.0  0.7    1.0\n",
              "10  3.0  1.1    1.0\n",
              "11  2.0  1.5    1.0\n",
              "12  4.0  1.7    1.0\n",
              "13  2.0  1.9    1.0"
            ]
          },
          "metadata": {
            "tags": []
          },
          "execution_count": 225
        }
      ]
    },
    {
      "cell_type": "code",
      "metadata": {
        "colab": {
          "base_uri": "https://localhost:8080/",
          "height": 521
        },
        "id": "uUsfLxDVU_9T",
        "outputId": "9c20e037-2858-414a-df92-a9c98a4d435e"
      },
      "source": [
        "# not linearly separable data\n",
        "\n",
        "\n",
        "dataframe_pocket = pd.read_csv('/content/PLA_Assignment1-2.csv')\n",
        "df_pocket = dataframe_pocket.loc[:, dataframe_pocket.columns.intersection(['X1','X2', 'Label'])]\n",
        "df_pocket = df_pocket.dropna(axis=0)\n",
        "df_pocket"
      ],
      "execution_count": 226,
      "outputs": [
        {
          "output_type": "execute_result",
          "data": {
            "text/html": [
              "<div>\n",
              "<style scoped>\n",
              "    .dataframe tbody tr th:only-of-type {\n",
              "        vertical-align: middle;\n",
              "    }\n",
              "\n",
              "    .dataframe tbody tr th {\n",
              "        vertical-align: top;\n",
              "    }\n",
              "\n",
              "    .dataframe thead th {\n",
              "        text-align: right;\n",
              "    }\n",
              "</style>\n",
              "<table border=\"1\" class=\"dataframe\">\n",
              "  <thead>\n",
              "    <tr style=\"text-align: right;\">\n",
              "      <th></th>\n",
              "      <th>X1</th>\n",
              "      <th>X2</th>\n",
              "      <th>Label</th>\n",
              "    </tr>\n",
              "  </thead>\n",
              "  <tbody>\n",
              "    <tr>\n",
              "      <th>0</th>\n",
              "      <td>3.0</td>\n",
              "      <td>0.2</td>\n",
              "      <td>-1.0</td>\n",
              "    </tr>\n",
              "    <tr>\n",
              "      <th>1</th>\n",
              "      <td>1.0</td>\n",
              "      <td>0.3</td>\n",
              "      <td>-1.0</td>\n",
              "    </tr>\n",
              "    <tr>\n",
              "      <th>2</th>\n",
              "      <td>4.0</td>\n",
              "      <td>0.5</td>\n",
              "      <td>-1.0</td>\n",
              "    </tr>\n",
              "    <tr>\n",
              "      <th>3</th>\n",
              "      <td>2.0</td>\n",
              "      <td>0.7</td>\n",
              "      <td>-1.0</td>\n",
              "    </tr>\n",
              "    <tr>\n",
              "      <th>4</th>\n",
              "      <td>0.0</td>\n",
              "      <td>1.0</td>\n",
              "      <td>-1.0</td>\n",
              "    </tr>\n",
              "    <tr>\n",
              "      <th>5</th>\n",
              "      <td>1.0</td>\n",
              "      <td>1.2</td>\n",
              "      <td>-1.0</td>\n",
              "    </tr>\n",
              "    <tr>\n",
              "      <th>6</th>\n",
              "      <td>1.0</td>\n",
              "      <td>1.7</td>\n",
              "      <td>-1.0</td>\n",
              "    </tr>\n",
              "    <tr>\n",
              "      <th>7</th>\n",
              "      <td>6.0</td>\n",
              "      <td>0.2</td>\n",
              "      <td>1.0</td>\n",
              "    </tr>\n",
              "    <tr>\n",
              "      <th>8</th>\n",
              "      <td>7.0</td>\n",
              "      <td>0.3</td>\n",
              "      <td>1.0</td>\n",
              "    </tr>\n",
              "    <tr>\n",
              "      <th>9</th>\n",
              "      <td>6.0</td>\n",
              "      <td>0.7</td>\n",
              "      <td>1.0</td>\n",
              "    </tr>\n",
              "    <tr>\n",
              "      <th>10</th>\n",
              "      <td>3.0</td>\n",
              "      <td>1.1</td>\n",
              "      <td>1.0</td>\n",
              "    </tr>\n",
              "    <tr>\n",
              "      <th>11</th>\n",
              "      <td>2.0</td>\n",
              "      <td>1.5</td>\n",
              "      <td>1.0</td>\n",
              "    </tr>\n",
              "    <tr>\n",
              "      <th>12</th>\n",
              "      <td>4.0</td>\n",
              "      <td>1.7</td>\n",
              "      <td>1.0</td>\n",
              "    </tr>\n",
              "    <tr>\n",
              "      <th>13</th>\n",
              "      <td>2.0</td>\n",
              "      <td>1.9</td>\n",
              "      <td>1.0</td>\n",
              "    </tr>\n",
              "    <tr>\n",
              "      <th>14</th>\n",
              "      <td>5.0</td>\n",
              "      <td>1.0</td>\n",
              "      <td>-1.0</td>\n",
              "    </tr>\n",
              "    <tr>\n",
              "      <th>15</th>\n",
              "      <td>3.0</td>\n",
              "      <td>1.5</td>\n",
              "      <td>-1.0</td>\n",
              "    </tr>\n",
              "  </tbody>\n",
              "</table>\n",
              "</div>"
            ],
            "text/plain": [
              "     X1   X2  Label\n",
              "0   3.0  0.2   -1.0\n",
              "1   1.0  0.3   -1.0\n",
              "2   4.0  0.5   -1.0\n",
              "3   2.0  0.7   -1.0\n",
              "4   0.0  1.0   -1.0\n",
              "5   1.0  1.2   -1.0\n",
              "6   1.0  1.7   -1.0\n",
              "7   6.0  0.2    1.0\n",
              "8   7.0  0.3    1.0\n",
              "9   6.0  0.7    1.0\n",
              "10  3.0  1.1    1.0\n",
              "11  2.0  1.5    1.0\n",
              "12  4.0  1.7    1.0\n",
              "13  2.0  1.9    1.0\n",
              "14  5.0  1.0   -1.0\n",
              "15  3.0  1.5   -1.0"
            ]
          },
          "metadata": {
            "tags": []
          },
          "execution_count": 226
        }
      ]
    },
    {
      "cell_type": "code",
      "metadata": {
        "id": "zzZfnfZLcLRy"
      },
      "source": [
        "# Preprocessing\n",
        "# Add bias to dataset\n",
        "\n",
        "def preprocessing(df):\n",
        "  \n",
        "  x_without_bias = np.array(df.loc[:, df.columns.intersection(['X1','X2'])])\n",
        "  y = np.array(df.loc[:, df.columns.intersection(['Label'])])\n",
        "  number_of_samples = x_without_bias.shape[0]\n",
        "  number_of_features = x_without_bias.shape[1]\n",
        "  x = np.ones((number_of_samples, number_of_features+1))\n",
        "  x[:, 1:] = x_without_bias\n",
        "  \n",
        "  return x, y\n",
        "\n"
      ],
      "execution_count": 227,
      "outputs": []
    },
    {
      "cell_type": "code",
      "metadata": {
        "id": "6_qnvlaFZlzz"
      },
      "source": [
        "# This is a combination of PLA and Pocket Algorithm\n",
        "\n",
        "def PLA_Pocket(x, y, initial_weight, number_of_iterations, learning_rate):\n",
        "  \n",
        "\n",
        "  error = 0\n",
        "  number_of_samples = x.shape[0]\n",
        "  w = initial_weight\n",
        "  number_of_weights = w.shape[0]\n",
        "  \n",
        "  for i in range(number_of_iterations):\n",
        "    \n",
        "    iter = i\n",
        "    w_old = copy.deepcopy(w)\n",
        "    for j in range(number_of_samples):\n",
        "      \n",
        "      \n",
        "      x_sample = x[j].reshape(1, x[j].shape[0])\n",
        "      w = w.reshape(1, number_of_weights)\n",
        "      predicted_y = np.matmul(x_sample, w.T)\n",
        "      if np.sign(predicted_y) == y[j]:\n",
        "        w = w\n",
        "      else:\n",
        "        w += (learning_rate * np.multiply(y[j], x[j]))\n",
        "\n",
        "\n",
        "\n",
        "    # Convergation Check\n",
        "\n",
        "    comparison = w_old == w[0]\n",
        "    equal_arrays = comparison.all()\n",
        "\n",
        "    if equal_arrays:\n",
        "      print(\"The algorithm converged to the final weights in \", i, \" iterations\")\n",
        "      break\n",
        "    else:\n",
        "      pass\n",
        "  \n",
        "  if iter == number_of_iterations-1:\n",
        "    print(\"The convergation did not hapenned after \", iter+1, \"iterations\") \n",
        "\n",
        "  # Accuracy \n",
        "  \n",
        "  correctly_classified_samples = 0\n",
        "  for k in range(number_of_samples):\n",
        "    x_sample_k = x[k].reshape(1, x[k].shape[0])\n",
        "    predicted_sample = np.matmul(x_sample_k, w.T)\n",
        "    if np.sign(predicted_sample) == y[k]:\n",
        "      correctly_classified_samples += 1\n",
        "    else:\n",
        "      pass\n",
        "  accuracy = (correctly_classified_samples / number_of_samples)*100\n",
        "   \n",
        "  \n",
        "  return print(\"The final weights are : \", w, \"with \", accuracy, \" percent accuracy!\")\n",
        "\n"
      ],
      "execution_count": 234,
      "outputs": []
    },
    {
      "cell_type": "code",
      "metadata": {
        "colab": {
          "base_uri": "https://localhost:8080/"
        },
        "id": "0_RvXYMchyfc",
        "outputId": "af57d1ea-21d2-47c4-a46b-07d5eb83de73"
      },
      "source": [
        "# PLA w(a)\n",
        "\n",
        "x, y = preprocessing(df)\n",
        "initial_weight = np.array([0.2, 5.1, 2.3])\n",
        "number_of_iterations = 100\n",
        "learning_rate = 1\n",
        "PLA_Pocket(x, y, initial_weight, number_of_iterations, learning_rate)"
      ],
      "execution_count": 235,
      "outputs": [
        {
          "output_type": "stream",
          "text": [
            "The algorithm converged to the final weights in  37  iterations\n",
            "The final weights are :  [[-17.8   3.1   8.1]] with  100.0  percent accuracy!\n"
          ],
          "name": "stdout"
        }
      ]
    },
    {
      "cell_type": "code",
      "metadata": {
        "colab": {
          "base_uri": "https://localhost:8080/"
        },
        "id": "4WhNJhwBuEuy",
        "outputId": "a885c582-94be-47b7-d712-5c1b0fcc72b7"
      },
      "source": [
        "# PLA w(b)\n",
        "\n",
        "x, y = preprocessing(df)\n",
        "initial_weight = np.array([1.0, 1.0, 1.0])\n",
        "number_of_iterations = 100\n",
        "learning_rate = 1\n",
        "PLA_Pocket(x, y, initial_weight, number_of_iterations, learning_rate)"
      ],
      "execution_count": 236,
      "outputs": [
        {
          "output_type": "stream",
          "text": [
            "The algorithm converged to the final weights in  52  iterations\n",
            "The final weights are :  [[-23.    4.   10.7]] with  100.0  percent accuracy!\n"
          ],
          "name": "stdout"
        }
      ]
    },
    {
      "cell_type": "code",
      "metadata": {
        "colab": {
          "base_uri": "https://localhost:8080/"
        },
        "id": "Z-iaPr1Fj36B",
        "outputId": "e9ff5eff-9076-4589-e1b5-bcb115090f5d"
      },
      "source": [
        "# Pocket Learning\n",
        "\n",
        "x, y = preprocessing(df_pocket)\n",
        "initial_weight = np.array([0.2, 5.1, 2.3])\n",
        "number_of_iterations = 2000\n",
        "learning_rate = 1\n",
        "PLA_Pocket(x, y, initial_weight, number_of_iterations, learning_rate)"
      ],
      "execution_count": 242,
      "outputs": [
        {
          "output_type": "stream",
          "text": [
            "The convergation did not hapenned after  2000 iterations\n",
            "The final weights are :  [[-4.8  2.1 -3.9]] with  56.25  percent accuracy!\n"
          ],
          "name": "stdout"
        }
      ]
    },
    {
      "cell_type": "code",
      "metadata": {
        "id": "bBWOwunUsxCN"
      },
      "source": [
        ""
      ],
      "execution_count": null,
      "outputs": []
    }
  ]
}
